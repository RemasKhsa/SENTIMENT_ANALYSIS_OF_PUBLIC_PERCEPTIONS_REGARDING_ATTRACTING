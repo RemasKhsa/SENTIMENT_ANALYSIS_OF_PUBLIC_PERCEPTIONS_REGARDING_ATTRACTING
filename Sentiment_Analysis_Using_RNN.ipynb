{
  "cells": [
    {
      "cell_type": "markdown",
      "metadata": {
        "id": "A_OW58ozCXj3"
      },
      "source": [
        "##Sentiment Analysis Using Recurrent Neural Network"
      ]
    },
    {
      "cell_type": "code",
      "execution_count": 1,
      "metadata": {
        "id": "2zRPE2p2AlPw"
      },
      "outputs": [],
      "source": [
        "#Import req.libraries\n",
        "import numpy as np\n",
        "import pandas as pd\n",
        "import seaborn as sns\n",
        "import matplotlib.pyplot as plt\n",
        "from textblob import TextBlob\n",
        "from tensorflow.keras.models import Sequential\n",
        "from tensorflow.keras.layers import Embedding, SimpleRNN, Dense\n",
        "from tensorflow.keras.preprocessing.text import Tokenizer\n",
        "from tensorflow.keras.preprocessing.sequence import pad_sequences\n",
        "from tensorflow.keras.utils import to_categorical\n",
        "from sklearn.model_selection import train_test_split\n",
        "from sklearn.preprocessing import LabelEncoder\n",
        "from sklearn.metrics import confusion_matrix, classification_report, roc_auc_score, roc_curve, auc\n",
        "from textblob import TextBlob"
      ]
    },
    {
      "cell_type": "markdown",
      "metadata": {
        "id": "-CEuTLGge_hr"
      },
      "source": [
        "#Explore and load the dataset into a dataframe"
      ]
    },
    {
      "cell_type": "code",
      "execution_count": 2,
      "metadata": {
        "id": "NJ-u3vqmAdcB"
      },
      "outputs": [],
      "source": [
        "data = pd.read_csv('/content/final_dataset.csv')"
      ]
    },
    {
      "cell_type": "code",
      "execution_count": 3,
      "metadata": {
        "id": "mOjfxyOW1NZH"
      },
      "outputs": [],
      "source": [
        "# Apply the sentiment analysis function to the 'preprocessed_text_tokenized' column and create a new 'polarity' column\n",
        "data['polarity'] = data['preprocessed_text_tokenized'].apply(lambda x: TextBlob(x).sentiment.polarity)"
      ]
    },
    {
      "cell_type": "code",
      "execution_count": 4,
      "metadata": {
        "id": "r0GcPnhg1SXm"
      },
      "outputs": [],
      "source": [
        "# Assign labels based on polarity\n",
        "data['polarity_label'] = data['polarity'].apply(lambda x: 1 if x > 0 else 0 if x == 0 else -1)"
      ]
    },
    {
      "cell_type": "code",
      "execution_count": 5,
      "metadata": {
        "id": "WMFDwJhb1U-J"
      },
      "outputs": [],
      "source": [
        "data['Sentiment'] = data['polarity'].apply(lambda x: 'positive' if x > 0 else 'neutral' if x == 0 else 'negative')"
      ]
    },
    {
      "cell_type": "code",
      "execution_count": 6,
      "metadata": {
        "id": "i0WAagO2OBIk"
      },
      "outputs": [],
      "source": [
        "data.to_csv('/content/final_dataset_labeled.csv', index=False)"
      ]
    },
    {
      "cell_type": "code",
      "execution_count": 7,
      "metadata": {
        "colab": {
          "base_uri": "https://localhost:8080/"
        },
        "id": "dBHOc4z3Dk55",
        "outputId": "cdf872de-2ae9-4948-94e5-8816bdcd5824"
      },
      "outputs": [
        {
          "data": {
            "text/plain": [
              "(118298, 4)"
            ]
          },
          "execution_count": 7,
          "metadata": {},
          "output_type": "execute_result"
        }
      ],
      "source": [
        "data.shape"
      ]
    },
    {
      "cell_type": "code",
      "execution_count": 8,
      "metadata": {
        "colab": {
          "base_uri": "https://localhost:8080/",
          "height": 204
        },
        "id": "vCwv_j_1IPGB",
        "outputId": "c32d218f-f91c-481b-dde2-e6a85631ff25"
      },
      "outputs": [
        {
          "data": {
            "application/vnd.google.colaboratory.intrinsic+json": {
              "type": "dataframe",
              "variable_name": "data"
            },
            "text/html": [
              "\n",
              "  <div id=\"df-b0cc3e15-2f05-4c2c-810a-a5fb1cd0f982\" class=\"colab-df-container\">\n",
              "    <div>\n",
              "<style scoped>\n",
              "    .dataframe tbody tr th:only-of-type {\n",
              "        vertical-align: middle;\n",
              "    }\n",
              "\n",
              "    .dataframe tbody tr th {\n",
              "        vertical-align: top;\n",
              "    }\n",
              "\n",
              "    .dataframe thead th {\n",
              "        text-align: right;\n",
              "    }\n",
              "</style>\n",
              "<table border=\"1\" class=\"dataframe\">\n",
              "  <thead>\n",
              "    <tr style=\"text-align: right;\">\n",
              "      <th></th>\n",
              "      <th>preprocessed_text_tokenized</th>\n",
              "      <th>polarity</th>\n",
              "      <th>polarity_label</th>\n",
              "      <th>Sentiment</th>\n",
              "    </tr>\n",
              "  </thead>\n",
              "  <tbody>\n",
              "    <tr>\n",
              "      <th>0</th>\n",
              "      <td>['yet', 'benzema', 'co', 'dy', 'stink', 'saudi...</td>\n",
              "      <td>0.8</td>\n",
              "      <td>1</td>\n",
              "      <td>positive</td>\n",
              "    </tr>\n",
              "    <tr>\n",
              "      <th>1</th>\n",
              "      <td>['talk', 'ronaldo', 'top', 'player', 'saudi', ...</td>\n",
              "      <td>0.5</td>\n",
              "      <td>1</td>\n",
              "      <td>positive</td>\n",
              "    </tr>\n",
              "    <tr>\n",
              "      <th>2</th>\n",
              "      <td>['speak', 'reality', 'penaldo', 'delude', 'hat...</td>\n",
              "      <td>-0.4</td>\n",
              "      <td>-1</td>\n",
              "      <td>negative</td>\n",
              "    </tr>\n",
              "    <tr>\n",
              "      <th>3</th>\n",
              "      <td>['obviously', 'know', 'ligue', 'one', 'player'...</td>\n",
              "      <td>0.0</td>\n",
              "      <td>0</td>\n",
              "      <td>neutral</td>\n",
              "    </tr>\n",
              "    <tr>\n",
              "      <th>4</th>\n",
              "      <td>['forgotten', 'benzema', 'firminho', 'mahrez',...</td>\n",
              "      <td>0.0</td>\n",
              "      <td>0</td>\n",
              "      <td>neutral</td>\n",
              "    </tr>\n",
              "  </tbody>\n",
              "</table>\n",
              "</div>\n",
              "    <div class=\"colab-df-buttons\">\n",
              "\n",
              "  <div class=\"colab-df-container\">\n",
              "    <button class=\"colab-df-convert\" onclick=\"convertToInteractive('df-b0cc3e15-2f05-4c2c-810a-a5fb1cd0f982')\"\n",
              "            title=\"Convert this dataframe to an interactive table.\"\n",
              "            style=\"display:none;\">\n",
              "\n",
              "  <svg xmlns=\"http://www.w3.org/2000/svg\" height=\"24px\" viewBox=\"0 -960 960 960\">\n",
              "    <path d=\"M120-120v-720h720v720H120Zm60-500h600v-160H180v160Zm220 220h160v-160H400v160Zm0 220h160v-160H400v160ZM180-400h160v-160H180v160Zm440 0h160v-160H620v160ZM180-180h160v-160H180v160Zm440 0h160v-160H620v160Z\"/>\n",
              "  </svg>\n",
              "    </button>\n",
              "\n",
              "  <style>\n",
              "    .colab-df-container {\n",
              "      display:flex;\n",
              "      gap: 12px;\n",
              "    }\n",
              "\n",
              "    .colab-df-convert {\n",
              "      background-color: #E8F0FE;\n",
              "      border: none;\n",
              "      border-radius: 50%;\n",
              "      cursor: pointer;\n",
              "      display: none;\n",
              "      fill: #1967D2;\n",
              "      height: 32px;\n",
              "      padding: 0 0 0 0;\n",
              "      width: 32px;\n",
              "    }\n",
              "\n",
              "    .colab-df-convert:hover {\n",
              "      background-color: #E2EBFA;\n",
              "      box-shadow: 0px 1px 2px rgba(60, 64, 67, 0.3), 0px 1px 3px 1px rgba(60, 64, 67, 0.15);\n",
              "      fill: #174EA6;\n",
              "    }\n",
              "\n",
              "    .colab-df-buttons div {\n",
              "      margin-bottom: 4px;\n",
              "    }\n",
              "\n",
              "    [theme=dark] .colab-df-convert {\n",
              "      background-color: #3B4455;\n",
              "      fill: #D2E3FC;\n",
              "    }\n",
              "\n",
              "    [theme=dark] .colab-df-convert:hover {\n",
              "      background-color: #434B5C;\n",
              "      box-shadow: 0px 1px 3px 1px rgba(0, 0, 0, 0.15);\n",
              "      filter: drop-shadow(0px 1px 2px rgba(0, 0, 0, 0.3));\n",
              "      fill: #FFFFFF;\n",
              "    }\n",
              "  </style>\n",
              "\n",
              "    <script>\n",
              "      const buttonEl =\n",
              "        document.querySelector('#df-b0cc3e15-2f05-4c2c-810a-a5fb1cd0f982 button.colab-df-convert');\n",
              "      buttonEl.style.display =\n",
              "        google.colab.kernel.accessAllowed ? 'block' : 'none';\n",
              "\n",
              "      async function convertToInteractive(key) {\n",
              "        const element = document.querySelector('#df-b0cc3e15-2f05-4c2c-810a-a5fb1cd0f982');\n",
              "        const dataTable =\n",
              "          await google.colab.kernel.invokeFunction('convertToInteractive',\n",
              "                                                    [key], {});\n",
              "        if (!dataTable) return;\n",
              "\n",
              "        const docLinkHtml = 'Like what you see? Visit the ' +\n",
              "          '<a target=\"_blank\" href=https://colab.research.google.com/notebooks/data_table.ipynb>data table notebook</a>'\n",
              "          + ' to learn more about interactive tables.';\n",
              "        element.innerHTML = '';\n",
              "        dataTable['output_type'] = 'display_data';\n",
              "        await google.colab.output.renderOutput(dataTable, element);\n",
              "        const docLink = document.createElement('div');\n",
              "        docLink.innerHTML = docLinkHtml;\n",
              "        element.appendChild(docLink);\n",
              "      }\n",
              "    </script>\n",
              "  </div>\n",
              "\n",
              "\n",
              "<div id=\"df-e7678f1c-fd9d-4aff-b935-4b0b40a89baf\">\n",
              "  <button class=\"colab-df-quickchart\" onclick=\"quickchart('df-e7678f1c-fd9d-4aff-b935-4b0b40a89baf')\"\n",
              "            title=\"Suggest charts\"\n",
              "            style=\"display:none;\">\n",
              "\n",
              "<svg xmlns=\"http://www.w3.org/2000/svg\" height=\"24px\"viewBox=\"0 0 24 24\"\n",
              "     width=\"24px\">\n",
              "    <g>\n",
              "        <path d=\"M19 3H5c-1.1 0-2 .9-2 2v14c0 1.1.9 2 2 2h14c1.1 0 2-.9 2-2V5c0-1.1-.9-2-2-2zM9 17H7v-7h2v7zm4 0h-2V7h2v10zm4 0h-2v-4h2v4z\"/>\n",
              "    </g>\n",
              "</svg>\n",
              "  </button>\n",
              "\n",
              "<style>\n",
              "  .colab-df-quickchart {\n",
              "      --bg-color: #E8F0FE;\n",
              "      --fill-color: #1967D2;\n",
              "      --hover-bg-color: #E2EBFA;\n",
              "      --hover-fill-color: #174EA6;\n",
              "      --disabled-fill-color: #AAA;\n",
              "      --disabled-bg-color: #DDD;\n",
              "  }\n",
              "\n",
              "  [theme=dark] .colab-df-quickchart {\n",
              "      --bg-color: #3B4455;\n",
              "      --fill-color: #D2E3FC;\n",
              "      --hover-bg-color: #434B5C;\n",
              "      --hover-fill-color: #FFFFFF;\n",
              "      --disabled-bg-color: #3B4455;\n",
              "      --disabled-fill-color: #666;\n",
              "  }\n",
              "\n",
              "  .colab-df-quickchart {\n",
              "    background-color: var(--bg-color);\n",
              "    border: none;\n",
              "    border-radius: 50%;\n",
              "    cursor: pointer;\n",
              "    display: none;\n",
              "    fill: var(--fill-color);\n",
              "    height: 32px;\n",
              "    padding: 0;\n",
              "    width: 32px;\n",
              "  }\n",
              "\n",
              "  .colab-df-quickchart:hover {\n",
              "    background-color: var(--hover-bg-color);\n",
              "    box-shadow: 0 1px 2px rgba(60, 64, 67, 0.3), 0 1px 3px 1px rgba(60, 64, 67, 0.15);\n",
              "    fill: var(--button-hover-fill-color);\n",
              "  }\n",
              "\n",
              "  .colab-df-quickchart-complete:disabled,\n",
              "  .colab-df-quickchart-complete:disabled:hover {\n",
              "    background-color: var(--disabled-bg-color);\n",
              "    fill: var(--disabled-fill-color);\n",
              "    box-shadow: none;\n",
              "  }\n",
              "\n",
              "  .colab-df-spinner {\n",
              "    border: 2px solid var(--fill-color);\n",
              "    border-color: transparent;\n",
              "    border-bottom-color: var(--fill-color);\n",
              "    animation:\n",
              "      spin 1s steps(1) infinite;\n",
              "  }\n",
              "\n",
              "  @keyframes spin {\n",
              "    0% {\n",
              "      border-color: transparent;\n",
              "      border-bottom-color: var(--fill-color);\n",
              "      border-left-color: var(--fill-color);\n",
              "    }\n",
              "    20% {\n",
              "      border-color: transparent;\n",
              "      border-left-color: var(--fill-color);\n",
              "      border-top-color: var(--fill-color);\n",
              "    }\n",
              "    30% {\n",
              "      border-color: transparent;\n",
              "      border-left-color: var(--fill-color);\n",
              "      border-top-color: var(--fill-color);\n",
              "      border-right-color: var(--fill-color);\n",
              "    }\n",
              "    40% {\n",
              "      border-color: transparent;\n",
              "      border-right-color: var(--fill-color);\n",
              "      border-top-color: var(--fill-color);\n",
              "    }\n",
              "    60% {\n",
              "      border-color: transparent;\n",
              "      border-right-color: var(--fill-color);\n",
              "    }\n",
              "    80% {\n",
              "      border-color: transparent;\n",
              "      border-right-color: var(--fill-color);\n",
              "      border-bottom-color: var(--fill-color);\n",
              "    }\n",
              "    90% {\n",
              "      border-color: transparent;\n",
              "      border-bottom-color: var(--fill-color);\n",
              "    }\n",
              "  }\n",
              "</style>\n",
              "\n",
              "  <script>\n",
              "    async function quickchart(key) {\n",
              "      const quickchartButtonEl =\n",
              "        document.querySelector('#' + key + ' button');\n",
              "      quickchartButtonEl.disabled = true;  // To prevent multiple clicks.\n",
              "      quickchartButtonEl.classList.add('colab-df-spinner');\n",
              "      try {\n",
              "        const charts = await google.colab.kernel.invokeFunction(\n",
              "            'suggestCharts', [key], {});\n",
              "      } catch (error) {\n",
              "        console.error('Error during call to suggestCharts:', error);\n",
              "      }\n",
              "      quickchartButtonEl.classList.remove('colab-df-spinner');\n",
              "      quickchartButtonEl.classList.add('colab-df-quickchart-complete');\n",
              "    }\n",
              "    (() => {\n",
              "      let quickchartButtonEl =\n",
              "        document.querySelector('#df-e7678f1c-fd9d-4aff-b935-4b0b40a89baf button');\n",
              "      quickchartButtonEl.style.display =\n",
              "        google.colab.kernel.accessAllowed ? 'block' : 'none';\n",
              "    })();\n",
              "  </script>\n",
              "</div>\n",
              "\n",
              "    </div>\n",
              "  </div>\n"
            ],
            "text/plain": [
              "                         preprocessed_text_tokenized  polarity  \\\n",
              "0  ['yet', 'benzema', 'co', 'dy', 'stink', 'saudi...       0.8   \n",
              "1  ['talk', 'ronaldo', 'top', 'player', 'saudi', ...       0.5   \n",
              "2  ['speak', 'reality', 'penaldo', 'delude', 'hat...      -0.4   \n",
              "3  ['obviously', 'know', 'ligue', 'one', 'player'...       0.0   \n",
              "4  ['forgotten', 'benzema', 'firminho', 'mahrez',...       0.0   \n",
              "\n",
              "   polarity_label Sentiment  \n",
              "0               1  positive  \n",
              "1               1  positive  \n",
              "2              -1  negative  \n",
              "3               0   neutral  \n",
              "4               0   neutral  "
            ]
          },
          "execution_count": 8,
          "metadata": {},
          "output_type": "execute_result"
        }
      ],
      "source": [
        "data.head()"
      ]
    },
    {
      "cell_type": "code",
      "execution_count": 9,
      "metadata": {
        "id": "PrLc144vEXu7"
      },
      "outputs": [],
      "source": [
        "del data['polarity']"
      ]
    },
    {
      "cell_type": "code",
      "execution_count": 10,
      "metadata": {
        "id": "zXzrusQcH7aD"
      },
      "outputs": [],
      "source": [
        "del data['polarity_label']"
      ]
    },
    {
      "cell_type": "code",
      "execution_count": 11,
      "metadata": {
        "colab": {
          "base_uri": "https://localhost:8080/"
        },
        "id": "J2s46HEgf_2j",
        "outputId": "a74bb48b-f44a-4f20-e1dc-cd36677c9230"
      },
      "outputs": [
        {
          "data": {
            "text/plain": [
              "(118298, 2)"
            ]
          },
          "execution_count": 11,
          "metadata": {},
          "output_type": "execute_result"
        }
      ],
      "source": [
        "data.shape"
      ]
    },
    {
      "cell_type": "code",
      "execution_count": 12,
      "metadata": {
        "id": "ERa390BxgBHt"
      },
      "outputs": [],
      "source": [
        "text = data['preprocessed_text_tokenized'].values\n",
        "sentiment = data['Sentiment'].values"
      ]
    },
    {
      "cell_type": "markdown",
      "metadata": {
        "id": "47FXrEk93RGs"
      },
      "source": [
        "## Preprocessing on The dataset"
      ]
    },
    {
      "cell_type": "code",
      "execution_count": 13,
      "metadata": {
        "id": "5_EAlUI2gNfs"
      },
      "outputs": [],
      "source": [
        "# Tokenization & Padding the text data\n",
        "tokenizer = Tokenizer()\n",
        "tokenizer.fit_on_texts(text)\n",
        "X_sequence = tokenizer.texts_to_sequences(text)\n",
        "max_sequence_length = max([len(seq) for seq in X_sequence])\n",
        "X_padded = pad_sequences(X_sequence, maxlen=max_sequence_length)"
      ]
    },
    {
      "cell_type": "code",
      "execution_count": 14,
      "metadata": {
        "id": "lvpRjkLjgQ1C"
      },
      "outputs": [],
      "source": [
        "# Convert the Sentiment labels to Numerical format\n",
        "label_encoder = LabelEncoder()\n",
        "y = label_encoder.fit_transform(sentiment)\n",
        "y_categorical = to_categorical(y, num_classes=3)  # Assuming 3 sentiment classes\n"
      ]
    },
    {
      "cell_type": "markdown",
      "metadata": {
        "id": "j49HKSK-3YtW"
      },
      "source": [
        "## Train The model"
      ]
    },
    {
      "cell_type": "code",
      "execution_count": 15,
      "metadata": {
        "id": "boWTxKcPgVLh"
      },
      "outputs": [],
      "source": [
        "# Build the RNN model\n",
        "rnn = Sequential()\n",
        "rnn.add(Embedding(input_dim=len(tokenizer.word_index)+1, output_dim=64, input_length=max_sequence_length))\n",
        "rnn.add(SimpleRNN(64))  # Using a SimpleRNN layer\n",
        "rnn.add(Dense(3, activation='softmax'))  # 3 output classes for sentiment analysis"
      ]
    },
    {
      "cell_type": "code",
      "execution_count": 16,
      "metadata": {
        "id": "vf-xz_UAgYTh"
      },
      "outputs": [],
      "source": [
        "#Compile the RNN model\n",
        "rnn.compile(loss='categorical_crossentropy', optimizer='adam', metrics=['accuracy'])"
      ]
    },
    {
      "cell_type": "code",
      "execution_count": 17,
      "metadata": {
        "id": "bZEVXb1s2yck"
      },
      "outputs": [],
      "source": [
        "# Split the data into training and testing sets\n",
        "X_train, X_test, y_train, y_test = train_test_split(X_padded, y_categorical, test_size=0.2, random_state=42)"
      ]
    },
    {
      "cell_type": "code",
      "execution_count": 18,
      "metadata": {
        "colab": {
          "base_uri": "https://localhost:8080/"
        },
        "id": "GDyFy7tagdOA",
        "outputId": "5a7e32be-c1f1-4cdb-d4bf-904b46f0fba1"
      },
      "outputs": [
        {
          "name": "stdout",
          "output_type": "stream",
          "text": [
            "Epoch 1/15\n",
            "1479/1479 [==============================] - 1003s 677ms/step - loss: 0.8543 - accuracy: 0.6042 - val_loss: 0.4305 - val_accuracy: 0.8466\n",
            "Epoch 2/15\n",
            "1479/1479 [==============================] - 968s 655ms/step - loss: 0.2134 - accuracy: 0.9330 - val_loss: 0.1632 - val_accuracy: 0.9511\n",
            "Epoch 3/15\n",
            "1479/1479 [==============================] - 970s 656ms/step - loss: 0.1077 - accuracy: 0.9686 - val_loss: 0.1422 - val_accuracy: 0.9567\n",
            "Epoch 4/15\n",
            "1479/1479 [==============================] - 962s 650ms/step - loss: 0.1272 - accuracy: 0.9584 - val_loss: 0.2352 - val_accuracy: 0.9291\n",
            "Epoch 5/15\n",
            "1479/1479 [==============================] - 965s 652ms/step - loss: 0.0842 - accuracy: 0.9760 - val_loss: 0.1501 - val_accuracy: 0.9551\n",
            "Epoch 6/15\n",
            "1479/1479 [==============================] - 964s 652ms/step - loss: 0.0744 - accuracy: 0.9782 - val_loss: 0.1768 - val_accuracy: 0.9551\n",
            "Epoch 7/15\n",
            "1479/1479 [==============================] - 965s 652ms/step - loss: 0.0550 - accuracy: 0.9841 - val_loss: 0.1630 - val_accuracy: 0.9557\n",
            "Epoch 8/15\n",
            "1479/1479 [==============================] - 977s 661ms/step - loss: 0.0444 - accuracy: 0.9870 - val_loss: 0.1881 - val_accuracy: 0.9577\n",
            "Epoch 9/15\n",
            "1479/1479 [==============================] - 969s 655ms/step - loss: 0.0441 - accuracy: 0.9870 - val_loss: 0.1667 - val_accuracy: 0.9566\n",
            "Epoch 10/15\n",
            "1479/1479 [==============================] - 966s 653ms/step - loss: 0.0306 - accuracy: 0.9908 - val_loss: 0.1800 - val_accuracy: 0.9603\n",
            "Epoch 11/15\n",
            "1479/1479 [==============================] - 977s 660ms/step - loss: 0.0296 - accuracy: 0.9913 - val_loss: 0.1781 - val_accuracy: 0.9540\n",
            "Epoch 12/15\n",
            "1479/1479 [==============================] - 971s 656ms/step - loss: 0.0273 - accuracy: 0.9921 - val_loss: 0.1775 - val_accuracy: 0.9606\n",
            "Epoch 13/15\n",
            "1479/1479 [==============================] - 971s 657ms/step - loss: 0.0494 - accuracy: 0.9861 - val_loss: 0.3831 - val_accuracy: 0.8998\n",
            "Epoch 14/15\n",
            "1479/1479 [==============================] - 975s 659ms/step - loss: 0.0325 - accuracy: 0.9906 - val_loss: 0.1912 - val_accuracy: 0.9566\n",
            "Epoch 15/15\n",
            "1479/1479 [==============================] - 969s 655ms/step - loss: 0.0260 - accuracy: 0.9926 - val_loss: 0.1883 - val_accuracy: 0.9560\n"
          ]
        },
        {
          "data": {
            "text/plain": [
              "<keras.src.callbacks.History at 0x7bcd890140d0>"
            ]
          },
          "execution_count": 18,
          "metadata": {},
          "output_type": "execute_result"
        }
      ],
      "source": [
        "# Train the model\n",
        "rnn.fit(X_train, y_train, epochs=15, batch_size=64, validation_data=(X_test, y_test))"
      ]
    },
    {
      "cell_type": "markdown",
      "metadata": {
        "id": "xKBJyT_p3iaB"
      },
      "source": [
        "## Evaluate the model"
      ]
    },
    {
      "cell_type": "code",
      "execution_count": 19,
      "metadata": {
        "colab": {
          "base_uri": "https://localhost:8080/"
        },
        "id": "IiJZNcNeAbRU",
        "outputId": "b82dcd3c-fe83-4314-8478-a3c2902cdad4"
      },
      "outputs": [
        {
          "name": "stdout",
          "output_type": "stream",
          "text": [
            "740/740 [==============================] - 52s 70ms/step\n"
          ]
        }
      ],
      "source": [
        "# Evaluate the model on the test set\n",
        "y_pred = rnn.predict(X_test)\n",
        "y_pred_labels = np.argmax(y_pred, axis=1)\n",
        "y_true_labels = np.argmax(y_test, axis=1)"
      ]
    },
    {
      "cell_type": "markdown",
      "metadata": {
        "id": "3pSLsrfY5eqi"
      },
      "source": [
        "## Evaluation Metrics"
      ]
    },
    {
      "cell_type": "code",
      "execution_count": 22,
      "metadata": {
        "colab": {
          "base_uri": "https://localhost:8080/",
          "height": 632
        },
        "id": "smP35FMWE8j7",
        "outputId": "61274fc7-948f-4686-cbeb-6e069f35e935"
      },
      "outputs": [
        {
          "name": "stdout",
          "output_type": "stream",
          "text": [
            "Confusion Matrix:\n",
            "[[ 3888    97   380]\n",
            " [   91  8003    98]\n",
            " [  307    67 10729]]\n"
          ]
        },
        {
          "data": {
            "image/png": "[encoded data removed]",
            "text/plain": [
              "<Figure size 800x600 with 2 Axes>"
            ]
          },
          "metadata": {},
          "output_type": "display_data"
        }
      ],
      "source": [
        "# Compute Confusion Matrix\n",
        "conf_matrix = confusion_matrix(y_true_labels, y_pred_labels)\n",
        "print(\"Confusion Matrix:\")\n",
        "print(conf_matrix)\n",
        "\n",
        "# Plot confusion matrix using seaborn heatmap\n",
        "plt.figure(figsize=(8, 6))\n",
        "sns.heatmap(conf_matrix, annot=True, fmt='d', cmap='Blues' ,\n",
        "            xticklabels=['Negative', 'Neutral', 'Positive'],\n",
        "            yticklabels=['Negative', 'Neutral', 'Positive'])\n",
        "plt.title('Confusion Matrix')\n",
        "plt.xlabel('Predicted Label')\n",
        "plt.ylabel('True Label')\n",
        "plt.show()"
      ]
    },
    {
      "cell_type": "code",
      "execution_count": 23,
      "metadata": {
        "colab": {
          "base_uri": "https://localhost:8080/",
          "height": 489
        },
        "id": "XeEqAJNF6-yM",
        "outputId": "ba33cddf-c99c-4143-9195-0a14312ace58"
      },
      "outputs": [
        {
          "name": "stdout",
          "output_type": "stream",
          "text": [
            "ROC AUC Score: 0.9877\n"
          ]
        },
        {
          "data": {
            "image/png": "[encoded data removed]",
            "text/plain": [
              "<Figure size 640x480 with 1 Axes>"
            ]
          },
          "metadata": {},
          "output_type": "display_data"
        }
      ],
      "source": [
        "# ROC/AUC\n",
        "fpr = dict()\n",
        "tpr = dict()\n",
        "roc_auc = dict()\n",
        "for i in range(3):  # Assuming 3 classes\n",
        "    fpr[i], tpr[i], _ = roc_curve(y_test[:, i], y_pred[:, i])\n",
        "    roc_auc[i] = auc(fpr[i], tpr[i])\n",
        "\n",
        "# Print the ROC/AUC for the model\n",
        "auc_score = roc_auc_score(y_test, y_pred, multi_class='ovr')  # Assuming 'ovr' for multi-class\n",
        "print(f\"ROC AUC Score: {auc_score:.4f}\")\n",
        "\n",
        "# Plot ROC curve\n",
        "plt.figure()\n",
        "plt.plot(fpr[2], tpr[2], color='darkorange', lw=2, label='ROC curve (area = %0.2f)' % roc_auc[2])\n",
        "plt.plot([0, 1], [0, 1], color='navy', lw=2, linestyle='--')\n",
        "plt.xlim([0.0, 1.0])\n",
        "plt.ylim([0.0, 1.05])\n",
        "plt.xlabel('False Positive Rate')\n",
        "plt.ylabel('True Positive Rate')\n",
        "plt.title('Receiver Operating Characteristic')\n",
        "plt.legend(loc=\"lower right\")\n",
        "plt.show()"
      ]
    },
    {
      "cell_type": "code",
      "execution_count": 25,
      "metadata": {
        "colab": {
          "base_uri": "https://localhost:8080/"
        },
        "id": "uIXhKjHXKx8S",
        "outputId": "46fa8a33-7583-437c-c417-837fe3cf25f3"
      },
      "outputs": [
        {
          "name": "stdout",
          "output_type": "stream",
          "text": [
            "Classification Report:\n",
            "              precision    recall  f1-score   support\n",
            "\n",
            "           0       0.91      0.89      0.90      4365\n",
            "           1       0.98      0.98      0.98      8192\n",
            "           2       0.96      0.97      0.96     11103\n",
            "\n",
            "    accuracy                           0.96     23660\n",
            "   macro avg       0.95      0.94      0.95     23660\n",
            "weighted avg       0.96      0.96      0.96     23660\n",
            "\n"
          ]
        }
      ],
      "source": [
        "# Classification Report\n",
        "class_report = classification_report(y_true_labels, y_pred_labels)\n",
        "print(\"Classification Report:\")\n",
        "print(class_report)"
      ]
    },
    {
      "cell_type": "code",
      "execution_count": 24,
      "metadata": {
        "colab": {
          "base_uri": "https://localhost:8080/"
        },
        "id": "1dAv-RNM64H5",
        "outputId": "19813ff4-524c-432f-d96a-c98e3be29f46"
      },
      "outputs": [
        {
          "name": "stdout",
          "output_type": "stream",
          "text": [
            "2958/2958 [==============================] - 211s 71ms/step - loss: 0.0132 - accuracy: 0.9968\n",
            "740/740 [==============================] - 53s 71ms/step - loss: 0.1883 - accuracy: 0.9560\n",
            "Training Set Accuracy: 99.6756\n",
            "Test Set Accuracy: 95.6044\n"
          ]
        }
      ],
      "source": [
        "# Print the model accuracy\n",
        "_, training_accuracy = rnn.evaluate(X_train, y_train)  # Evaluate the model on the training data and get the accuracy\n",
        "_, test_accuracy = rnn.evaluate(X_test, y_test)  # Evaluate the model on the test data and get the accuracy\n",
        "print(f'Training Set Accuracy: {training_accuracy * 100 :.4f}')\n",
        "print(f'Test Set Accuracy: {test_accuracy * 100 :.4f}')"
      ]
    },
    {
      "cell_type": "code",
      "execution_count": 26,
      "metadata": {
        "colab": {
          "base_uri": "https://localhost:8080/"
        },
        "id": "3HrXsNibMI2w",
        "outputId": "13f2e30a-ee91-44d6-eec9-73eafe911e68"
      },
      "outputs": [
        {
          "name": "stdout",
          "output_type": "stream",
          "text": [
            "740/740 [==============================] - 53s 72ms/step - loss: 0.1883 - accuracy: 0.9560\n",
            "Recurrent Neural Network model accuracy: 0.9560439586639404\n"
          ]
        }
      ],
      "source": [
        "# Evaluate the model on the test dataset\n",
        "test_loss, test_accuracy = rnn.evaluate(X_test, y_test)\n",
        "\n",
        "print(f'Recurrent Neural Network model accuracy: {test_accuracy}')"
      ]
    },
    {
      "cell_type": "markdown",
      "metadata": {
        "id": "TTqaDssm3sHG"
      },
      "source": [
        "## Save the result"
      ]
    },
    {
      "cell_type": "code",
      "execution_count": 20,
      "metadata": {
        "colab": {
          "base_uri": "https://localhost:8080/"
        },
        "id": "Px_JqCU5gi0K",
        "outputId": "6b2fce6e-4a91-4ee4-d858-e61a48907170"
      },
      "outputs": [
        {
          "name": "stdout",
          "output_type": "stream",
          "text": [
            "The true labels and predicted labels have been saved to RNN_Predict_result.csv.csv.\n"
          ]
        }
      ],
      "source": [
        "# Create a DataFrame with true and predicted labels\n",
        "df = pd.DataFrame({\n",
        "    'True Label': y_true_labels,\n",
        "    'Predicted Label': y_pred_labels\n",
        "    })\n",
        "\n",
        "# Define the file path for saving the CSV file\n",
        "file_path = 'RNN_Predict_result.csv.csv'\n",
        "\n",
        "# Save the DataFrame to a new CSV file\n",
        "df.to_csv(file_path, index=False)\n",
        "\n",
        "print(f\"The true labels and predicted labels have been saved to {file_path}.\")\n"
      ]
    },
    {
      "cell_type": "code",
      "execution_count": null,
      "metadata": {},
      "outputs": [],
      "source": [
        "df1 = pd.read_csv('/content/RNN_Predict_result.csv.csv')\n",
        "\n",
        "# Count the occurrences of each sentiment label\n",
        "sentiment_counts = df1['Predicted Label'].value_counts()\n",
        "\n",
        "# Print the count of each sentiment label\n",
        "print(\"Count of Neutral Sentiment :{}\".format(sentiment_counts[1]))\n",
        "print(\"Count of Positive Sentiment : {}\".format(sentiment_counts[2]))\n",
        "print(\"Count of Negative Sentiment : {}\".format(sentiment_counts[0]))"
      ]
    },
    {
      "cell_type": "code",
      "execution_count": null,
      "metadata": {},
      "outputs": [],
      "source": [
        "count_of_negative = 4286\n",
        "count_of_neutral = 8167\n",
        "count_of_positive = 11207\n",
        "\n",
        "# Calculate the total count of all sentiments\n",
        "total_count = count_of_neutral + count_of_positive + count_of_negative\n",
        "\n",
        "# Calculate the percentage of each sentiment label\n",
        "neutral_percentage = (count_of_neutral / total_count) * 100\n",
        "positive_percentage = (count_of_positive / total_count) * 100\n",
        "negative_percentage = (count_of_negative / total_count) * 100\n",
        "\n",
        "# Print the percentage of each sentiment label\n",
        "print(\"Neutral Sentiment: {:.2f}%\".format(neutral_percentage))\n",
        "print(\"Positive Sentiment: {:.2f}%\".format(positive_percentage))\n",
        "print(\"Negative Sentiment: {:.2f}%\".format(negative_percentage))"
      ]
    }
  ],
  "metadata": {
    "accelerator": "GPU",
    "colab": {
      "gpuType": "V100",
      "machine_shape": "hm",
      "provenance": []
    },
    "kernelspec": {
      "display_name": "Python 3",
      "name": "python3"
    },
    "language_info": {
      "name": "python"
    }
  },
  "nbformat": 4,
  "nbformat_minor": 0
}
