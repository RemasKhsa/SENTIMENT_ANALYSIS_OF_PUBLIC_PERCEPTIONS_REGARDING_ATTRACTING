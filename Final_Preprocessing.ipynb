{
  "cells": [
    {
      "cell_type": "markdown",
      "metadata": {
        "id": "KppRrzQ7s-Gb"
      },
      "source": [
        "## **Sentiment Analysis Preprocessing**\n"
      ]
    },
    {
      "cell_type": "code",
      "execution_count": null,
      "metadata": {
        "colab": {
          "base_uri": "https://localhost:8080/"
        },
        "execution": {
          "iopub.execute_input": "2022-08-27T08:25:12.580628Z",
          "iopub.status.busy": "2022-08-27T08:25:12.58007Z",
          "iopub.status.idle": "2022-08-27T08:25:14.185621Z",
          "shell.execute_reply": "2022-08-27T08:25:14.184266Z",
          "shell.execute_reply.started": "2022-08-27T08:25:12.58058Z"
        },
        "id": "hBSeD3pqrOYL",
        "outputId": "7f27120c-e0b8-4b3b-b93c-449b467ec96c"
      },
      "outputs": [
        {
          "name": "stderr",
          "output_type": "stream",
          "text": [
            "[nltk_data] Downloading package wordnet to /root/nltk_data...\n",
            "[nltk_data] Downloading package stopwords to /root/nltk_data...\n",
            "[nltk_data]   Unzipping corpora/stopwords.zip.\n",
            "[nltk_data] Downloading package averaged_perceptron_tagger to\n",
            "[nltk_data]     /root/nltk_data...\n",
            "[nltk_data]   Unzipping taggers/averaged_perceptron_tagger.zip.\n"
          ]
        },
        {
          "data": {
            "text/plain": [
              "True"
            ]
          },
          "execution_count": 1,
          "metadata": {},
          "output_type": "execute_result"
        }
      ],
      "source": [
        "#importing req. Lib.\n",
        "\n",
        "import pandas as pd\n",
        "import numpy as np\n",
        "import pickle\n",
        "import re\n",
        "import nltk\n",
        "\n",
        "#Nltk\n",
        "import nltk\n",
        "from nltk.corpus import stopwords\n",
        "from nltk.stem import WordNetLemmatizer\n",
        "from nltk.tokenize import TweetTokenizer\n",
        "from nltk.stem import SnowballStemmer\n",
        "from nltk.corpus import wordnet\n",
        "\n",
        "nltk.download('wordnet')\n",
        "nltk.download('stopwords')\n",
        "nltk.download('averaged_perceptron_tagger')"
      ]
    },
    {
      "cell_type": "markdown",
      "metadata": {
        "id": "E-GZDssZ3zhv"
      },
      "source": [
        "## **Data frame**\n"
      ]
    },
    {
      "cell_type": "code",
      "execution_count": null,
      "metadata": {
        "execution": {
          "iopub.execute_input": "2022-08-27T08:25:15.756651Z",
          "iopub.status.busy": "2022-08-27T08:25:15.755715Z",
          "iopub.status.idle": "2022-08-27T08:25:15.900503Z",
          "shell.execute_reply": "2022-08-27T08:25:15.899483Z",
          "shell.execute_reply.started": "2022-08-27T08:25:15.756614Z"
        },
        "id": "wbFyZ_0ktf2_"
      },
      "outputs": [],
      "source": [
        "# Load the collected dataset\n",
        "file_path = '/content/3_players_dataset.csv'\n",
        "data = pd.read_csv(file_path, low_memory=False)"
      ]
    },
    {
      "cell_type": "markdown",
      "metadata": {
        "id": "0LE4uc8AUQVa"
      },
      "source": [
        "## **Perform analysis on the dataset**\n"
      ]
    },
    {
      "cell_type": "markdown",
      "metadata": {
        "id": "GfO8YiU6U01z"
      },
      "source": [
        "##looking into our dataset"
      ]
    },
    {
      "cell_type": "markdown",
      "metadata": {
        "id": "2ir2iOQPV6mx"
      },
      "source": [
        "**Shape is a function that shows the shape of the data frame (row_numbers, columns_number)**"
      ]
    },
    {
      "cell_type": "code",
      "execution_count": null,
      "metadata": {
        "colab": {
          "base_uri": "https://localhost:8080/"
        },
        "execution": {
          "iopub.execute_input": "2022-08-27T08:25:17.397685Z",
          "iopub.status.busy": "2022-08-27T08:25:17.39658Z",
          "iopub.status.idle": "2022-08-27T08:25:17.406043Z",
          "shell.execute_reply": "2022-08-27T08:25:17.405162Z",
          "shell.execute_reply.started": "2022-08-27T08:25:17.39764Z"
        },
        "id": "41FYBCaS_YzV",
        "outputId": "a151e0af-4544-4e0b-cacf-588ddc03ace2"
      },
      "outputs": [
        {
          "data": {
            "text/plain": [
              "(132016, 25)"
            ]
          },
          "execution_count": 3,
          "metadata": {},
          "output_type": "execute_result"
        }
      ],
      "source": [
        "# Before Preprocess\n",
        "data.shape"
      ]
    },
    {
      "cell_type": "markdown",
      "metadata": {
        "id": "dTV_xAZb3zhx"
      },
      "source": [
        "## Head is a function that shows the first 5 rows in default of the data frame"
      ]
    },
    {
      "cell_type": "code",
      "execution_count": null,
      "metadata": {
        "colab": {
          "base_uri": "https://localhost:8080/",
          "height": 799
        },
        "execution": {
          "iopub.execute_input": "2022-08-27T08:25:18.11075Z",
          "iopub.status.busy": "2022-08-27T08:25:18.10978Z",
          "iopub.status.idle": "2022-08-27T08:25:18.139196Z",
          "shell.execute_reply": "2022-08-27T08:25:18.138386Z",
          "shell.execute_reply.started": "2022-08-27T08:25:18.110708Z"
        },
        "id": "bzcg27aitx5y",
        "outputId": "98ea453d-3a99-43e6-8ffc-e19a48414771"
      },
      "outputs": [
        {
          "data": {
            "application/vnd.google.colaboratory.intrinsic+json": {
              "type": "dataframe",
              "variable_name": "data"
            },
            "text/html": [
              "\n",
              "  <div id=\"df-e5bf6cd3-6ed9-4820-ac5a-de68b6f8089a\" class=\"colab-df-container\">\n",
              "    <div>\n",
              "<style scoped>\n",
              "    .dataframe tbody tr th:only-of-type {\n",
              "        vertical-align: middle;\n",
              "    }\n",
              "\n",
              "    .dataframe tbody tr th {\n",
              "        vertical-align: top;\n",
              "    }\n",
              "\n",
              "    .dataframe thead th {\n",
              "        text-align: right;\n",
              "    }\n",
              "</style>\n",
              "<table border=\"1\" class=\"dataframe\">\n",
              "  <thead>\n",
              "    <tr style=\"text-align: right;\">\n",
              "      <th></th>\n",
              "      <th>tweet_created_at</th>\n",
              "      <th>id_str</th>\n",
              "      <th>full_text</th>\n",
              "      <th>in_reply_to_status_id_str</th>\n",
              "      <th>in_reply_to_user_id_str</th>\n",
              "      <th>in_reply_to_screen_name</th>\n",
              "      <th>user_id_str</th>\n",
              "      <th>user_name</th>\n",
              "      <th>user_screen_name</th>\n",
              "      <th>user_location</th>\n",
              "      <th>...</th>\n",
              "      <th>user_created_at</th>\n",
              "      <th>quoted_status_id_str</th>\n",
              "      <th>is_quote_status</th>\n",
              "      <th>quote_count</th>\n",
              "      <th>reply_count</th>\n",
              "      <th>retweet_count</th>\n",
              "      <th>favorite_count</th>\n",
              "      <th>lang</th>\n",
              "      <th>views_count</th>\n",
              "      <th>bookmark_count</th>\n",
              "    </tr>\n",
              "  </thead>\n",
              "  <tbody>\n",
              "    <tr>\n",
              "      <th>0</th>\n",
              "      <td>2024-01-19T23:51:01.000000Z</td>\n",
              "      <td>1.748490e+18</td>\n",
              "      <td>@_VALKlNG @FabrizioRomano And yet Benzema and ...</td>\n",
              "      <td>1.748380e+18</td>\n",
              "      <td>1.116810e+18</td>\n",
              "      <td>_VALKlNG</td>\n",
              "      <td>1.424240e+18</td>\n",
              "      <td>9 inches monster cock</td>\n",
              "      <td>ma_nny001</td>\n",
              "      <td>Deepestpartoftrenches</td>\n",
              "      <td>...</td>\n",
              "      <td>2021-08-08T05:07:47.000000Z</td>\n",
              "      <td>NaN</td>\n",
              "      <td>False</td>\n",
              "      <td>0.0</td>\n",
              "      <td>0.0</td>\n",
              "      <td>0.0</td>\n",
              "      <td>0.0</td>\n",
              "      <td>en</td>\n",
              "      <td>551.0</td>\n",
              "      <td>0.0</td>\n",
              "    </tr>\n",
              "    <tr>\n",
              "      <th>1</th>\n",
              "      <td>2024-01-19T23:36:27.000000Z</td>\n",
              "      <td>1.748490e+18</td>\n",
              "      <td>@YemisiKolaa Talking Ronaldo is the only top p...</td>\n",
              "      <td>1.748390e+18</td>\n",
              "      <td>1.530480e+18</td>\n",
              "      <td>YemisiKolaa</td>\n",
              "      <td>1.590850e+18</td>\n",
              "      <td>Jibson</td>\n",
              "      <td>Jibson_02</td>\n",
              "      <td>NaN</td>\n",
              "      <td>...</td>\n",
              "      <td>2022-11-10T23:39:43.000000Z</td>\n",
              "      <td>NaN</td>\n",
              "      <td>False</td>\n",
              "      <td>0.0</td>\n",
              "      <td>0.0</td>\n",
              "      <td>0.0</td>\n",
              "      <td>0.0</td>\n",
              "      <td>en</td>\n",
              "      <td>30.0</td>\n",
              "      <td>0.0</td>\n",
              "    </tr>\n",
              "    <tr>\n",
              "      <th>2</th>\n",
              "      <td>2024-01-19T23:12:38.000000Z</td>\n",
              "      <td>1.748480e+18</td>\n",
              "      <td>@_moose_b @THEBOY450066551 @sparkles_art1 @tot...</td>\n",
              "      <td>1.748480e+18</td>\n",
              "      <td>6.072224e+08</td>\n",
              "      <td>_moose_b</td>\n",
              "      <td>1.371700e+18</td>\n",
              "      <td>Frosty 🥶</td>\n",
              "      <td>__2drippy__</td>\n",
              "      <td>NaN</td>\n",
              "      <td>...</td>\n",
              "      <td>2021-03-16T06:01:44.000000Z</td>\n",
              "      <td>NaN</td>\n",
              "      <td>False</td>\n",
              "      <td>0.0</td>\n",
              "      <td>2.0</td>\n",
              "      <td>1.0</td>\n",
              "      <td>1.0</td>\n",
              "      <td>en</td>\n",
              "      <td>112.0</td>\n",
              "      <td>0.0</td>\n",
              "    </tr>\n",
              "    <tr>\n",
              "      <th>3</th>\n",
              "      <td>2024-01-19T22:58:46.000000Z</td>\n",
              "      <td>1.748480e+18</td>\n",
              "      <td>@FabrizioRomano Obviously who knows Ligue one ...</td>\n",
              "      <td>1.748400e+18</td>\n",
              "      <td>3.302627e+08</td>\n",
              "      <td>FabrizioRomano</td>\n",
              "      <td>4.322164e+08</td>\n",
              "      <td>JD</td>\n",
              "      <td>jdjosedjd</td>\n",
              "      <td>NaN</td>\n",
              "      <td>...</td>\n",
              "      <td>2011-12-09T05:02:44.000000Z</td>\n",
              "      <td>NaN</td>\n",
              "      <td>False</td>\n",
              "      <td>0.0</td>\n",
              "      <td>0.0</td>\n",
              "      <td>0.0</td>\n",
              "      <td>0.0</td>\n",
              "      <td>en</td>\n",
              "      <td>32.0</td>\n",
              "      <td>0.0</td>\n",
              "    </tr>\n",
              "    <tr>\n",
              "      <th>4</th>\n",
              "      <td>2024-01-19T22:55:22.000000Z</td>\n",
              "      <td>1.748480e+18</td>\n",
              "      <td>@Nadal_istheGOAT @FabrizioRomano You've forgot...</td>\n",
              "      <td>1.748410e+18</td>\n",
              "      <td>4.546809e+09</td>\n",
              "      <td>Nadal_istheGOAT</td>\n",
              "      <td>1.318130e+18</td>\n",
              "      <td>Kashope Ola</td>\n",
              "      <td>KashopeOla</td>\n",
              "      <td>NaN</td>\n",
              "      <td>...</td>\n",
              "      <td>2020-10-19T09:49:04.000000Z</td>\n",
              "      <td>NaN</td>\n",
              "      <td>False</td>\n",
              "      <td>0.0</td>\n",
              "      <td>0.0</td>\n",
              "      <td>0.0</td>\n",
              "      <td>2.0</td>\n",
              "      <td>en</td>\n",
              "      <td>122.0</td>\n",
              "      <td>0.0</td>\n",
              "    </tr>\n",
              "    <tr>\n",
              "      <th>5</th>\n",
              "      <td>2024-01-19T22:11:15.000000Z</td>\n",
              "      <td>1.748470e+18</td>\n",
              "      <td>@City_Chief @pmcafrica Football is a short ter...</td>\n",
              "      <td>1.748120e+18</td>\n",
              "      <td>3.254605e+09</td>\n",
              "      <td>City_Chief</td>\n",
              "      <td>1.599550e+18</td>\n",
              "      <td>Baba kaNkule SA 🇿🇦</td>\n",
              "      <td>Sbusiso74202589</td>\n",
              "      <td>South Africa</td>\n",
              "      <td>...</td>\n",
              "      <td>2022-12-04T23:41:22.000000Z</td>\n",
              "      <td>NaN</td>\n",
              "      <td>False</td>\n",
              "      <td>0.0</td>\n",
              "      <td>0.0</td>\n",
              "      <td>0.0</td>\n",
              "      <td>2.0</td>\n",
              "      <td>en</td>\n",
              "      <td>294.0</td>\n",
              "      <td>0.0</td>\n",
              "    </tr>\n",
              "    <tr>\n",
              "      <th>6</th>\n",
              "      <td>2024-01-19T22:05:50.000000Z</td>\n",
              "      <td>1.748470e+18</td>\n",
              "      <td>@knai22 Players even want to leave the Saudi l...</td>\n",
              "      <td>1.748410e+18</td>\n",
              "      <td>1.010820e+18</td>\n",
              "      <td>knai22</td>\n",
              "      <td>1.143560e+18</td>\n",
              "      <td>SLY</td>\n",
              "      <td>slyprekss</td>\n",
              "      <td>Ghana</td>\n",
              "      <td>...</td>\n",
              "      <td>2019-06-25T16:28:42.000000Z</td>\n",
              "      <td>NaN</td>\n",
              "      <td>False</td>\n",
              "      <td>0.0</td>\n",
              "      <td>1.0</td>\n",
              "      <td>0.0</td>\n",
              "      <td>0.0</td>\n",
              "      <td>en</td>\n",
              "      <td>39.0</td>\n",
              "      <td>0.0</td>\n",
              "    </tr>\n",
              "    <tr>\n",
              "      <th>7</th>\n",
              "      <td>2024-01-19T22:05:17.000000Z</td>\n",
              "      <td>1.748470e+18</td>\n",
              "      <td>@gatocabron49 @PandaNoComply @FabrizioRomano N...</td>\n",
              "      <td>1.748380e+18</td>\n",
              "      <td>1.641140e+18</td>\n",
              "      <td>gatocabron49</td>\n",
              "      <td>2.854770e+09</td>\n",
              "      <td>Sinan</td>\n",
              "      <td>androidmp37</td>\n",
              "      <td>България</td>\n",
              "      <td>...</td>\n",
              "      <td>2014-11-01T12:36:13.000000Z</td>\n",
              "      <td>NaN</td>\n",
              "      <td>False</td>\n",
              "      <td>0.0</td>\n",
              "      <td>0.0</td>\n",
              "      <td>0.0</td>\n",
              "      <td>4.0</td>\n",
              "      <td>en</td>\n",
              "      <td>367.0</td>\n",
              "      <td>0.0</td>\n",
              "    </tr>\n",
              "    <tr>\n",
              "      <th>8</th>\n",
              "      <td>2024-01-19T22:00:06.000000Z</td>\n",
              "      <td>1.748470e+18</td>\n",
              "      <td>@FabrizioRomano Almighty Benzema could not ban...</td>\n",
              "      <td>1.748370e+18</td>\n",
              "      <td>3.302627e+08</td>\n",
              "      <td>FabrizioRomano</td>\n",
              "      <td>5.456906e+08</td>\n",
              "      <td>Bolakunle</td>\n",
              "      <td>Hurlah_H02</td>\n",
              "      <td>NaN</td>\n",
              "      <td>...</td>\n",
              "      <td>2012-04-05T04:40:41.000000Z</td>\n",
              "      <td>NaN</td>\n",
              "      <td>False</td>\n",
              "      <td>0.0</td>\n",
              "      <td>0.0</td>\n",
              "      <td>0.0</td>\n",
              "      <td>0.0</td>\n",
              "      <td>en</td>\n",
              "      <td>15.0</td>\n",
              "      <td>0.0</td>\n",
              "    </tr>\n",
              "    <tr>\n",
              "      <th>9</th>\n",
              "      <td>2024-01-19T21:55:26.000000Z</td>\n",
              "      <td>1.748460e+18</td>\n",
              "      <td>@Ligue1_ENG Lol this was his first game at Sau...</td>\n",
              "      <td>1.748380e+18</td>\n",
              "      <td>2.286882e+08</td>\n",
              "      <td>Ligue1_ENG</td>\n",
              "      <td>1.674870e+18</td>\n",
              "      <td>Anon</td>\n",
              "      <td>an0nuser1997</td>\n",
              "      <td>NaN</td>\n",
              "      <td>...</td>\n",
              "      <td>2023-06-30T20:01:12.000000Z</td>\n",
              "      <td>NaN</td>\n",
              "      <td>False</td>\n",
              "      <td>0.0</td>\n",
              "      <td>4.0</td>\n",
              "      <td>0.0</td>\n",
              "      <td>0.0</td>\n",
              "      <td>en</td>\n",
              "      <td>37.0</td>\n",
              "      <td>0.0</td>\n",
              "    </tr>\n",
              "  </tbody>\n",
              "</table>\n",
              "<p>10 rows × 25 columns</p>\n",
              "</div>\n",
              "    <div class=\"colab-df-buttons\">\n",
              "\n",
              "  <div class=\"colab-df-container\">\n",
              "    <button class=\"colab-df-convert\" onclick=\"convertToInteractive('df-e5bf6cd3-6ed9-4820-ac5a-de68b6f8089a')\"\n",
              "            title=\"Convert this dataframe to an interactive table.\"\n",
              "            style=\"display:none;\">\n",
              "\n",
              "  <svg xmlns=\"http://www.w3.org/2000/svg\" height=\"24px\" viewBox=\"0 -960 960 960\">\n",
              "    <path d=\"M120-120v-720h720v720H120Zm60-500h600v-160H180v160Zm220 220h160v-160H400v160Zm0 220h160v-160H400v160ZM180-400h160v-160H180v160Zm440 0h160v-160H620v160ZM180-180h160v-160H180v160Zm440 0h160v-160H620v160Z\"/>\n",
              "  </svg>\n",
              "    </button>\n",
              "\n",
              "  <style>\n",
              "    .colab-df-container {\n",
              "      display:flex;\n",
              "      gap: 12px;\n",
              "    }\n",
              "\n",
              "    .colab-df-convert {\n",
              "      background-color: #E8F0FE;\n",
              "      border: none;\n",
              "      border-radius: 50%;\n",
              "      cursor: pointer;\n",
              "      display: none;\n",
              "      fill: #1967D2;\n",
              "      height: 32px;\n",
              "      padding: 0 0 0 0;\n",
              "      width: 32px;\n",
              "    }\n",
              "\n",
              "    .colab-df-convert:hover {\n",
              "      background-color: #E2EBFA;\n",
              "      box-shadow: 0px 1px 2px rgba(60, 64, 67, 0.3), 0px 1px 3px 1px rgba(60, 64, 67, 0.15);\n",
              "      fill: #174EA6;\n",
              "    }\n",
              "\n",
              "    .colab-df-buttons div {\n",
              "      margin-bottom: 4px;\n",
              "    }\n",
              "\n",
              "    [theme=dark] .colab-df-convert {\n",
              "      background-color: #3B4455;\n",
              "      fill: #D2E3FC;\n",
              "    }\n",
              "\n",
              "    [theme=dark] .colab-df-convert:hover {\n",
              "      background-color: #434B5C;\n",
              "      box-shadow: 0px 1px 3px 1px rgba(0, 0, 0, 0.15);\n",
              "      filter: drop-shadow(0px 1px 2px rgba(0, 0, 0, 0.3));\n",
              "      fill: #FFFFFF;\n",
              "    }\n",
              "  </style>\n",
              "\n",
              "    <script>\n",
              "      const buttonEl =\n",
              "        document.querySelector('#df-e5bf6cd3-6ed9-4820-ac5a-de68b6f8089a button.colab-df-convert');\n",
              "      buttonEl.style.display =\n",
              "        google.colab.kernel.accessAllowed ? 'block' : 'none';\n",
              "\n",
              "      async function convertToInteractive(key) {\n",
              "        const element = document.querySelector('#df-e5bf6cd3-6ed9-4820-ac5a-de68b6f8089a');\n",
              "        const dataTable =\n",
              "          await google.colab.kernel.invokeFunction('convertToInteractive',\n",
              "                                                    [key], {});\n",
              "        if (!dataTable) return;\n",
              "\n",
              "        const docLinkHtml = 'Like what you see? Visit the ' +\n",
              "          '<a target=\"_blank\" href=https://colab.research.google.com/notebooks/data_table.ipynb>data table notebook</a>'\n",
              "          + ' to learn more about interactive tables.';\n",
              "        element.innerHTML = '';\n",
              "        dataTable['output_type'] = 'display_data';\n",
              "        await google.colab.output.renderOutput(dataTable, element);\n",
              "        const docLink = document.createElement('div');\n",
              "        docLink.innerHTML = docLinkHtml;\n",
              "        element.appendChild(docLink);\n",
              "      }\n",
              "    </script>\n",
              "  </div>\n",
              "\n",
              "\n",
              "<div id=\"df-4b0ae991-7e2c-417b-9398-94c2ee37daca\">\n",
              "  <button class=\"colab-df-quickchart\" onclick=\"quickchart('df-4b0ae991-7e2c-417b-9398-94c2ee37daca')\"\n",
              "            title=\"Suggest charts\"\n",
              "            style=\"display:none;\">\n",
              "\n",
              "<svg xmlns=\"http://www.w3.org/2000/svg\" height=\"24px\"viewBox=\"0 0 24 24\"\n",
              "     width=\"24px\">\n",
              "    <g>\n",
              "        <path d=\"M19 3H5c-1.1 0-2 .9-2 2v14c0 1.1.9 2 2 2h14c1.1 0 2-.9 2-2V5c0-1.1-.9-2-2-2zM9 17H7v-7h2v7zm4 0h-2V7h2v10zm4 0h-2v-4h2v4z\"/>\n",
              "    </g>\n",
              "</svg>\n",
              "  </button>\n",
              "\n",
              "<style>\n",
              "  .colab-df-quickchart {\n",
              "      --bg-color: #E8F0FE;\n",
              "      --fill-color: #1967D2;\n",
              "      --hover-bg-color: #E2EBFA;\n",
              "      --hover-fill-color: #174EA6;\n",
              "      --disabled-fill-color: #AAA;\n",
              "      --disabled-bg-color: #DDD;\n",
              "  }\n",
              "\n",
              "  [theme=dark] .colab-df-quickchart {\n",
              "      --bg-color: #3B4455;\n",
              "      --fill-color: #D2E3FC;\n",
              "      --hover-bg-color: #434B5C;\n",
              "      --hover-fill-color: #FFFFFF;\n",
              "      --disabled-bg-color: #3B4455;\n",
              "      --disabled-fill-color: #666;\n",
              "  }\n",
              "\n",
              "  .colab-df-quickchart {\n",
              "    background-color: var(--bg-color);\n",
              "    border: none;\n",
              "    border-radius: 50%;\n",
              "    cursor: pointer;\n",
              "    display: none;\n",
              "    fill: var(--fill-color);\n",
              "    height: 32px;\n",
              "    padding: 0;\n",
              "    width: 32px;\n",
              "  }\n",
              "\n",
              "  .colab-df-quickchart:hover {\n",
              "    background-color: var(--hover-bg-color);\n",
              "    box-shadow: 0 1px 2px rgba(60, 64, 67, 0.3), 0 1px 3px 1px rgba(60, 64, 67, 0.15);\n",
              "    fill: var(--button-hover-fill-color);\n",
              "  }\n",
              "\n",
              "  .colab-df-quickchart-complete:disabled,\n",
              "  .colab-df-quickchart-complete:disabled:hover {\n",
              "    background-color: var(--disabled-bg-color);\n",
              "    fill: var(--disabled-fill-color);\n",
              "    box-shadow: none;\n",
              "  }\n",
              "\n",
              "  .colab-df-spinner {\n",
              "    border: 2px solid var(--fill-color);\n",
              "    border-color: transparent;\n",
              "    border-bottom-color: var(--fill-color);\n",
              "    animation:\n",
              "      spin 1s steps(1) infinite;\n",
              "  }\n",
              "\n",
              "  @keyframes spin {\n",
              "    0% {\n",
              "      border-color: transparent;\n",
              "      border-bottom-color: var(--fill-color);\n",
              "      border-left-color: var(--fill-color);\n",
              "    }\n",
              "    20% {\n",
              "      border-color: transparent;\n",
              "      border-left-color: var(--fill-color);\n",
              "      border-top-color: var(--fill-color);\n",
              "    }\n",
              "    30% {\n",
              "      border-color: transparent;\n",
              "      border-left-color: var(--fill-color);\n",
              "      border-top-color: var(--fill-color);\n",
              "      border-right-color: var(--fill-color);\n",
              "    }\n",
              "    40% {\n",
              "      border-color: transparent;\n",
              "      border-right-color: var(--fill-color);\n",
              "      border-top-color: var(--fill-color);\n",
              "    }\n",
              "    60% {\n",
              "      border-color: transparent;\n",
              "      border-right-color: var(--fill-color);\n",
              "    }\n",
              "    80% {\n",
              "      border-color: transparent;\n",
              "      border-right-color: var(--fill-color);\n",
              "      border-bottom-color: var(--fill-color);\n",
              "    }\n",
              "    90% {\n",
              "      border-color: transparent;\n",
              "      border-bottom-color: var(--fill-color);\n",
              "    }\n",
              "  }\n",
              "</style>\n",
              "\n",
              "  <script>\n",
              "    async function quickchart(key) {\n",
              "      const quickchartButtonEl =\n",
              "        document.querySelector('#' + key + ' button');\n",
              "      quickchartButtonEl.disabled = true;  // To prevent multiple clicks.\n",
              "      quickchartButtonEl.classList.add('colab-df-spinner');\n",
              "      try {\n",
              "        const charts = await google.colab.kernel.invokeFunction(\n",
              "            'suggestCharts', [key], {});\n",
              "      } catch (error) {\n",
              "        console.error('Error during call to suggestCharts:', error);\n",
              "      }\n",
              "      quickchartButtonEl.classList.remove('colab-df-spinner');\n",
              "      quickchartButtonEl.classList.add('colab-df-quickchart-complete');\n",
              "    }\n",
              "    (() => {\n",
              "      let quickchartButtonEl =\n",
              "        document.querySelector('#df-4b0ae991-7e2c-417b-9398-94c2ee37daca button');\n",
              "      quickchartButtonEl.style.display =\n",
              "        google.colab.kernel.accessAllowed ? 'block' : 'none';\n",
              "    })();\n",
              "  </script>\n",
              "</div>\n",
              "\n",
              "    </div>\n",
              "  </div>\n"
            ],
            "text/plain": [
              "              tweet_created_at        id_str  \\\n",
              "0  2024-01-19T23:51:01.000000Z  1.748490e+18   \n",
              "1  2024-01-19T23:36:27.000000Z  1.748490e+18   \n",
              "2  2024-01-19T23:12:38.000000Z  1.748480e+18   \n",
              "3  2024-01-19T22:58:46.000000Z  1.748480e+18   \n",
              "4  2024-01-19T22:55:22.000000Z  1.748480e+18   \n",
              "5  2024-01-19T22:11:15.000000Z  1.748470e+18   \n",
              "6  2024-01-19T22:05:50.000000Z  1.748470e+18   \n",
              "7  2024-01-19T22:05:17.000000Z  1.748470e+18   \n",
              "8  2024-01-19T22:00:06.000000Z  1.748470e+18   \n",
              "9  2024-01-19T21:55:26.000000Z  1.748460e+18   \n",
              "\n",
              "                                           full_text  \\\n",
              "0  @_VALKlNG @FabrizioRomano And yet Benzema and ...   \n",
              "1  @YemisiKolaa Talking Ronaldo is the only top p...   \n",
              "2  @_moose_b @THEBOY450066551 @sparkles_art1 @tot...   \n",
              "3  @FabrizioRomano Obviously who knows Ligue one ...   \n",
              "4  @Nadal_istheGOAT @FabrizioRomano You've forgot...   \n",
              "5  @City_Chief @pmcafrica Football is a short ter...   \n",
              "6  @knai22 Players even want to leave the Saudi l...   \n",
              "7  @gatocabron49 @PandaNoComply @FabrizioRomano N...   \n",
              "8  @FabrizioRomano Almighty Benzema could not ban...   \n",
              "9  @Ligue1_ENG Lol this was his first game at Sau...   \n",
              "\n",
              "   in_reply_to_status_id_str  in_reply_to_user_id_str in_reply_to_screen_name  \\\n",
              "0               1.748380e+18             1.116810e+18                _VALKlNG   \n",
              "1               1.748390e+18             1.530480e+18             YemisiKolaa   \n",
              "2               1.748480e+18             6.072224e+08                _moose_b   \n",
              "3               1.748400e+18             3.302627e+08          FabrizioRomano   \n",
              "4               1.748410e+18             4.546809e+09         Nadal_istheGOAT   \n",
              "5               1.748120e+18             3.254605e+09              City_Chief   \n",
              "6               1.748410e+18             1.010820e+18                  knai22   \n",
              "7               1.748380e+18             1.641140e+18            gatocabron49   \n",
              "8               1.748370e+18             3.302627e+08          FabrizioRomano   \n",
              "9               1.748380e+18             2.286882e+08              Ligue1_ENG   \n",
              "\n",
              "    user_id_str              user_name user_screen_name  \\\n",
              "0  1.424240e+18  9 inches monster cock        ma_nny001   \n",
              "1  1.590850e+18                 Jibson        Jibson_02   \n",
              "2  1.371700e+18               Frosty 🥶      __2drippy__   \n",
              "3  4.322164e+08                     JD        jdjosedjd   \n",
              "4  1.318130e+18            Kashope Ola       KashopeOla   \n",
              "5  1.599550e+18     Baba kaNkule SA 🇿🇦  Sbusiso74202589   \n",
              "6  1.143560e+18                    SLY        slyprekss   \n",
              "7  2.854770e+09                  Sinan      androidmp37   \n",
              "8  5.456906e+08              Bolakunle       Hurlah_H02   \n",
              "9  1.674870e+18                   Anon     an0nuser1997   \n",
              "\n",
              "           user_location  ...              user_created_at  \\\n",
              "0  Deepestpartoftrenches  ...  2021-08-08T05:07:47.000000Z   \n",
              "1                    NaN  ...  2022-11-10T23:39:43.000000Z   \n",
              "2                    NaN  ...  2021-03-16T06:01:44.000000Z   \n",
              "3                    NaN  ...  2011-12-09T05:02:44.000000Z   \n",
              "4                    NaN  ...  2020-10-19T09:49:04.000000Z   \n",
              "5           South Africa  ...  2022-12-04T23:41:22.000000Z   \n",
              "6                  Ghana  ...  2019-06-25T16:28:42.000000Z   \n",
              "7               България  ...  2014-11-01T12:36:13.000000Z   \n",
              "8                    NaN  ...  2012-04-05T04:40:41.000000Z   \n",
              "9                    NaN  ...  2023-06-30T20:01:12.000000Z   \n",
              "\n",
              "   quoted_status_id_str  is_quote_status  quote_count  reply_count  \\\n",
              "0                   NaN            False          0.0          0.0   \n",
              "1                   NaN            False          0.0          0.0   \n",
              "2                   NaN            False          0.0          2.0   \n",
              "3                   NaN            False          0.0          0.0   \n",
              "4                   NaN            False          0.0          0.0   \n",
              "5                   NaN            False          0.0          0.0   \n",
              "6                   NaN            False          0.0          1.0   \n",
              "7                   NaN            False          0.0          0.0   \n",
              "8                   NaN            False          0.0          0.0   \n",
              "9                   NaN            False          0.0          4.0   \n",
              "\n",
              "  retweet_count  favorite_count lang  views_count  bookmark_count  \n",
              "0           0.0             0.0   en        551.0             0.0  \n",
              "1           0.0             0.0   en         30.0             0.0  \n",
              "2           1.0             1.0   en        112.0             0.0  \n",
              "3           0.0             0.0   en         32.0             0.0  \n",
              "4           0.0             2.0   en        122.0             0.0  \n",
              "5           0.0             2.0   en        294.0             0.0  \n",
              "6           0.0             0.0   en         39.0             0.0  \n",
              "7           0.0             4.0   en        367.0             0.0  \n",
              "8           0.0             0.0   en         15.0             0.0  \n",
              "9           0.0             0.0   en         37.0             0.0  \n",
              "\n",
              "[10 rows x 25 columns]"
            ]
          },
          "execution_count": 4,
          "metadata": {},
          "output_type": "execute_result"
        }
      ],
      "source": [
        "# Checking the first 10 Rows\n",
        "\n",
        "data.head(10)"
      ]
    },
    {
      "cell_type": "markdown",
      "metadata": {
        "id": "dHDCneKVVs5v"
      },
      "source": [
        "## Tail is a function that shows the last 5 rows in default of the data frame"
      ]
    },
    {
      "cell_type": "code",
      "execution_count": null,
      "metadata": {
        "colab": {
          "base_uri": "https://localhost:8080/",
          "height": 765
        },
        "execution": {
          "iopub.execute_input": "2022-08-27T08:25:18.537972Z",
          "iopub.status.busy": "2022-08-27T08:25:18.537564Z",
          "iopub.status.idle": "2022-08-27T08:25:18.558208Z",
          "shell.execute_reply": "2022-08-27T08:25:18.557095Z",
          "shell.execute_reply.started": "2022-08-27T08:25:18.537938Z"
        },
        "id": "JJqtEe-0tzy3",
        "outputId": "22f6adee-9ce7-4ce5-e3c2-d32a906baf4f",
        "scrolled": true
      },
      "outputs": [
        {
          "data": {
            "application/vnd.google.colaboratory.intrinsic+json": {
              "type": "dataframe"
            },
            "text/html": [
              "\n",
              "  <div id=\"df-e1fc40e1-c96f-4743-bee4-7fe31515a0f2\" class=\"colab-df-container\">\n",
              "    <div>\n",
              "<style scoped>\n",
              "    .dataframe tbody tr th:only-of-type {\n",
              "        vertical-align: middle;\n",
              "    }\n",
              "\n",
              "    .dataframe tbody tr th {\n",
              "        vertical-align: top;\n",
              "    }\n",
              "\n",
              "    .dataframe thead th {\n",
              "        text-align: right;\n",
              "    }\n",
              "</style>\n",
              "<table border=\"1\" class=\"dataframe\">\n",
              "  <thead>\n",
              "    <tr style=\"text-align: right;\">\n",
              "      <th></th>\n",
              "      <th>tweet_created_at</th>\n",
              "      <th>id_str</th>\n",
              "      <th>full_text</th>\n",
              "      <th>in_reply_to_status_id_str</th>\n",
              "      <th>in_reply_to_user_id_str</th>\n",
              "      <th>in_reply_to_screen_name</th>\n",
              "      <th>user_id_str</th>\n",
              "      <th>user_name</th>\n",
              "      <th>user_screen_name</th>\n",
              "      <th>user_location</th>\n",
              "      <th>...</th>\n",
              "      <th>user_created_at</th>\n",
              "      <th>quoted_status_id_str</th>\n",
              "      <th>is_quote_status</th>\n",
              "      <th>quote_count</th>\n",
              "      <th>reply_count</th>\n",
              "      <th>retweet_count</th>\n",
              "      <th>favorite_count</th>\n",
              "      <th>lang</th>\n",
              "      <th>views_count</th>\n",
              "      <th>bookmark_count</th>\n",
              "    </tr>\n",
              "  </thead>\n",
              "  <tbody>\n",
              "    <tr>\n",
              "      <th>132006</th>\n",
              "      <td>2022-12-31T13:00:45.000000Z</td>\n",
              "      <td>1.609173e+18</td>\n",
              "      <td>You all (including the media) bullied Cristian...</td>\n",
              "      <td>NaN</td>\n",
              "      <td>NaN</td>\n",
              "      <td>NaN</td>\n",
              "      <td>1.244201e+18</td>\n",
              "      <td>RiRi🌸</td>\n",
              "      <td>priz_pri</td>\n",
              "      <td>NaN</td>\n",
              "      <td>...</td>\n",
              "      <td>2020-03-29T09:52:29.000000Z</td>\n",
              "      <td>NaN</td>\n",
              "      <td>False</td>\n",
              "      <td>0.0</td>\n",
              "      <td>0.0</td>\n",
              "      <td>0.0</td>\n",
              "      <td>0.0</td>\n",
              "      <td>en</td>\n",
              "      <td>41.0</td>\n",
              "      <td>0.0</td>\n",
              "    </tr>\n",
              "    <tr>\n",
              "      <th>132007</th>\n",
              "      <td>2022-12-31T13:00:39.000000Z</td>\n",
              "      <td>1.609173e+18</td>\n",
              "      <td>@YOUNGPUNTER2 @FCBAlfredo @kaleembuledi @goal ...</td>\n",
              "      <td>1.608985e+18</td>\n",
              "      <td>1.607373e+18</td>\n",
              "      <td>YOUNGPUNTER2</td>\n",
              "      <td>1.168636e+18</td>\n",
              "      <td>CJ46</td>\n",
              "      <td>OfficialCJ46</td>\n",
              "      <td>Ireland</td>\n",
              "      <td>...</td>\n",
              "      <td>2019-09-02T21:24:26.000000Z</td>\n",
              "      <td>NaN</td>\n",
              "      <td>False</td>\n",
              "      <td>0.0</td>\n",
              "      <td>1.0</td>\n",
              "      <td>0.0</td>\n",
              "      <td>0.0</td>\n",
              "      <td>en</td>\n",
              "      <td>33.0</td>\n",
              "      <td>0.0</td>\n",
              "    </tr>\n",
              "    <tr>\n",
              "      <th>132008</th>\n",
              "      <td>2022-12-31T12:59:24.000000Z</td>\n",
              "      <td>1.609172e+18</td>\n",
              "      <td>@PiersUncensored @piersmorgan @TalkTV Do you s...</td>\n",
              "      <td>1.607431e+18</td>\n",
              "      <td>1.455577e+18</td>\n",
              "      <td>PiersUncensored</td>\n",
              "      <td>1.405867e+09</td>\n",
              "      <td>John</td>\n",
              "      <td>Smeagle1845</td>\n",
              "      <td>NaN</td>\n",
              "      <td>...</td>\n",
              "      <td>2013-05-05T19:19:58.000000Z</td>\n",
              "      <td>NaN</td>\n",
              "      <td>False</td>\n",
              "      <td>0.0</td>\n",
              "      <td>0.0</td>\n",
              "      <td>0.0</td>\n",
              "      <td>0.0</td>\n",
              "      <td>en</td>\n",
              "      <td>55.0</td>\n",
              "      <td>0.0</td>\n",
              "    </tr>\n",
              "    <tr>\n",
              "      <th>132009</th>\n",
              "      <td>2022-12-31T12:58:04.000000Z</td>\n",
              "      <td>1.609172e+18</td>\n",
              "      <td>@Fcbarcelonab4l @agentmeifes @Bobby_CUV @breat...</td>\n",
              "      <td>1.609165e+18</td>\n",
              "      <td>8.985846e+17</td>\n",
              "      <td>Fcbarcelonab4l</td>\n",
              "      <td>3.563384e+09</td>\n",
              "      <td>MuziDV</td>\n",
              "      <td>22muzidv</td>\n",
              "      <td>NaN</td>\n",
              "      <td>...</td>\n",
              "      <td>2015-09-06T06:29:18.000000Z</td>\n",
              "      <td>NaN</td>\n",
              "      <td>False</td>\n",
              "      <td>0.0</td>\n",
              "      <td>0.0</td>\n",
              "      <td>0.0</td>\n",
              "      <td>0.0</td>\n",
              "      <td>en</td>\n",
              "      <td>417.0</td>\n",
              "      <td>0.0</td>\n",
              "    </tr>\n",
              "    <tr>\n",
              "      <th>132010</th>\n",
              "      <td>2022-12-31T12:57:52.000000Z</td>\n",
              "      <td>1.609172e+18</td>\n",
              "      <td>@FrankKhalidUK All is possible!!!! If Messi ha...</td>\n",
              "      <td>1.608879e+18</td>\n",
              "      <td>4.381617e+09</td>\n",
              "      <td>FrankKhalidUK</td>\n",
              "      <td>1.948197e+08</td>\n",
              "      <td>Wil B.</td>\n",
              "      <td>WILBELTRANT</td>\n",
              "      <td>NaN</td>\n",
              "      <td>...</td>\n",
              "      <td>2010-09-25T02:04:55.000000Z</td>\n",
              "      <td>NaN</td>\n",
              "      <td>False</td>\n",
              "      <td>0.0</td>\n",
              "      <td>0.0</td>\n",
              "      <td>0.0</td>\n",
              "      <td>0.0</td>\n",
              "      <td>en</td>\n",
              "      <td>26.0</td>\n",
              "      <td>0.0</td>\n",
              "    </tr>\n",
              "    <tr>\n",
              "      <th>132011</th>\n",
              "      <td>2022-12-31T12:57:50.000000Z</td>\n",
              "      <td>1.609172e+18</td>\n",
              "      <td>@kingfishtyty @MoneyMase838382 @FUT23News Exac...</td>\n",
              "      <td>1.609139e+18</td>\n",
              "      <td>1.279498e+18</td>\n",
              "      <td>tt181103</td>\n",
              "      <td>1.483314e+18</td>\n",
              "      <td>Rhiyuk</td>\n",
              "      <td>whosAmxty</td>\n",
              "      <td>NaN</td>\n",
              "      <td>...</td>\n",
              "      <td>2022-01-18T05:41:27.000000Z</td>\n",
              "      <td>NaN</td>\n",
              "      <td>False</td>\n",
              "      <td>0.0</td>\n",
              "      <td>2.0</td>\n",
              "      <td>0.0</td>\n",
              "      <td>1.0</td>\n",
              "      <td>en</td>\n",
              "      <td>127.0</td>\n",
              "      <td>0.0</td>\n",
              "    </tr>\n",
              "    <tr>\n",
              "      <th>132012</th>\n",
              "      <td>2022-12-31T12:56:49.000000Z</td>\n",
              "      <td>1.609172e+18</td>\n",
              "      <td>🇵🇹 But only Cristiano Ronaldo is getting hated...</td>\n",
              "      <td>1.609172e+18</td>\n",
              "      <td>1.479817e+18</td>\n",
              "      <td>Temidayoofoyo</td>\n",
              "      <td>1.479817e+18</td>\n",
              "      <td>𝑻𝒆𝒎𝒊𝒅𝒂𝒚𝒐 𝒐𝒇 𝑻𝒆𝒔𝒍𝒂 𝕏</td>\n",
              "      <td>Temidayoofoyo</td>\n",
              "      <td>State of mind</td>\n",
              "      <td>...</td>\n",
              "      <td>2022-01-08T14:07:20.000000Z</td>\n",
              "      <td>NaN</td>\n",
              "      <td>False</td>\n",
              "      <td>0.0</td>\n",
              "      <td>0.0</td>\n",
              "      <td>0.0</td>\n",
              "      <td>1.0</td>\n",
              "      <td>en</td>\n",
              "      <td>34.0</td>\n",
              "      <td>0.0</td>\n",
              "    </tr>\n",
              "    <tr>\n",
              "      <th>132013</th>\n",
              "      <td>2022-12-31T12:56:42.000000Z</td>\n",
              "      <td>1.609172e+18</td>\n",
              "      <td>@fiago7 Why not? Didn’t Saudi Arabia beat Arge...</td>\n",
              "      <td>1.609158e+18</td>\n",
              "      <td>1.269574e+18</td>\n",
              "      <td>fiago7</td>\n",
              "      <td>2.762109e+07</td>\n",
              "      <td>pnvc</td>\n",
              "      <td>pnvc</td>\n",
              "      <td>Lisboa, Portugal</td>\n",
              "      <td>...</td>\n",
              "      <td>2009-03-30T11:38:45.000000Z</td>\n",
              "      <td>NaN</td>\n",
              "      <td>False</td>\n",
              "      <td>0.0</td>\n",
              "      <td>1.0</td>\n",
              "      <td>0.0</td>\n",
              "      <td>0.0</td>\n",
              "      <td>en</td>\n",
              "      <td>331.0</td>\n",
              "      <td>0.0</td>\n",
              "    </tr>\n",
              "    <tr>\n",
              "      <th>132014</th>\n",
              "      <td>2022-12-31T12:56:30.000000Z</td>\n",
              "      <td>1.609172e+18</td>\n",
              "      <td>@KalleKeps @Reuters ''He is one of the highest...</td>\n",
              "      <td>1.609170e+18</td>\n",
              "      <td>8.669284e+17</td>\n",
              "      <td>KalleKeps</td>\n",
              "      <td>9.849266e+17</td>\n",
              "      <td>Miixms</td>\n",
              "      <td>miixms_</td>\n",
              "      <td>somewhere</td>\n",
              "      <td>...</td>\n",
              "      <td>2018-04-13T22:49:27.000000Z</td>\n",
              "      <td>NaN</td>\n",
              "      <td>False</td>\n",
              "      <td>0.0</td>\n",
              "      <td>1.0</td>\n",
              "      <td>0.0</td>\n",
              "      <td>0.0</td>\n",
              "      <td>en</td>\n",
              "      <td>123.0</td>\n",
              "      <td>0.0</td>\n",
              "    </tr>\n",
              "    <tr>\n",
              "      <th>132015</th>\n",
              "      <td>\u001a</td>\n",
              "      <td>NaN</td>\n",
              "      <td>NaN</td>\n",
              "      <td>NaN</td>\n",
              "      <td>NaN</td>\n",
              "      <td>NaN</td>\n",
              "      <td>NaN</td>\n",
              "      <td>NaN</td>\n",
              "      <td>NaN</td>\n",
              "      <td>NaN</td>\n",
              "      <td>...</td>\n",
              "      <td>NaN</td>\n",
              "      <td>NaN</td>\n",
              "      <td>NaN</td>\n",
              "      <td>NaN</td>\n",
              "      <td>NaN</td>\n",
              "      <td>NaN</td>\n",
              "      <td>NaN</td>\n",
              "      <td>NaN</td>\n",
              "      <td>NaN</td>\n",
              "      <td>NaN</td>\n",
              "    </tr>\n",
              "  </tbody>\n",
              "</table>\n",
              "<p>10 rows × 25 columns</p>\n",
              "</div>\n",
              "    <div class=\"colab-df-buttons\">\n",
              "\n",
              "  <div class=\"colab-df-container\">\n",
              "    <button class=\"colab-df-convert\" onclick=\"convertToInteractive('df-e1fc40e1-c96f-4743-bee4-7fe31515a0f2')\"\n",
              "            title=\"Convert this dataframe to an interactive table.\"\n",
              "            style=\"display:none;\">\n",
              "\n",
              "  <svg xmlns=\"http://www.w3.org/2000/svg\" height=\"24px\" viewBox=\"0 -960 960 960\">\n",
              "    <path d=\"M120-120v-720h720v720H120Zm60-500h600v-160H180v160Zm220 220h160v-160H400v160Zm0 220h160v-160H400v160ZM180-400h160v-160H180v160Zm440 0h160v-160H620v160ZM180-180h160v-160H180v160Zm440 0h160v-160H620v160Z\"/>\n",
              "  </svg>\n",
              "    </button>\n",
              "\n",
              "  <style>\n",
              "    .colab-df-container {\n",
              "      display:flex;\n",
              "      gap: 12px;\n",
              "    }\n",
              "\n",
              "    .colab-df-convert {\n",
              "      background-color: #E8F0FE;\n",
              "      border: none;\n",
              "      border-radius: 50%;\n",
              "      cursor: pointer;\n",
              "      display: none;\n",
              "      fill: #1967D2;\n",
              "      height: 32px;\n",
              "      padding: 0 0 0 0;\n",
              "      width: 32px;\n",
              "    }\n",
              "\n",
              "    .colab-df-convert:hover {\n",
              "      background-color: #E2EBFA;\n",
              "      box-shadow: 0px 1px 2px rgba(60, 64, 67, 0.3), 0px 1px 3px 1px rgba(60, 64, 67, 0.15);\n",
              "      fill: #174EA6;\n",
              "    }\n",
              "\n",
              "    .colab-df-buttons div {\n",
              "      margin-bottom: 4px;\n",
              "    }\n",
              "\n",
              "    [theme=dark] .colab-df-convert {\n",
              "      background-color: #3B4455;\n",
              "      fill: #D2E3FC;\n",
              "    }\n",
              "\n",
              "    [theme=dark] .colab-df-convert:hover {\n",
              "      background-color: #434B5C;\n",
              "      box-shadow: 0px 1px 3px 1px rgba(0, 0, 0, 0.15);\n",
              "      filter: drop-shadow(0px 1px 2px rgba(0, 0, 0, 0.3));\n",
              "      fill: #FFFFFF;\n",
              "    }\n",
              "  </style>\n",
              "\n",
              "    <script>\n",
              "      const buttonEl =\n",
              "        document.querySelector('#df-e1fc40e1-c96f-4743-bee4-7fe31515a0f2 button.colab-df-convert');\n",
              "      buttonEl.style.display =\n",
              "        google.colab.kernel.accessAllowed ? 'block' : 'none';\n",
              "\n",
              "      async function convertToInteractive(key) {\n",
              "        const element = document.querySelector('#df-e1fc40e1-c96f-4743-bee4-7fe31515a0f2');\n",
              "        const dataTable =\n",
              "          await google.colab.kernel.invokeFunction('convertToInteractive',\n",
              "                                                    [key], {});\n",
              "        if (!dataTable) return;\n",
              "\n",
              "        const docLinkHtml = 'Like what you see? Visit the ' +\n",
              "          '<a target=\"_blank\" href=https://colab.research.google.com/notebooks/data_table.ipynb>data table notebook</a>'\n",
              "          + ' to learn more about interactive tables.';\n",
              "        element.innerHTML = '';\n",
              "        dataTable['output_type'] = 'display_data';\n",
              "        await google.colab.output.renderOutput(dataTable, element);\n",
              "        const docLink = document.createElement('div');\n",
              "        docLink.innerHTML = docLinkHtml;\n",
              "        element.appendChild(docLink);\n",
              "      }\n",
              "    </script>\n",
              "  </div>\n",
              "\n",
              "\n",
              "<div id=\"df-021ae63b-ae8c-4334-89d9-a6f4a305a51e\">\n",
              "  <button class=\"colab-df-quickchart\" onclick=\"quickchart('df-021ae63b-ae8c-4334-89d9-a6f4a305a51e')\"\n",
              "            title=\"Suggest charts\"\n",
              "            style=\"display:none;\">\n",
              "\n",
              "<svg xmlns=\"http://www.w3.org/2000/svg\" height=\"24px\"viewBox=\"0 0 24 24\"\n",
              "     width=\"24px\">\n",
              "    <g>\n",
              "        <path d=\"M19 3H5c-1.1 0-2 .9-2 2v14c0 1.1.9 2 2 2h14c1.1 0 2-.9 2-2V5c0-1.1-.9-2-2-2zM9 17H7v-7h2v7zm4 0h-2V7h2v10zm4 0h-2v-4h2v4z\"/>\n",
              "    </g>\n",
              "</svg>\n",
              "  </button>\n",
              "\n",
              "<style>\n",
              "  .colab-df-quickchart {\n",
              "      --bg-color: #E8F0FE;\n",
              "      --fill-color: #1967D2;\n",
              "      --hover-bg-color: #E2EBFA;\n",
              "      --hover-fill-color: #174EA6;\n",
              "      --disabled-fill-color: #AAA;\n",
              "      --disabled-bg-color: #DDD;\n",
              "  }\n",
              "\n",
              "  [theme=dark] .colab-df-quickchart {\n",
              "      --bg-color: #3B4455;\n",
              "      --fill-color: #D2E3FC;\n",
              "      --hover-bg-color: #434B5C;\n",
              "      --hover-fill-color: #FFFFFF;\n",
              "      --disabled-bg-color: #3B4455;\n",
              "      --disabled-fill-color: #666;\n",
              "  }\n",
              "\n",
              "  .colab-df-quickchart {\n",
              "    background-color: var(--bg-color);\n",
              "    border: none;\n",
              "    border-radius: 50%;\n",
              "    cursor: pointer;\n",
              "    display: none;\n",
              "    fill: var(--fill-color);\n",
              "    height: 32px;\n",
              "    padding: 0;\n",
              "    width: 32px;\n",
              "  }\n",
              "\n",
              "  .colab-df-quickchart:hover {\n",
              "    background-color: var(--hover-bg-color);\n",
              "    box-shadow: 0 1px 2px rgba(60, 64, 67, 0.3), 0 1px 3px 1px rgba(60, 64, 67, 0.15);\n",
              "    fill: var(--button-hover-fill-color);\n",
              "  }\n",
              "\n",
              "  .colab-df-quickchart-complete:disabled,\n",
              "  .colab-df-quickchart-complete:disabled:hover {\n",
              "    background-color: var(--disabled-bg-color);\n",
              "    fill: var(--disabled-fill-color);\n",
              "    box-shadow: none;\n",
              "  }\n",
              "\n",
              "  .colab-df-spinner {\n",
              "    border: 2px solid var(--fill-color);\n",
              "    border-color: transparent;\n",
              "    border-bottom-color: var(--fill-color);\n",
              "    animation:\n",
              "      spin 1s steps(1) infinite;\n",
              "  }\n",
              "\n",
              "  @keyframes spin {\n",
              "    0% {\n",
              "      border-color: transparent;\n",
              "      border-bottom-color: var(--fill-color);\n",
              "      border-left-color: var(--fill-color);\n",
              "    }\n",
              "    20% {\n",
              "      border-color: transparent;\n",
              "      border-left-color: var(--fill-color);\n",
              "      border-top-color: var(--fill-color);\n",
              "    }\n",
              "    30% {\n",
              "      border-color: transparent;\n",
              "      border-left-color: var(--fill-color);\n",
              "      border-top-color: var(--fill-color);\n",
              "      border-right-color: var(--fill-color);\n",
              "    }\n",
              "    40% {\n",
              "      border-color: transparent;\n",
              "      border-right-color: var(--fill-color);\n",
              "      border-top-color: var(--fill-color);\n",
              "    }\n",
              "    60% {\n",
              "      border-color: transparent;\n",
              "      border-right-color: var(--fill-color);\n",
              "    }\n",
              "    80% {\n",
              "      border-color: transparent;\n",
              "      border-right-color: var(--fill-color);\n",
              "      border-bottom-color: var(--fill-color);\n",
              "    }\n",
              "    90% {\n",
              "      border-color: transparent;\n",
              "      border-bottom-color: var(--fill-color);\n",
              "    }\n",
              "  }\n",
              "</style>\n",
              "\n",
              "  <script>\n",
              "    async function quickchart(key) {\n",
              "      const quickchartButtonEl =\n",
              "        document.querySelector('#' + key + ' button');\n",
              "      quickchartButtonEl.disabled = true;  // To prevent multiple clicks.\n",
              "      quickchartButtonEl.classList.add('colab-df-spinner');\n",
              "      try {\n",
              "        const charts = await google.colab.kernel.invokeFunction(\n",
              "            'suggestCharts', [key], {});\n",
              "      } catch (error) {\n",
              "        console.error('Error during call to suggestCharts:', error);\n",
              "      }\n",
              "      quickchartButtonEl.classList.remove('colab-df-spinner');\n",
              "      quickchartButtonEl.classList.add('colab-df-quickchart-complete');\n",
              "    }\n",
              "    (() => {\n",
              "      let quickchartButtonEl =\n",
              "        document.querySelector('#df-021ae63b-ae8c-4334-89d9-a6f4a305a51e button');\n",
              "      quickchartButtonEl.style.display =\n",
              "        google.colab.kernel.accessAllowed ? 'block' : 'none';\n",
              "    })();\n",
              "  </script>\n",
              "</div>\n",
              "\n",
              "    </div>\n",
              "  </div>\n"
            ],
            "text/plain": [
              "                   tweet_created_at        id_str  \\\n",
              "132006  2022-12-31T13:00:45.000000Z  1.609173e+18   \n",
              "132007  2022-12-31T13:00:39.000000Z  1.609173e+18   \n",
              "132008  2022-12-31T12:59:24.000000Z  1.609172e+18   \n",
              "132009  2022-12-31T12:58:04.000000Z  1.609172e+18   \n",
              "132010  2022-12-31T12:57:52.000000Z  1.609172e+18   \n",
              "132011  2022-12-31T12:57:50.000000Z  1.609172e+18   \n",
              "132012  2022-12-31T12:56:49.000000Z  1.609172e+18   \n",
              "132013  2022-12-31T12:56:42.000000Z  1.609172e+18   \n",
              "132014  2022-12-31T12:56:30.000000Z  1.609172e+18   \n",
              "132015                            \u001a           NaN   \n",
              "\n",
              "                                                full_text  \\\n",
              "132006  You all (including the media) bullied Cristian...   \n",
              "132007  @YOUNGPUNTER2 @FCBAlfredo @kaleembuledi @goal ...   \n",
              "132008  @PiersUncensored @piersmorgan @TalkTV Do you s...   \n",
              "132009  @Fcbarcelonab4l @agentmeifes @Bobby_CUV @breat...   \n",
              "132010  @FrankKhalidUK All is possible!!!! If Messi ha...   \n",
              "132011  @kingfishtyty @MoneyMase838382 @FUT23News Exac...   \n",
              "132012  🇵🇹 But only Cristiano Ronaldo is getting hated...   \n",
              "132013  @fiago7 Why not? Didn’t Saudi Arabia beat Arge...   \n",
              "132014  @KalleKeps @Reuters ''He is one of the highest...   \n",
              "132015                                                NaN   \n",
              "\n",
              "        in_reply_to_status_id_str  in_reply_to_user_id_str  \\\n",
              "132006                        NaN                      NaN   \n",
              "132007               1.608985e+18             1.607373e+18   \n",
              "132008               1.607431e+18             1.455577e+18   \n",
              "132009               1.609165e+18             8.985846e+17   \n",
              "132010               1.608879e+18             4.381617e+09   \n",
              "132011               1.609139e+18             1.279498e+18   \n",
              "132012               1.609172e+18             1.479817e+18   \n",
              "132013               1.609158e+18             1.269574e+18   \n",
              "132014               1.609170e+18             8.669284e+17   \n",
              "132015                        NaN                      NaN   \n",
              "\n",
              "       in_reply_to_screen_name   user_id_str            user_name  \\\n",
              "132006                     NaN  1.244201e+18                RiRi🌸   \n",
              "132007            YOUNGPUNTER2  1.168636e+18                 CJ46   \n",
              "132008         PiersUncensored  1.405867e+09                 John   \n",
              "132009          Fcbarcelonab4l  3.563384e+09               MuziDV   \n",
              "132010           FrankKhalidUK  1.948197e+08               Wil B.   \n",
              "132011                tt181103  1.483314e+18               Rhiyuk   \n",
              "132012           Temidayoofoyo  1.479817e+18  𝑻𝒆𝒎𝒊𝒅𝒂𝒚𝒐 𝒐𝒇 𝑻𝒆𝒔𝒍𝒂 𝕏   \n",
              "132013                  fiago7  2.762109e+07                 pnvc   \n",
              "132014               KalleKeps  9.849266e+17               Miixms   \n",
              "132015                     NaN           NaN                  NaN   \n",
              "\n",
              "       user_screen_name     user_location  ...              user_created_at  \\\n",
              "132006         priz_pri               NaN  ...  2020-03-29T09:52:29.000000Z   \n",
              "132007     OfficialCJ46           Ireland  ...  2019-09-02T21:24:26.000000Z   \n",
              "132008      Smeagle1845               NaN  ...  2013-05-05T19:19:58.000000Z   \n",
              "132009         22muzidv               NaN  ...  2015-09-06T06:29:18.000000Z   \n",
              "132010      WILBELTRANT               NaN  ...  2010-09-25T02:04:55.000000Z   \n",
              "132011        whosAmxty               NaN  ...  2022-01-18T05:41:27.000000Z   \n",
              "132012    Temidayoofoyo     State of mind  ...  2022-01-08T14:07:20.000000Z   \n",
              "132013             pnvc  Lisboa, Portugal  ...  2009-03-30T11:38:45.000000Z   \n",
              "132014          miixms_         somewhere  ...  2018-04-13T22:49:27.000000Z   \n",
              "132015              NaN               NaN  ...                          NaN   \n",
              "\n",
              "        quoted_status_id_str  is_quote_status  quote_count  reply_count  \\\n",
              "132006                   NaN            False          0.0          0.0   \n",
              "132007                   NaN            False          0.0          1.0   \n",
              "132008                   NaN            False          0.0          0.0   \n",
              "132009                   NaN            False          0.0          0.0   \n",
              "132010                   NaN            False          0.0          0.0   \n",
              "132011                   NaN            False          0.0          2.0   \n",
              "132012                   NaN            False          0.0          0.0   \n",
              "132013                   NaN            False          0.0          1.0   \n",
              "132014                   NaN            False          0.0          1.0   \n",
              "132015                   NaN              NaN          NaN          NaN   \n",
              "\n",
              "       retweet_count  favorite_count lang  views_count  bookmark_count  \n",
              "132006           0.0             0.0   en         41.0             0.0  \n",
              "132007           0.0             0.0   en         33.0             0.0  \n",
              "132008           0.0             0.0   en         55.0             0.0  \n",
              "132009           0.0             0.0   en        417.0             0.0  \n",
              "132010           0.0             0.0   en         26.0             0.0  \n",
              "132011           0.0             1.0   en        127.0             0.0  \n",
              "132012           0.0             1.0   en         34.0             0.0  \n",
              "132013           0.0             0.0   en        331.0             0.0  \n",
              "132014           0.0             0.0   en        123.0             0.0  \n",
              "132015           NaN             NaN  NaN          NaN             NaN  \n",
              "\n",
              "[10 rows x 25 columns]"
            ]
          },
          "execution_count": 5,
          "metadata": {},
          "output_type": "execute_result"
        }
      ],
      "source": [
        "# Checking the last 10 Rows\n",
        "data.tail(10)"
      ]
    },
    {
      "cell_type": "markdown",
      "metadata": {
        "id": "OUVanDsa3zhz"
      },
      "source": [
        "## Columns is a function that shows the names of the columns"
      ]
    },
    {
      "cell_type": "code",
      "execution_count": null,
      "metadata": {
        "colab": {
          "base_uri": "https://localhost:8080/"
        },
        "execution": {
          "iopub.execute_input": "2022-08-27T08:25:19.072944Z",
          "iopub.status.busy": "2022-08-27T08:25:19.07178Z",
          "iopub.status.idle": "2022-08-27T08:25:19.08014Z",
          "shell.execute_reply": "2022-08-27T08:25:19.079047Z",
          "shell.execute_reply.started": "2022-08-27T08:25:19.0729Z"
        },
        "id": "t7YWhWR_uDlk",
        "outputId": "bd9fcdd0-082f-436b-e8ec-4a04cbb037bc"
      },
      "outputs": [
        {
          "data": {
            "text/plain": [
              "Index(['tweet_created_at', 'id_str', 'full_text', 'in_reply_to_status_id_str',\n",
              "       'in_reply_to_user_id_str', 'in_reply_to_screen_name', 'user_id_str',\n",
              "       'user_name', 'user_screen_name', 'user_location',\n",
              "       'user_followers_count', 'user_friends_count', 'user_listed_count',\n",
              "       'user_favourites_count', 'user_statuses_count', 'user_created_at',\n",
              "       'quoted_status_id_str', 'is_quote_status', 'quote_count', 'reply_count',\n",
              "       'retweet_count', 'favorite_count', 'lang', 'views_count',\n",
              "       'bookmark_count'],\n",
              "      dtype='object')"
            ]
          },
          "execution_count": 6,
          "metadata": {},
          "output_type": "execute_result"
        }
      ],
      "source": [
        "# viewing the columns in our dataset\n",
        "data.columns"
      ]
    },
    {
      "cell_type": "markdown",
      "metadata": {
        "id": "At0zySlo3zh0"
      },
      "source": [
        "## Info is a function that shows the info of the columns"
      ]
    },
    {
      "cell_type": "code",
      "execution_count": null,
      "metadata": {
        "colab": {
          "base_uri": "https://localhost:8080/"
        },
        "execution": {
          "iopub.execute_input": "2022-08-27T08:25:19.486721Z",
          "iopub.status.busy": "2022-08-27T08:25:19.485574Z",
          "iopub.status.idle": "2022-08-27T08:25:19.523255Z",
          "shell.execute_reply": "2022-08-27T08:25:19.521932Z",
          "shell.execute_reply.started": "2022-08-27T08:25:19.486675Z"
        },
        "id": "K3IhqOUhup7A",
        "outputId": "66367e25-8590-4673-879f-2e59ccd1e0b0"
      },
      "outputs": [
        {
          "name": "stdout",
          "output_type": "stream",
          "text": [
            "<class 'pandas.core.frame.DataFrame'>\n",
            "RangeIndex: 132016 entries, 0 to 132015\n",
            "Data columns (total 25 columns):\n",
            " #   Column                     Non-Null Count   Dtype  \n",
            "---  ------                     --------------   -----  \n",
            " 0   tweet_created_at           132016 non-null  object \n",
            " 1   id_str                     132013 non-null  float64\n",
            " 2   full_text                  132013 non-null  object \n",
            " 3   in_reply_to_status_id_str  99928 non-null   float64\n",
            " 4   in_reply_to_user_id_str    100627 non-null  float64\n",
            " 5   in_reply_to_screen_name    100625 non-null  object \n",
            " 6   user_id_str                132013 non-null  float64\n",
            " 7   user_name                  132008 non-null  object \n",
            " 8   user_screen_name           132013 non-null  object \n",
            " 9   user_location              70622 non-null   object \n",
            " 10  user_followers_count       132013 non-null  float64\n",
            " 11  user_friends_count         132013 non-null  float64\n",
            " 12  user_listed_count          132013 non-null  float64\n",
            " 13  user_favourites_count      132013 non-null  float64\n",
            " 14  user_statuses_count        132013 non-null  float64\n",
            " 15  user_created_at            132013 non-null  object \n",
            " 16  quoted_status_id_str       0 non-null       float64\n",
            " 17  is_quote_status            132013 non-null  object \n",
            " 18  quote_count                132013 non-null  float64\n",
            " 19  reply_count                132013 non-null  float64\n",
            " 20  retweet_count              132013 non-null  float64\n",
            " 21  favorite_count             132013 non-null  float64\n",
            " 22  lang                       132013 non-null  object \n",
            " 23  views_count                131970 non-null  float64\n",
            " 24  bookmark_count             132013 non-null  float64\n",
            "dtypes: float64(16), object(9)\n",
            "memory usage: 25.2+ MB\n"
          ]
        }
      ],
      "source": [
        "# Viewing the info about our dataset\n",
        "data.info()"
      ]
    },
    {
      "cell_type": "markdown",
      "metadata": {
        "id": "zMfAO_NL3zh0"
      },
      "source": [
        "## Nunique is a function that shows the number of unique Values in the columns"
      ]
    },
    {
      "cell_type": "code",
      "execution_count": null,
      "metadata": {
        "colab": {
          "base_uri": "https://localhost:8080/"
        },
        "execution": {
          "iopub.execute_input": "2022-08-27T08:25:19.781961Z",
          "iopub.status.busy": "2022-08-27T08:25:19.781559Z",
          "iopub.status.idle": "2022-08-27T08:25:19.817358Z",
          "shell.execute_reply": "2022-08-27T08:25:19.816158Z",
          "shell.execute_reply.started": "2022-08-27T08:25:19.781929Z"
        },
        "id": "pgcq-jhquKPT",
        "outputId": "35d025ca-52e0-466e-de65-490a3b300969"
      },
      "outputs": [
        {
          "data": {
            "text/plain": [
              "tweet_created_at             125775\n",
              "id_str                       119235\n",
              "full_text                    126020\n",
              "in_reply_to_status_id_str     68705\n",
              "in_reply_to_user_id_str       33686\n",
              "in_reply_to_screen_name       31970\n",
              "user_id_str                   76723\n",
              "user_name                     66593\n",
              "user_screen_name              73672\n",
              "user_location                 17255\n",
              "user_followers_count          10739\n",
              "user_friends_count             6417\n",
              "user_listed_count               694\n",
              "user_favourites_count         40621\n",
              "user_statuses_count           32678\n",
              "user_created_at               73657\n",
              "quoted_status_id_str              0\n",
              "is_quote_status                   1\n",
              "quote_count                      98\n",
              "reply_count                     218\n",
              "retweet_count                   355\n",
              "favorite_count                 1099\n",
              "lang                             19\n",
              "views_count                    7368\n",
              "bookmark_count                   79\n",
              "dtype: int64"
            ]
          },
          "execution_count": 9,
          "metadata": {},
          "output_type": "execute_result"
        }
      ],
      "source": [
        "# Checking unique values\n",
        "data.nunique()"
      ]
    },
    {
      "cell_type": "markdown",
      "metadata": {
        "id": "zoG_RA34XCTH"
      },
      "source": [
        "## Isnull is a function that used to detect missing values"
      ]
    },
    {
      "cell_type": "code",
      "execution_count": null,
      "metadata": {
        "colab": {
          "base_uri": "https://localhost:8080/"
        },
        "execution": {
          "iopub.execute_input": "2022-08-27T08:25:20.123106Z",
          "iopub.status.busy": "2022-08-27T08:25:20.122693Z",
          "iopub.status.idle": "2022-08-27T08:25:20.140708Z",
          "shell.execute_reply": "2022-08-27T08:25:20.139665Z",
          "shell.execute_reply.started": "2022-08-27T08:25:20.123067Z"
        },
        "id": "VuKJ_u2cufiX",
        "outputId": "4c36215b-7d76-4d76-83f3-3e4da2406229"
      },
      "outputs": [
        {
          "data": {
            "text/plain": [
              "tweet_created_at                  0\n",
              "id_str                            3\n",
              "full_text                         3\n",
              "in_reply_to_status_id_str     32088\n",
              "in_reply_to_user_id_str       31389\n",
              "in_reply_to_screen_name       31391\n",
              "user_id_str                       3\n",
              "user_name                         8\n",
              "user_screen_name                  3\n",
              "user_location                 61394\n",
              "user_followers_count              3\n",
              "user_friends_count                3\n",
              "user_listed_count                 3\n",
              "user_favourites_count             3\n",
              "user_statuses_count               3\n",
              "user_created_at                   3\n",
              "quoted_status_id_str         132016\n",
              "is_quote_status                   3\n",
              "quote_count                       3\n",
              "reply_count                       3\n",
              "retweet_count                     3\n",
              "favorite_count                    3\n",
              "lang                              3\n",
              "views_count                      46\n",
              "bookmark_count                    3\n",
              "dtype: int64"
            ]
          },
          "execution_count": 10,
          "metadata": {},
          "output_type": "execute_result"
        }
      ],
      "source": [
        "# Checking null values in our dataset\n",
        "data.isnull().sum()"
      ]
    },
    {
      "cell_type": "markdown",
      "metadata": {
        "id": "iTTDQvM3v7R8"
      },
      "source": [
        "## **Preprocessing on dataset**"
      ]
    },
    {
      "cell_type": "markdown",
      "metadata": {
        "id": "qEMA82T93zh2"
      },
      "source": [
        "# Parser is a function that delete or convert unmatched dates in a dataset\n",
        "\n",
        "---\n",
        "\n",
        "in date column 'tweet_created_at'"
      ]
    },
    {
      "cell_type": "code",
      "execution_count": null,
      "metadata": {
        "id": "RVuqSJyP3zh2"
      },
      "outputs": [],
      "source": [
        "# Parsing date strings in a DataFrame, converts them to ISO 8601 format, and handles exceptions.\n",
        "from dateutil import parser\n",
        "\n",
        "for i, date_str in enumerate(data['tweet_created_at']):\n",
        "    try:\n",
        "        datetime_obj = parser.parse(date_str)\n",
        "        iso8601_str = datetime_obj.isoformat()\n",
        "        data.at[i, 'tweet_created_at'] = iso8601_str\n",
        "    except ValueError:\n",
        "        data.at[i, 'tweet_created_at'] = None\n"
      ]
    },
    {
      "cell_type": "code",
      "execution_count": null,
      "metadata": {
        "id": "Rvjiul-Y3zh3"
      },
      "outputs": [],
      "source": [
        "# Converting 'tweet_created_at' to human-readable date-time format and extracting date:\n",
        "data['tweet_created_at'] = pd.to_datetime(data['tweet_created_at']).dt.date"
      ]
    },
    {
      "cell_type": "code",
      "execution_count": null,
      "metadata": {
        "id": "ZzIWApUgQeP7"
      },
      "outputs": [],
      "source": [
        "# Converting 'tweet_created_at' to standard datetime format\n",
        "data['tweet_created_at'] = pd.to_datetime(data['tweet_created_at'])"
      ]
    },
    {
      "cell_type": "code",
      "execution_count": null,
      "metadata": {
        "colab": {
          "base_uri": "https://localhost:8080/"
        },
        "id": "3o7JH4iBPpQq",
        "outputId": "4fe34f05-a1f2-432d-cfda-77ef831c7d3c"
      },
      "outputs": [
        {
          "name": "stdout",
          "output_type": "stream",
          "text": [
            "0   2024-01-19\n",
            "1   2024-01-19\n",
            "2   2024-01-19\n",
            "3   2024-01-19\n",
            "4   2024-01-19\n",
            "Name: tweet_created_at, dtype: datetime64[ns]\n"
          ]
        }
      ],
      "source": [
        "print(data['tweet_created_at'].head())"
      ]
    },
    {
      "cell_type": "code",
      "execution_count": null,
      "metadata": {
        "colab": {
          "base_uri": "https://localhost:8080/"
        },
        "execution": {
          "iopub.execute_input": "2022-08-27T08:25:21.64735Z",
          "iopub.status.busy": "2022-08-27T08:25:21.646718Z",
          "iopub.status.idle": "2022-08-27T08:25:21.667942Z",
          "shell.execute_reply": "2022-08-27T08:25:21.666679Z",
          "shell.execute_reply.started": "2022-08-27T08:25:21.647314Z"
        },
        "id": "C4WmcHVixDhk",
        "outputId": "761cf5e1-64e3-4981-ebea-41edc670137f"
      },
      "outputs": [
        {
          "name": "stdout",
          "output_type": "stream",
          "text": [
            "<class 'pandas.core.frame.DataFrame'>\n",
            "RangeIndex: 132016 entries, 0 to 132015\n",
            "Data columns (total 25 columns):\n",
            " #   Column                     Non-Null Count   Dtype         \n",
            "---  ------                     --------------   -----         \n",
            " 0   tweet_created_at           132013 non-null  datetime64[ns]\n",
            " 1   id_str                     132013 non-null  float64       \n",
            " 2   full_text                  132013 non-null  object        \n",
            " 3   in_reply_to_status_id_str  99928 non-null   float64       \n",
            " 4   in_reply_to_user_id_str    100627 non-null  float64       \n",
            " 5   in_reply_to_screen_name    100625 non-null  object        \n",
            " 6   user_id_str                132013 non-null  float64       \n",
            " 7   user_name                  132008 non-null  object        \n",
            " 8   user_screen_name           132013 non-null  object        \n",
            " 9   user_location              70622 non-null   object        \n",
            " 10  user_followers_count       132013 non-null  float64       \n",
            " 11  user_friends_count         132013 non-null  float64       \n",
            " 12  user_listed_count          132013 non-null  float64       \n",
            " 13  user_favourites_count      132013 non-null  float64       \n",
            " 14  user_statuses_count        132013 non-null  float64       \n",
            " 15  user_created_at            132013 non-null  object        \n",
            " 16  quoted_status_id_str       0 non-null       float64       \n",
            " 17  is_quote_status            132013 non-null  object        \n",
            " 18  quote_count                132013 non-null  float64       \n",
            " 19  reply_count                132013 non-null  float64       \n",
            " 20  retweet_count              132013 non-null  float64       \n",
            " 21  favorite_count             132013 non-null  float64       \n",
            " 22  lang                       132013 non-null  object        \n",
            " 23  views_count                131970 non-null  float64       \n",
            " 24  bookmark_count             132013 non-null  float64       \n",
            "dtypes: datetime64[ns](1), float64(16), object(8)\n",
            "memory usage: 25.2+ MB\n"
          ]
        }
      ],
      "source": [
        "data.info()"
      ]
    },
    {
      "cell_type": "code",
      "execution_count": null,
      "metadata": {
        "colab": {
          "base_uri": "https://localhost:8080/",
          "height": 457
        },
        "execution": {
          "iopub.execute_input": "2022-08-27T08:25:21.929578Z",
          "iopub.status.busy": "2022-08-27T08:25:21.928946Z",
          "iopub.status.idle": "2022-08-27T08:25:21.950357Z",
          "shell.execute_reply": "2022-08-27T08:25:21.949047Z",
          "shell.execute_reply.started": "2022-08-27T08:25:21.929541Z"
        },
        "id": "Iu3o-YqqxFdc",
        "outputId": "9c7e738f-c46a-4530-cafa-3b499348dfe6"
      },
      "outputs": [
        {
          "data": {
            "application/vnd.google.colaboratory.intrinsic+json": {
              "type": "dataframe",
              "variable_name": "data"
            },
            "text/html": [
              "\n",
              "  <div id=\"df-4cb6ae3c-d93e-459f-9dab-588ca141b831\" class=\"colab-df-container\">\n",
              "    <div>\n",
              "<style scoped>\n",
              "    .dataframe tbody tr th:only-of-type {\n",
              "        vertical-align: middle;\n",
              "    }\n",
              "\n",
              "    .dataframe tbody tr th {\n",
              "        vertical-align: top;\n",
              "    }\n",
              "\n",
              "    .dataframe thead th {\n",
              "        text-align: right;\n",
              "    }\n",
              "</style>\n",
              "<table border=\"1\" class=\"dataframe\">\n",
              "  <thead>\n",
              "    <tr style=\"text-align: right;\">\n",
              "      <th></th>\n",
              "      <th>tweet_created_at</th>\n",
              "      <th>id_str</th>\n",
              "      <th>full_text</th>\n",
              "      <th>in_reply_to_status_id_str</th>\n",
              "      <th>in_reply_to_user_id_str</th>\n",
              "      <th>in_reply_to_screen_name</th>\n",
              "      <th>user_id_str</th>\n",
              "      <th>user_name</th>\n",
              "      <th>user_screen_name</th>\n",
              "      <th>user_location</th>\n",
              "      <th>...</th>\n",
              "      <th>user_created_at</th>\n",
              "      <th>quoted_status_id_str</th>\n",
              "      <th>is_quote_status</th>\n",
              "      <th>quote_count</th>\n",
              "      <th>reply_count</th>\n",
              "      <th>retweet_count</th>\n",
              "      <th>favorite_count</th>\n",
              "      <th>lang</th>\n",
              "      <th>views_count</th>\n",
              "      <th>bookmark_count</th>\n",
              "    </tr>\n",
              "  </thead>\n",
              "  <tbody>\n",
              "    <tr>\n",
              "      <th>0</th>\n",
              "      <td>2024-01-19</td>\n",
              "      <td>1.748490e+18</td>\n",
              "      <td>@_VALKlNG @FabrizioRomano And yet Benzema and ...</td>\n",
              "      <td>1.748380e+18</td>\n",
              "      <td>1.116810e+18</td>\n",
              "      <td>_VALKlNG</td>\n",
              "      <td>1.424240e+18</td>\n",
              "      <td>9 inches monster cock</td>\n",
              "      <td>ma_nny001</td>\n",
              "      <td>Deepestpartoftrenches</td>\n",
              "      <td>...</td>\n",
              "      <td>2021-08-08T05:07:47.000000Z</td>\n",
              "      <td>NaN</td>\n",
              "      <td>False</td>\n",
              "      <td>0.0</td>\n",
              "      <td>0.0</td>\n",
              "      <td>0.0</td>\n",
              "      <td>0.0</td>\n",
              "      <td>en</td>\n",
              "      <td>551.0</td>\n",
              "      <td>0.0</td>\n",
              "    </tr>\n",
              "    <tr>\n",
              "      <th>1</th>\n",
              "      <td>2024-01-19</td>\n",
              "      <td>1.748490e+18</td>\n",
              "      <td>@YemisiKolaa Talking Ronaldo is the only top p...</td>\n",
              "      <td>1.748390e+18</td>\n",
              "      <td>1.530480e+18</td>\n",
              "      <td>YemisiKolaa</td>\n",
              "      <td>1.590850e+18</td>\n",
              "      <td>Jibson</td>\n",
              "      <td>Jibson_02</td>\n",
              "      <td>NaN</td>\n",
              "      <td>...</td>\n",
              "      <td>2022-11-10T23:39:43.000000Z</td>\n",
              "      <td>NaN</td>\n",
              "      <td>False</td>\n",
              "      <td>0.0</td>\n",
              "      <td>0.0</td>\n",
              "      <td>0.0</td>\n",
              "      <td>0.0</td>\n",
              "      <td>en</td>\n",
              "      <td>30.0</td>\n",
              "      <td>0.0</td>\n",
              "    </tr>\n",
              "    <tr>\n",
              "      <th>2</th>\n",
              "      <td>2024-01-19</td>\n",
              "      <td>1.748480e+18</td>\n",
              "      <td>@_moose_b @THEBOY450066551 @sparkles_art1 @tot...</td>\n",
              "      <td>1.748480e+18</td>\n",
              "      <td>6.072224e+08</td>\n",
              "      <td>_moose_b</td>\n",
              "      <td>1.371700e+18</td>\n",
              "      <td>Frosty 🥶</td>\n",
              "      <td>__2drippy__</td>\n",
              "      <td>NaN</td>\n",
              "      <td>...</td>\n",
              "      <td>2021-03-16T06:01:44.000000Z</td>\n",
              "      <td>NaN</td>\n",
              "      <td>False</td>\n",
              "      <td>0.0</td>\n",
              "      <td>2.0</td>\n",
              "      <td>1.0</td>\n",
              "      <td>1.0</td>\n",
              "      <td>en</td>\n",
              "      <td>112.0</td>\n",
              "      <td>0.0</td>\n",
              "    </tr>\n",
              "    <tr>\n",
              "      <th>3</th>\n",
              "      <td>2024-01-19</td>\n",
              "      <td>1.748480e+18</td>\n",
              "      <td>@FabrizioRomano Obviously who knows Ligue one ...</td>\n",
              "      <td>1.748400e+18</td>\n",
              "      <td>3.302627e+08</td>\n",
              "      <td>FabrizioRomano</td>\n",
              "      <td>4.322164e+08</td>\n",
              "      <td>JD</td>\n",
              "      <td>jdjosedjd</td>\n",
              "      <td>NaN</td>\n",
              "      <td>...</td>\n",
              "      <td>2011-12-09T05:02:44.000000Z</td>\n",
              "      <td>NaN</td>\n",
              "      <td>False</td>\n",
              "      <td>0.0</td>\n",
              "      <td>0.0</td>\n",
              "      <td>0.0</td>\n",
              "      <td>0.0</td>\n",
              "      <td>en</td>\n",
              "      <td>32.0</td>\n",
              "      <td>0.0</td>\n",
              "    </tr>\n",
              "    <tr>\n",
              "      <th>4</th>\n",
              "      <td>2024-01-19</td>\n",
              "      <td>1.748480e+18</td>\n",
              "      <td>@Nadal_istheGOAT @FabrizioRomano You've forgot...</td>\n",
              "      <td>1.748410e+18</td>\n",
              "      <td>4.546809e+09</td>\n",
              "      <td>Nadal_istheGOAT</td>\n",
              "      <td>1.318130e+18</td>\n",
              "      <td>Kashope Ola</td>\n",
              "      <td>KashopeOla</td>\n",
              "      <td>NaN</td>\n",
              "      <td>...</td>\n",
              "      <td>2020-10-19T09:49:04.000000Z</td>\n",
              "      <td>NaN</td>\n",
              "      <td>False</td>\n",
              "      <td>0.0</td>\n",
              "      <td>0.0</td>\n",
              "      <td>0.0</td>\n",
              "      <td>2.0</td>\n",
              "      <td>en</td>\n",
              "      <td>122.0</td>\n",
              "      <td>0.0</td>\n",
              "    </tr>\n",
              "  </tbody>\n",
              "</table>\n",
              "<p>5 rows × 25 columns</p>\n",
              "</div>\n",
              "    <div class=\"colab-df-buttons\">\n",
              "\n",
              "  <div class=\"colab-df-container\">\n",
              "    <button class=\"colab-df-convert\" onclick=\"convertToInteractive('df-4cb6ae3c-d93e-459f-9dab-588ca141b831')\"\n",
              "            title=\"Convert this dataframe to an interactive table.\"\n",
              "            style=\"display:none;\">\n",
              "\n",
              "  <svg xmlns=\"http://www.w3.org/2000/svg\" height=\"24px\" viewBox=\"0 -960 960 960\">\n",
              "    <path d=\"M120-120v-720h720v720H120Zm60-500h600v-160H180v160Zm220 220h160v-160H400v160Zm0 220h160v-160H400v160ZM180-400h160v-160H180v160Zm440 0h160v-160H620v160ZM180-180h160v-160H180v160Zm440 0h160v-160H620v160Z\"/>\n",
              "  </svg>\n",
              "    </button>\n",
              "\n",
              "  <style>\n",
              "    .colab-df-container {\n",
              "      display:flex;\n",
              "      gap: 12px;\n",
              "    }\n",
              "\n",
              "    .colab-df-convert {\n",
              "      background-color: #E8F0FE;\n",
              "      border: none;\n",
              "      border-radius: 50%;\n",
              "      cursor: pointer;\n",
              "      display: none;\n",
              "      fill: #1967D2;\n",
              "      height: 32px;\n",
              "      padding: 0 0 0 0;\n",
              "      width: 32px;\n",
              "    }\n",
              "\n",
              "    .colab-df-convert:hover {\n",
              "      background-color: #E2EBFA;\n",
              "      box-shadow: 0px 1px 2px rgba(60, 64, 67, 0.3), 0px 1px 3px 1px rgba(60, 64, 67, 0.15);\n",
              "      fill: #174EA6;\n",
              "    }\n",
              "\n",
              "    .colab-df-buttons div {\n",
              "      margin-bottom: 4px;\n",
              "    }\n",
              "\n",
              "    [theme=dark] .colab-df-convert {\n",
              "      background-color: #3B4455;\n",
              "      fill: #D2E3FC;\n",
              "    }\n",
              "\n",
              "    [theme=dark] .colab-df-convert:hover {\n",
              "      background-color: #434B5C;\n",
              "      box-shadow: 0px 1px 3px 1px rgba(0, 0, 0, 0.15);\n",
              "      filter: drop-shadow(0px 1px 2px rgba(0, 0, 0, 0.3));\n",
              "      fill: #FFFFFF;\n",
              "    }\n",
              "  </style>\n",
              "\n",
              "    <script>\n",
              "      const buttonEl =\n",
              "        document.querySelector('#df-4cb6ae3c-d93e-459f-9dab-588ca141b831 button.colab-df-convert');\n",
              "      buttonEl.style.display =\n",
              "        google.colab.kernel.accessAllowed ? 'block' : 'none';\n",
              "\n",
              "      async function convertToInteractive(key) {\n",
              "        const element = document.querySelector('#df-4cb6ae3c-d93e-459f-9dab-588ca141b831');\n",
              "        const dataTable =\n",
              "          await google.colab.kernel.invokeFunction('convertToInteractive',\n",
              "                                                    [key], {});\n",
              "        if (!dataTable) return;\n",
              "\n",
              "        const docLinkHtml = 'Like what you see? Visit the ' +\n",
              "          '<a target=\"_blank\" href=https://colab.research.google.com/notebooks/data_table.ipynb>data table notebook</a>'\n",
              "          + ' to learn more about interactive tables.';\n",
              "        element.innerHTML = '';\n",
              "        dataTable['output_type'] = 'display_data';\n",
              "        await google.colab.output.renderOutput(dataTable, element);\n",
              "        const docLink = document.createElement('div');\n",
              "        docLink.innerHTML = docLinkHtml;\n",
              "        element.appendChild(docLink);\n",
              "      }\n",
              "    </script>\n",
              "  </div>\n",
              "\n",
              "\n",
              "<div id=\"df-d7949ec6-7f32-4bf9-b8b6-e042519a848e\">\n",
              "  <button class=\"colab-df-quickchart\" onclick=\"quickchart('df-d7949ec6-7f32-4bf9-b8b6-e042519a848e')\"\n",
              "            title=\"Suggest charts\"\n",
              "            style=\"display:none;\">\n",
              "\n",
              "<svg xmlns=\"http://www.w3.org/2000/svg\" height=\"24px\"viewBox=\"0 0 24 24\"\n",
              "     width=\"24px\">\n",
              "    <g>\n",
              "        <path d=\"M19 3H5c-1.1 0-2 .9-2 2v14c0 1.1.9 2 2 2h14c1.1 0 2-.9 2-2V5c0-1.1-.9-2-2-2zM9 17H7v-7h2v7zm4 0h-2V7h2v10zm4 0h-2v-4h2v4z\"/>\n",
              "    </g>\n",
              "</svg>\n",
              "  </button>\n",
              "\n",
              "<style>\n",
              "  .colab-df-quickchart {\n",
              "      --bg-color: #E8F0FE;\n",
              "      --fill-color: #1967D2;\n",
              "      --hover-bg-color: #E2EBFA;\n",
              "      --hover-fill-color: #174EA6;\n",
              "      --disabled-fill-color: #AAA;\n",
              "      --disabled-bg-color: #DDD;\n",
              "  }\n",
              "\n",
              "  [theme=dark] .colab-df-quickchart {\n",
              "      --bg-color: #3B4455;\n",
              "      --fill-color: #D2E3FC;\n",
              "      --hover-bg-color: #434B5C;\n",
              "      --hover-fill-color: #FFFFFF;\n",
              "      --disabled-bg-color: #3B4455;\n",
              "      --disabled-fill-color: #666;\n",
              "  }\n",
              "\n",
              "  .colab-df-quickchart {\n",
              "    background-color: var(--bg-color);\n",
              "    border: none;\n",
              "    border-radius: 50%;\n",
              "    cursor: pointer;\n",
              "    display: none;\n",
              "    fill: var(--fill-color);\n",
              "    height: 32px;\n",
              "    padding: 0;\n",
              "    width: 32px;\n",
              "  }\n",
              "\n",
              "  .colab-df-quickchart:hover {\n",
              "    background-color: var(--hover-bg-color);\n",
              "    box-shadow: 0 1px 2px rgba(60, 64, 67, 0.3), 0 1px 3px 1px rgba(60, 64, 67, 0.15);\n",
              "    fill: var(--button-hover-fill-color);\n",
              "  }\n",
              "\n",
              "  .colab-df-quickchart-complete:disabled,\n",
              "  .colab-df-quickchart-complete:disabled:hover {\n",
              "    background-color: var(--disabled-bg-color);\n",
              "    fill: var(--disabled-fill-color);\n",
              "    box-shadow: none;\n",
              "  }\n",
              "\n",
              "  .colab-df-spinner {\n",
              "    border: 2px solid var(--fill-color);\n",
              "    border-color: transparent;\n",
              "    border-bottom-color: var(--fill-color);\n",
              "    animation:\n",
              "      spin 1s steps(1) infinite;\n",
              "  }\n",
              "\n",
              "  @keyframes spin {\n",
              "    0% {\n",
              "      border-color: transparent;\n",
              "      border-bottom-color: var(--fill-color);\n",
              "      border-left-color: var(--fill-color);\n",
              "    }\n",
              "    20% {\n",
              "      border-color: transparent;\n",
              "      border-left-color: var(--fill-color);\n",
              "      border-top-color: var(--fill-color);\n",
              "    }\n",
              "    30% {\n",
              "      border-color: transparent;\n",
              "      border-left-color: var(--fill-color);\n",
              "      border-top-color: var(--fill-color);\n",
              "      border-right-color: var(--fill-color);\n",
              "    }\n",
              "    40% {\n",
              "      border-color: transparent;\n",
              "      border-right-color: var(--fill-color);\n",
              "      border-top-color: var(--fill-color);\n",
              "    }\n",
              "    60% {\n",
              "      border-color: transparent;\n",
              "      border-right-color: var(--fill-color);\n",
              "    }\n",
              "    80% {\n",
              "      border-color: transparent;\n",
              "      border-right-color: var(--fill-color);\n",
              "      border-bottom-color: var(--fill-color);\n",
              "    }\n",
              "    90% {\n",
              "      border-color: transparent;\n",
              "      border-bottom-color: var(--fill-color);\n",
              "    }\n",
              "  }\n",
              "</style>\n",
              "\n",
              "  <script>\n",
              "    async function quickchart(key) {\n",
              "      const quickchartButtonEl =\n",
              "        document.querySelector('#' + key + ' button');\n",
              "      quickchartButtonEl.disabled = true;  // To prevent multiple clicks.\n",
              "      quickchartButtonEl.classList.add('colab-df-spinner');\n",
              "      try {\n",
              "        const charts = await google.colab.kernel.invokeFunction(\n",
              "            'suggestCharts', [key], {});\n",
              "      } catch (error) {\n",
              "        console.error('Error during call to suggestCharts:', error);\n",
              "      }\n",
              "      quickchartButtonEl.classList.remove('colab-df-spinner');\n",
              "      quickchartButtonEl.classList.add('colab-df-quickchart-complete');\n",
              "    }\n",
              "    (() => {\n",
              "      let quickchartButtonEl =\n",
              "        document.querySelector('#df-d7949ec6-7f32-4bf9-b8b6-e042519a848e button');\n",
              "      quickchartButtonEl.style.display =\n",
              "        google.colab.kernel.accessAllowed ? 'block' : 'none';\n",
              "    })();\n",
              "  </script>\n",
              "</div>\n",
              "\n",
              "    </div>\n",
              "  </div>\n"
            ],
            "text/plain": [
              "  tweet_created_at        id_str  \\\n",
              "0       2024-01-19  1.748490e+18   \n",
              "1       2024-01-19  1.748490e+18   \n",
              "2       2024-01-19  1.748480e+18   \n",
              "3       2024-01-19  1.748480e+18   \n",
              "4       2024-01-19  1.748480e+18   \n",
              "\n",
              "                                           full_text  \\\n",
              "0  @_VALKlNG @FabrizioRomano And yet Benzema and ...   \n",
              "1  @YemisiKolaa Talking Ronaldo is the only top p...   \n",
              "2  @_moose_b @THEBOY450066551 @sparkles_art1 @tot...   \n",
              "3  @FabrizioRomano Obviously who knows Ligue one ...   \n",
              "4  @Nadal_istheGOAT @FabrizioRomano You've forgot...   \n",
              "\n",
              "   in_reply_to_status_id_str  in_reply_to_user_id_str in_reply_to_screen_name  \\\n",
              "0               1.748380e+18             1.116810e+18                _VALKlNG   \n",
              "1               1.748390e+18             1.530480e+18             YemisiKolaa   \n",
              "2               1.748480e+18             6.072224e+08                _moose_b   \n",
              "3               1.748400e+18             3.302627e+08          FabrizioRomano   \n",
              "4               1.748410e+18             4.546809e+09         Nadal_istheGOAT   \n",
              "\n",
              "    user_id_str              user_name user_screen_name  \\\n",
              "0  1.424240e+18  9 inches monster cock        ma_nny001   \n",
              "1  1.590850e+18                 Jibson        Jibson_02   \n",
              "2  1.371700e+18               Frosty 🥶      __2drippy__   \n",
              "3  4.322164e+08                     JD        jdjosedjd   \n",
              "4  1.318130e+18            Kashope Ola       KashopeOla   \n",
              "\n",
              "           user_location  ...              user_created_at  \\\n",
              "0  Deepestpartoftrenches  ...  2021-08-08T05:07:47.000000Z   \n",
              "1                    NaN  ...  2022-11-10T23:39:43.000000Z   \n",
              "2                    NaN  ...  2021-03-16T06:01:44.000000Z   \n",
              "3                    NaN  ...  2011-12-09T05:02:44.000000Z   \n",
              "4                    NaN  ...  2020-10-19T09:49:04.000000Z   \n",
              "\n",
              "   quoted_status_id_str  is_quote_status  quote_count  reply_count  \\\n",
              "0                   NaN            False          0.0          0.0   \n",
              "1                   NaN            False          0.0          0.0   \n",
              "2                   NaN            False          0.0          2.0   \n",
              "3                   NaN            False          0.0          0.0   \n",
              "4                   NaN            False          0.0          0.0   \n",
              "\n",
              "  retweet_count  favorite_count lang  views_count  bookmark_count  \n",
              "0           0.0             0.0   en        551.0             0.0  \n",
              "1           0.0             0.0   en         30.0             0.0  \n",
              "2           1.0             1.0   en        112.0             0.0  \n",
              "3           0.0             0.0   en         32.0             0.0  \n",
              "4           0.0             2.0   en        122.0             0.0  \n",
              "\n",
              "[5 rows x 25 columns]"
            ]
          },
          "execution_count": 18,
          "metadata": {},
          "output_type": "execute_result"
        }
      ],
      "source": [
        "data.head()"
      ]
    },
    {
      "cell_type": "markdown",
      "metadata": {
        "id": "9H7pydQ4emFB"
      },
      "source": [
        "## Min is a function to shows the oldest date row"
      ]
    },
    {
      "cell_type": "code",
      "execution_count": null,
      "metadata": {
        "colab": {
          "base_uri": "https://localhost:8080/"
        },
        "execution": {
          "iopub.execute_input": "2022-08-27T08:25:22.256226Z",
          "iopub.status.busy": "2022-08-27T08:25:22.255518Z",
          "iopub.status.idle": "2022-08-27T08:25:22.264517Z",
          "shell.execute_reply": "2022-08-27T08:25:22.263318Z",
          "shell.execute_reply.started": "2022-08-27T08:25:22.256189Z"
        },
        "id": "yf9UXXcJxL4Z",
        "outputId": "8e0f6f9b-545e-44d7-c93d-9eb333d0ec50"
      },
      "outputs": [
        {
          "data": {
            "text/plain": [
              "Timestamp('2022-12-31 00:00:00')"
            ]
          },
          "execution_count": 19,
          "metadata": {},
          "output_type": "execute_result"
        }
      ],
      "source": [
        "data['tweet_created_at'].min()"
      ]
    },
    {
      "cell_type": "markdown",
      "metadata": {
        "id": "K_rs3VlFe2MF"
      },
      "source": [
        "## Max is a function to shows the newest date row"
      ]
    },
    {
      "cell_type": "code",
      "execution_count": null,
      "metadata": {
        "colab": {
          "base_uri": "https://localhost:8080/"
        },
        "execution": {
          "iopub.execute_input": "2022-08-27T08:25:22.499359Z",
          "iopub.status.busy": "2022-08-27T08:25:22.498192Z",
          "iopub.status.idle": "2022-08-27T08:25:22.506098Z",
          "shell.execute_reply": "2022-08-27T08:25:22.505052Z",
          "shell.execute_reply.started": "2022-08-27T08:25:22.499294Z"
        },
        "id": "0d17zq3XxbVr",
        "outputId": "02171ec9-0b0b-49a3-9d25-e098988de3ee"
      },
      "outputs": [
        {
          "data": {
            "text/plain": [
              "Timestamp('2024-01-19 00:00:00')"
            ]
          },
          "execution_count": 20,
          "metadata": {},
          "output_type": "execute_result"
        }
      ],
      "source": [
        "data['tweet_created_at'].max()"
      ]
    },
    {
      "cell_type": "markdown",
      "metadata": {
        "id": "7VHIZFj4fCZ7"
      },
      "source": [
        "## Viewing date info about rows"
      ]
    },
    {
      "cell_type": "code",
      "execution_count": null,
      "metadata": {
        "colab": {
          "base_uri": "https://localhost:8080/"
        },
        "execution": {
          "iopub.execute_input": "2022-08-27T08:25:23.016397Z",
          "iopub.status.busy": "2022-08-27T08:25:23.015446Z",
          "iopub.status.idle": "2022-08-27T08:25:23.024483Z",
          "shell.execute_reply": "2022-08-27T08:25:23.023525Z",
          "shell.execute_reply.started": "2022-08-27T08:25:23.016353Z"
        },
        "id": "rKCkw51RxgjW",
        "outputId": "a53c5fd9-fe32-4aff-f1df-30df90178e92"
      },
      "outputs": [
        {
          "data": {
            "text/plain": [
              "385"
            ]
          },
          "execution_count": 21,
          "metadata": {},
          "output_type": "execute_result"
        }
      ],
      "source": [
        "#checking uniques values in tweet_created columns\n",
        "\n",
        "data['tweet_created_at'].nunique()"
      ]
    },
    {
      "cell_type": "code",
      "execution_count": null,
      "metadata": {
        "execution": {
          "iopub.execute_input": "2022-08-27T08:25:23.254224Z",
          "iopub.status.busy": "2022-08-27T08:25:23.253173Z",
          "iopub.status.idle": "2022-08-27T08:25:23.261238Z",
          "shell.execute_reply": "2022-08-27T08:25:23.260156Z",
          "shell.execute_reply.started": "2022-08-27T08:25:23.254173Z"
        },
        "id": "JiLPH_IoyPFB"
      },
      "outputs": [],
      "source": [
        "numberoftweets = data.groupby('tweet_created_at').size()"
      ]
    },
    {
      "cell_type": "code",
      "execution_count": null,
      "metadata": {
        "colab": {
          "base_uri": "https://localhost:8080/"
        },
        "execution": {
          "iopub.execute_input": "2022-08-27T08:25:23.510862Z",
          "iopub.status.busy": "2022-08-27T08:25:23.510211Z",
          "iopub.status.idle": "2022-08-27T08:25:23.517157Z",
          "shell.execute_reply": "2022-08-27T08:25:23.515963Z",
          "shell.execute_reply.started": "2022-08-27T08:25:23.510822Z"
        },
        "id": "O4Cn0Mhg0Ei3",
        "outputId": "b80d0c76-296c-4150-f4cc-c7c475b93f66"
      },
      "outputs": [
        {
          "data": {
            "text/plain": [
              "dtype('int64')"
            ]
          },
          "execution_count": 23,
          "metadata": {},
          "output_type": "execute_result"
        }
      ],
      "source": [
        "numberoftweets.dtype"
      ]
    },
    {
      "cell_type": "code",
      "execution_count": null,
      "metadata": {
        "colab": {
          "base_uri": "https://localhost:8080/"
        },
        "execution": {
          "iopub.execute_input": "2022-08-27T08:25:23.763182Z",
          "iopub.status.busy": "2022-08-27T08:25:23.762272Z",
          "iopub.status.idle": "2022-08-27T08:25:23.77115Z",
          "shell.execute_reply": "2022-08-27T08:25:23.770175Z",
          "shell.execute_reply.started": "2022-08-27T08:25:23.76314Z"
        },
        "id": "K7a6eyk_2E-f",
        "outputId": "ad5166fb-c2c7-4c5c-ff19-3e2d0b2cc45d"
      },
      "outputs": [
        {
          "data": {
            "text/plain": [
              "tweet_created_at\n",
              "2022-12-31     934\n",
              "2023-01-01     819\n",
              "2023-01-02     862\n",
              "2023-01-03    1785\n",
              "2023-01-04     964\n",
              "              ... \n",
              "2024-01-15     272\n",
              "2024-01-16     248\n",
              "2024-01-17     334\n",
              "2024-01-18     489\n",
              "2024-01-19     861\n",
              "Length: 385, dtype: int64"
            ]
          },
          "execution_count": 24,
          "metadata": {},
          "output_type": "execute_result"
        }
      ],
      "source": [
        "numberoftweets"
      ]
    },
    {
      "cell_type": "markdown",
      "metadata": {
        "id": "-M-u6zr59tgU"
      },
      "source": [
        "# **Treating with null values**"
      ]
    },
    {
      "cell_type": "markdown",
      "metadata": {
        "id": "pFtWI1t_fwiP"
      },
      "source": [
        "## Isna is a function that checks the null values\n",
        "## Sum is a function that sum the rows"
      ]
    },
    {
      "cell_type": "code",
      "execution_count": null,
      "metadata": {
        "colab": {
          "base_uri": "https://localhost:8080/"
        },
        "execution": {
          "iopub.execute_input": "2022-08-27T08:25:24.529855Z",
          "iopub.status.busy": "2022-08-27T08:25:24.529422Z",
          "iopub.status.idle": "2022-08-27T08:25:24.549248Z",
          "shell.execute_reply": "2022-08-27T08:25:24.547764Z",
          "shell.execute_reply.started": "2022-08-27T08:25:24.529817Z"
        },
        "id": "joUDquqs2Rsn",
        "outputId": "fe665f3a-3eb9-4330-c7ba-9adddf9136f1"
      },
      "outputs": [
        {
          "data": {
            "text/plain": [
              "tweet_created_at                  3\n",
              "id_str                            3\n",
              "full_text                         3\n",
              "in_reply_to_status_id_str     32088\n",
              "in_reply_to_user_id_str       31389\n",
              "in_reply_to_screen_name       31391\n",
              "user_id_str                       3\n",
              "user_name                         8\n",
              "user_screen_name                  3\n",
              "user_location                 61394\n",
              "user_followers_count              3\n",
              "user_friends_count                3\n",
              "user_listed_count                 3\n",
              "user_favourites_count             3\n",
              "user_statuses_count               3\n",
              "user_created_at                   3\n",
              "quoted_status_id_str         132016\n",
              "is_quote_status                   3\n",
              "quote_count                       3\n",
              "reply_count                       3\n",
              "retweet_count                     3\n",
              "favorite_count                    3\n",
              "lang                              3\n",
              "views_count                      46\n",
              "bookmark_count                    3\n",
              "dtype: int64"
            ]
          },
          "execution_count": 25,
          "metadata": {},
          "output_type": "execute_result"
        }
      ],
      "source": [
        "data.isna().sum()"
      ]
    },
    {
      "cell_type": "markdown",
      "metadata": {
        "id": "wOYoi1TXgTbE"
      },
      "source": [
        "## View the Percentage null in each column"
      ]
    },
    {
      "cell_type": "code",
      "execution_count": null,
      "metadata": {
        "colab": {
          "base_uri": "https://localhost:8080/"
        },
        "execution": {
          "iopub.execute_input": "2022-08-25T20:22:43.623497Z",
          "iopub.status.busy": "2022-08-25T20:22:43.623055Z",
          "iopub.status.idle": "2022-08-25T20:22:43.648997Z",
          "shell.execute_reply": "2022-08-25T20:22:43.648153Z",
          "shell.execute_reply.started": "2022-08-25T20:22:43.623458Z"
        },
        "id": "7a58BVJI2Zll",
        "outputId": "d1f3c95d-a439-4262-e179-eb3d32afbf11"
      },
      "outputs": [
        {
          "name": "stdout",
          "output_type": "stream",
          "text": [
            "Percentage null or na values in df\n"
          ]
        },
        {
          "data": {
            "text/plain": [
              "tweet_created_at               0.00\n",
              "id_str                         0.00\n",
              "full_text                      0.00\n",
              "in_reply_to_status_id_str     24.31\n",
              "in_reply_to_user_id_str       23.78\n",
              "in_reply_to_screen_name       23.78\n",
              "user_id_str                    0.00\n",
              "user_name                      0.01\n",
              "user_screen_name               0.00\n",
              "user_location                 46.50\n",
              "user_followers_count           0.00\n",
              "user_friends_count             0.00\n",
              "user_listed_count              0.00\n",
              "user_favourites_count          0.00\n",
              "user_statuses_count            0.00\n",
              "user_created_at                0.00\n",
              "quoted_status_id_str         100.00\n",
              "is_quote_status                0.00\n",
              "quote_count                    0.00\n",
              "reply_count                    0.00\n",
              "retweet_count                  0.00\n",
              "favorite_count                 0.00\n",
              "lang                           0.00\n",
              "views_count                    0.03\n",
              "bookmark_count                 0.00\n",
              "dtype: float64"
            ]
          },
          "execution_count": 26,
          "metadata": {},
          "output_type": "execute_result"
        }
      ],
      "source": [
        "print(\"Percentage null or na values in df\")\n",
        "((data.isnull() | data.isna()).sum() * 100 / data.index.size).round(2)"
      ]
    },
    {
      "cell_type": "markdown",
      "metadata": {
        "id": "3J7AOSTp3zh-"
      },
      "source": [
        "# Drop the Unneeded Columns"
      ]
    },
    {
      "cell_type": "code",
      "execution_count": null,
      "metadata": {
        "execution": {
          "iopub.execute_input": "2022-08-25T20:22:44.63487Z",
          "iopub.status.busy": "2022-08-25T20:22:44.634142Z",
          "iopub.status.idle": "2022-08-25T20:22:44.65607Z",
          "shell.execute_reply": "2022-08-25T20:22:44.654823Z",
          "shell.execute_reply.started": "2022-08-25T20:22:44.634821Z"
        },
        "id": "AcYVR9S0_y8x"
      },
      "outputs": [],
      "source": [
        "del data['quoted_status_id_str']"
      ]
    },
    {
      "cell_type": "code",
      "execution_count": null,
      "metadata": {
        "id": "52SVf83Z3zh_"
      },
      "outputs": [],
      "source": [
        "del data['user_created_at']"
      ]
    },
    {
      "cell_type": "code",
      "execution_count": null,
      "metadata": {
        "id": "9lnmlO-F3ziA"
      },
      "outputs": [],
      "source": [
        "del data['user_location']"
      ]
    },
    {
      "cell_type": "code",
      "execution_count": null,
      "metadata": {
        "id": "XxqJmw4V3ziA"
      },
      "outputs": [],
      "source": [
        "del data['in_reply_to_status_id_str']"
      ]
    },
    {
      "cell_type": "code",
      "execution_count": null,
      "metadata": {
        "id": "10ikGv1x3ziB"
      },
      "outputs": [],
      "source": [
        "del data['in_reply_to_screen_name']"
      ]
    },
    {
      "cell_type": "code",
      "execution_count": null,
      "metadata": {
        "id": "TGweKkkC3ziB"
      },
      "outputs": [],
      "source": [
        "del data['user_name']"
      ]
    },
    {
      "cell_type": "code",
      "execution_count": null,
      "metadata": {
        "id": "IH3BHzjy3ziC"
      },
      "outputs": [],
      "source": [
        "del data['user_screen_name']"
      ]
    },
    {
      "cell_type": "code",
      "execution_count": null,
      "metadata": {
        "id": "gVfIrkr33ziC"
      },
      "outputs": [],
      "source": [
        "del data['user_followers_count']"
      ]
    },
    {
      "cell_type": "code",
      "execution_count": null,
      "metadata": {
        "id": "EMNgzB6R3ziD"
      },
      "outputs": [],
      "source": [
        "del data['user_friends_count']"
      ]
    },
    {
      "cell_type": "code",
      "execution_count": null,
      "metadata": {
        "id": "xcc4rB1w3ziD"
      },
      "outputs": [],
      "source": [
        "del data['user_listed_count']"
      ]
    },
    {
      "cell_type": "code",
      "execution_count": null,
      "metadata": {
        "id": "M_ZukIyz3ziD"
      },
      "outputs": [],
      "source": [
        "del data['user_favourites_count']"
      ]
    },
    {
      "cell_type": "code",
      "execution_count": null,
      "metadata": {
        "id": "L3X7x-fA3ziE"
      },
      "outputs": [],
      "source": [
        "del data['user_statuses_count']"
      ]
    },
    {
      "cell_type": "code",
      "execution_count": null,
      "metadata": {
        "id": "HbU4K8gR3ziE"
      },
      "outputs": [],
      "source": [
        "del data['is_quote_status']"
      ]
    },
    {
      "cell_type": "code",
      "execution_count": null,
      "metadata": {
        "id": "f7wLqgCs3ziE"
      },
      "outputs": [],
      "source": [
        "del data['quote_count']"
      ]
    },
    {
      "cell_type": "code",
      "execution_count": null,
      "metadata": {
        "id": "t3ZPyrgj3ziF"
      },
      "outputs": [],
      "source": [
        "del data['retweet_count']"
      ]
    },
    {
      "cell_type": "code",
      "execution_count": null,
      "metadata": {
        "id": "1i7fNQ-33ziF"
      },
      "outputs": [],
      "source": [
        "del data['favorite_count']"
      ]
    },
    {
      "cell_type": "code",
      "execution_count": null,
      "metadata": {
        "id": "VmPrrtsD3ziF"
      },
      "outputs": [],
      "source": [
        "del data['bookmark_count']"
      ]
    },
    {
      "cell_type": "code",
      "execution_count": null,
      "metadata": {
        "id": "7Qu9nAbS3ziF"
      },
      "outputs": [],
      "source": [
        "del data['views_count']"
      ]
    },
    {
      "cell_type": "code",
      "execution_count": null,
      "metadata": {
        "id": "o_iJfjOK3ziG"
      },
      "outputs": [],
      "source": [
        "del data['user_id_str']"
      ]
    },
    {
      "cell_type": "code",
      "execution_count": null,
      "metadata": {
        "id": "cKOgYKER3ziG"
      },
      "outputs": [],
      "source": [
        "del data['lang']"
      ]
    },
    {
      "cell_type": "code",
      "execution_count": null,
      "metadata": {
        "id": "OaonjkjY3ziG"
      },
      "outputs": [],
      "source": [
        "del data['reply_count']"
      ]
    },
    {
      "cell_type": "code",
      "execution_count": null,
      "metadata": {
        "id": "bjjyWx193ziH"
      },
      "outputs": [],
      "source": [
        "del data['in_reply_to_user_id_str']"
      ]
    },
    {
      "cell_type": "code",
      "execution_count": null,
      "metadata": {
        "colab": {
          "base_uri": "https://localhost:8080/"
        },
        "id": "QQvuR95w3ziH",
        "outputId": "a92cc5ac-dbe8-4c9d-8fbf-91f03f42cc86"
      },
      "outputs": [
        {
          "name": "stdout",
          "output_type": "stream",
          "text": [
            "<class 'pandas.core.frame.DataFrame'>\n",
            "RangeIndex: 132016 entries, 0 to 132015\n",
            "Data columns (total 3 columns):\n",
            " #   Column            Non-Null Count   Dtype         \n",
            "---  ------            --------------   -----         \n",
            " 0   tweet_created_at  132013 non-null  datetime64[ns]\n",
            " 1   id_str            132013 non-null  float64       \n",
            " 2   full_text         132013 non-null  object        \n",
            "dtypes: datetime64[ns](1), float64(1), object(1)\n",
            "memory usage: 3.0+ MB\n"
          ]
        }
      ],
      "source": [
        "data.info()"
      ]
    },
    {
      "cell_type": "code",
      "execution_count": null,
      "metadata": {
        "colab": {
          "base_uri": "https://localhost:8080/",
          "height": 359
        },
        "id": "fSEHgFOs3ziH",
        "outputId": "d71489b7-a4eb-4a46-9049-9e0dc5070b97"
      },
      "outputs": [
        {
          "data": {
            "application/vnd.google.colaboratory.intrinsic+json": {
              "type": "dataframe",
              "variable_name": "data"
            },
            "text/html": [
              "\n",
              "  <div id=\"df-500674db-75b0-4ff9-8a0a-dc149e993d47\" class=\"colab-df-container\">\n",
              "    <div>\n",
              "<style scoped>\n",
              "    .dataframe tbody tr th:only-of-type {\n",
              "        vertical-align: middle;\n",
              "    }\n",
              "\n",
              "    .dataframe tbody tr th {\n",
              "        vertical-align: top;\n",
              "    }\n",
              "\n",
              "    .dataframe thead th {\n",
              "        text-align: right;\n",
              "    }\n",
              "</style>\n",
              "<table border=\"1\" class=\"dataframe\">\n",
              "  <thead>\n",
              "    <tr style=\"text-align: right;\">\n",
              "      <th></th>\n",
              "      <th>tweet_created_at</th>\n",
              "      <th>id_str</th>\n",
              "      <th>full_text</th>\n",
              "    </tr>\n",
              "  </thead>\n",
              "  <tbody>\n",
              "    <tr>\n",
              "      <th>0</th>\n",
              "      <td>2024-01-19</td>\n",
              "      <td>1.748490e+18</td>\n",
              "      <td>@_VALKlNG @FabrizioRomano And yet Benzema and ...</td>\n",
              "    </tr>\n",
              "    <tr>\n",
              "      <th>1</th>\n",
              "      <td>2024-01-19</td>\n",
              "      <td>1.748490e+18</td>\n",
              "      <td>@YemisiKolaa Talking Ronaldo is the only top p...</td>\n",
              "    </tr>\n",
              "    <tr>\n",
              "      <th>2</th>\n",
              "      <td>2024-01-19</td>\n",
              "      <td>1.748480e+18</td>\n",
              "      <td>@_moose_b @THEBOY450066551 @sparkles_art1 @tot...</td>\n",
              "    </tr>\n",
              "    <tr>\n",
              "      <th>3</th>\n",
              "      <td>2024-01-19</td>\n",
              "      <td>1.748480e+18</td>\n",
              "      <td>@FabrizioRomano Obviously who knows Ligue one ...</td>\n",
              "    </tr>\n",
              "    <tr>\n",
              "      <th>4</th>\n",
              "      <td>2024-01-19</td>\n",
              "      <td>1.748480e+18</td>\n",
              "      <td>@Nadal_istheGOAT @FabrizioRomano You've forgot...</td>\n",
              "    </tr>\n",
              "    <tr>\n",
              "      <th>5</th>\n",
              "      <td>2024-01-19</td>\n",
              "      <td>1.748470e+18</td>\n",
              "      <td>@City_Chief @pmcafrica Football is a short ter...</td>\n",
              "    </tr>\n",
              "    <tr>\n",
              "      <th>6</th>\n",
              "      <td>2024-01-19</td>\n",
              "      <td>1.748470e+18</td>\n",
              "      <td>@knai22 Players even want to leave the Saudi l...</td>\n",
              "    </tr>\n",
              "    <tr>\n",
              "      <th>7</th>\n",
              "      <td>2024-01-19</td>\n",
              "      <td>1.748470e+18</td>\n",
              "      <td>@gatocabron49 @PandaNoComply @FabrizioRomano N...</td>\n",
              "    </tr>\n",
              "    <tr>\n",
              "      <th>8</th>\n",
              "      <td>2024-01-19</td>\n",
              "      <td>1.748470e+18</td>\n",
              "      <td>@FabrizioRomano Almighty Benzema could not ban...</td>\n",
              "    </tr>\n",
              "    <tr>\n",
              "      <th>9</th>\n",
              "      <td>2024-01-19</td>\n",
              "      <td>1.748460e+18</td>\n",
              "      <td>@Ligue1_ENG Lol this was his first game at Sau...</td>\n",
              "    </tr>\n",
              "  </tbody>\n",
              "</table>\n",
              "</div>\n",
              "    <div class=\"colab-df-buttons\">\n",
              "\n",
              "  <div class=\"colab-df-container\">\n",
              "    <button class=\"colab-df-convert\" onclick=\"convertToInteractive('df-500674db-75b0-4ff9-8a0a-dc149e993d47')\"\n",
              "            title=\"Convert this dataframe to an interactive table.\"\n",
              "            style=\"display:none;\">\n",
              "\n",
              "  <svg xmlns=\"http://www.w3.org/2000/svg\" height=\"24px\" viewBox=\"0 -960 960 960\">\n",
              "    <path d=\"M120-120v-720h720v720H120Zm60-500h600v-160H180v160Zm220 220h160v-160H400v160Zm0 220h160v-160H400v160ZM180-400h160v-160H180v160Zm440 0h160v-160H620v160ZM180-180h160v-160H180v160Zm440 0h160v-160H620v160Z\"/>\n",
              "  </svg>\n",
              "    </button>\n",
              "\n",
              "  <style>\n",
              "    .colab-df-container {\n",
              "      display:flex;\n",
              "      gap: 12px;\n",
              "    }\n",
              "\n",
              "    .colab-df-convert {\n",
              "      background-color: #E8F0FE;\n",
              "      border: none;\n",
              "      border-radius: 50%;\n",
              "      cursor: pointer;\n",
              "      display: none;\n",
              "      fill: #1967D2;\n",
              "      height: 32px;\n",
              "      padding: 0 0 0 0;\n",
              "      width: 32px;\n",
              "    }\n",
              "\n",
              "    .colab-df-convert:hover {\n",
              "      background-color: #E2EBFA;\n",
              "      box-shadow: 0px 1px 2px rgba(60, 64, 67, 0.3), 0px 1px 3px 1px rgba(60, 64, 67, 0.15);\n",
              "      fill: #174EA6;\n",
              "    }\n",
              "\n",
              "    .colab-df-buttons div {\n",
              "      margin-bottom: 4px;\n",
              "    }\n",
              "\n",
              "    [theme=dark] .colab-df-convert {\n",
              "      background-color: #3B4455;\n",
              "      fill: #D2E3FC;\n",
              "    }\n",
              "\n",
              "    [theme=dark] .colab-df-convert:hover {\n",
              "      background-color: #434B5C;\n",
              "      box-shadow: 0px 1px 3px 1px rgba(0, 0, 0, 0.15);\n",
              "      filter: drop-shadow(0px 1px 2px rgba(0, 0, 0, 0.3));\n",
              "      fill: #FFFFFF;\n",
              "    }\n",
              "  </style>\n",
              "\n",
              "    <script>\n",
              "      const buttonEl =\n",
              "        document.querySelector('#df-500674db-75b0-4ff9-8a0a-dc149e993d47 button.colab-df-convert');\n",
              "      buttonEl.style.display =\n",
              "        google.colab.kernel.accessAllowed ? 'block' : 'none';\n",
              "\n",
              "      async function convertToInteractive(key) {\n",
              "        const element = document.querySelector('#df-500674db-75b0-4ff9-8a0a-dc149e993d47');\n",
              "        const dataTable =\n",
              "          await google.colab.kernel.invokeFunction('convertToInteractive',\n",
              "                                                    [key], {});\n",
              "        if (!dataTable) return;\n",
              "\n",
              "        const docLinkHtml = 'Like what you see? Visit the ' +\n",
              "          '<a target=\"_blank\" href=https://colab.research.google.com/notebooks/data_table.ipynb>data table notebook</a>'\n",
              "          + ' to learn more about interactive tables.';\n",
              "        element.innerHTML = '';\n",
              "        dataTable['output_type'] = 'display_data';\n",
              "        await google.colab.output.renderOutput(dataTable, element);\n",
              "        const docLink = document.createElement('div');\n",
              "        docLink.innerHTML = docLinkHtml;\n",
              "        element.appendChild(docLink);\n",
              "      }\n",
              "    </script>\n",
              "  </div>\n",
              "\n",
              "\n",
              "<div id=\"df-a1a425f2-fedf-4056-8046-ce27d86553dd\">\n",
              "  <button class=\"colab-df-quickchart\" onclick=\"quickchart('df-a1a425f2-fedf-4056-8046-ce27d86553dd')\"\n",
              "            title=\"Suggest charts\"\n",
              "            style=\"display:none;\">\n",
              "\n",
              "<svg xmlns=\"http://www.w3.org/2000/svg\" height=\"24px\"viewBox=\"0 0 24 24\"\n",
              "     width=\"24px\">\n",
              "    <g>\n",
              "        <path d=\"M19 3H5c-1.1 0-2 .9-2 2v14c0 1.1.9 2 2 2h14c1.1 0 2-.9 2-2V5c0-1.1-.9-2-2-2zM9 17H7v-7h2v7zm4 0h-2V7h2v10zm4 0h-2v-4h2v4z\"/>\n",
              "    </g>\n",
              "</svg>\n",
              "  </button>\n",
              "\n",
              "<style>\n",
              "  .colab-df-quickchart {\n",
              "      --bg-color: #E8F0FE;\n",
              "      --fill-color: #1967D2;\n",
              "      --hover-bg-color: #E2EBFA;\n",
              "      --hover-fill-color: #174EA6;\n",
              "      --disabled-fill-color: #AAA;\n",
              "      --disabled-bg-color: #DDD;\n",
              "  }\n",
              "\n",
              "  [theme=dark] .colab-df-quickchart {\n",
              "      --bg-color: #3B4455;\n",
              "      --fill-color: #D2E3FC;\n",
              "      --hover-bg-color: #434B5C;\n",
              "      --hover-fill-color: #FFFFFF;\n",
              "      --disabled-bg-color: #3B4455;\n",
              "      --disabled-fill-color: #666;\n",
              "  }\n",
              "\n",
              "  .colab-df-quickchart {\n",
              "    background-color: var(--bg-color);\n",
              "    border: none;\n",
              "    border-radius: 50%;\n",
              "    cursor: pointer;\n",
              "    display: none;\n",
              "    fill: var(--fill-color);\n",
              "    height: 32px;\n",
              "    padding: 0;\n",
              "    width: 32px;\n",
              "  }\n",
              "\n",
              "  .colab-df-quickchart:hover {\n",
              "    background-color: var(--hover-bg-color);\n",
              "    box-shadow: 0 1px 2px rgba(60, 64, 67, 0.3), 0 1px 3px 1px rgba(60, 64, 67, 0.15);\n",
              "    fill: var(--button-hover-fill-color);\n",
              "  }\n",
              "\n",
              "  .colab-df-quickchart-complete:disabled,\n",
              "  .colab-df-quickchart-complete:disabled:hover {\n",
              "    background-color: var(--disabled-bg-color);\n",
              "    fill: var(--disabled-fill-color);\n",
              "    box-shadow: none;\n",
              "  }\n",
              "\n",
              "  .colab-df-spinner {\n",
              "    border: 2px solid var(--fill-color);\n",
              "    border-color: transparent;\n",
              "    border-bottom-color: var(--fill-color);\n",
              "    animation:\n",
              "      spin 1s steps(1) infinite;\n",
              "  }\n",
              "\n",
              "  @keyframes spin {\n",
              "    0% {\n",
              "      border-color: transparent;\n",
              "      border-bottom-color: var(--fill-color);\n",
              "      border-left-color: var(--fill-color);\n",
              "    }\n",
              "    20% {\n",
              "      border-color: transparent;\n",
              "      border-left-color: var(--fill-color);\n",
              "      border-top-color: var(--fill-color);\n",
              "    }\n",
              "    30% {\n",
              "      border-color: transparent;\n",
              "      border-left-color: var(--fill-color);\n",
              "      border-top-color: var(--fill-color);\n",
              "      border-right-color: var(--fill-color);\n",
              "    }\n",
              "    40% {\n",
              "      border-color: transparent;\n",
              "      border-right-color: var(--fill-color);\n",
              "      border-top-color: var(--fill-color);\n",
              "    }\n",
              "    60% {\n",
              "      border-color: transparent;\n",
              "      border-right-color: var(--fill-color);\n",
              "    }\n",
              "    80% {\n",
              "      border-color: transparent;\n",
              "      border-right-color: var(--fill-color);\n",
              "      border-bottom-color: var(--fill-color);\n",
              "    }\n",
              "    90% {\n",
              "      border-color: transparent;\n",
              "      border-bottom-color: var(--fill-color);\n",
              "    }\n",
              "  }\n",
              "</style>\n",
              "\n",
              "  <script>\n",
              "    async function quickchart(key) {\n",
              "      const quickchartButtonEl =\n",
              "        document.querySelector('#' + key + ' button');\n",
              "      quickchartButtonEl.disabled = true;  // To prevent multiple clicks.\n",
              "      quickchartButtonEl.classList.add('colab-df-spinner');\n",
              "      try {\n",
              "        const charts = await google.colab.kernel.invokeFunction(\n",
              "            'suggestCharts', [key], {});\n",
              "      } catch (error) {\n",
              "        console.error('Error during call to suggestCharts:', error);\n",
              "      }\n",
              "      quickchartButtonEl.classList.remove('colab-df-spinner');\n",
              "      quickchartButtonEl.classList.add('colab-df-quickchart-complete');\n",
              "    }\n",
              "    (() => {\n",
              "      let quickchartButtonEl =\n",
              "        document.querySelector('#df-a1a425f2-fedf-4056-8046-ce27d86553dd button');\n",
              "      quickchartButtonEl.style.display =\n",
              "        google.colab.kernel.accessAllowed ? 'block' : 'none';\n",
              "    })();\n",
              "  </script>\n",
              "</div>\n",
              "\n",
              "    </div>\n",
              "  </div>\n"
            ],
            "text/plain": [
              "  tweet_created_at        id_str  \\\n",
              "0       2024-01-19  1.748490e+18   \n",
              "1       2024-01-19  1.748490e+18   \n",
              "2       2024-01-19  1.748480e+18   \n",
              "3       2024-01-19  1.748480e+18   \n",
              "4       2024-01-19  1.748480e+18   \n",
              "5       2024-01-19  1.748470e+18   \n",
              "6       2024-01-19  1.748470e+18   \n",
              "7       2024-01-19  1.748470e+18   \n",
              "8       2024-01-19  1.748470e+18   \n",
              "9       2024-01-19  1.748460e+18   \n",
              "\n",
              "                                           full_text  \n",
              "0  @_VALKlNG @FabrizioRomano And yet Benzema and ...  \n",
              "1  @YemisiKolaa Talking Ronaldo is the only top p...  \n",
              "2  @_moose_b @THEBOY450066551 @sparkles_art1 @tot...  \n",
              "3  @FabrizioRomano Obviously who knows Ligue one ...  \n",
              "4  @Nadal_istheGOAT @FabrizioRomano You've forgot...  \n",
              "5  @City_Chief @pmcafrica Football is a short ter...  \n",
              "6  @knai22 Players even want to leave the Saudi l...  \n",
              "7  @gatocabron49 @PandaNoComply @FabrizioRomano N...  \n",
              "8  @FabrizioRomano Almighty Benzema could not ban...  \n",
              "9  @Ligue1_ENG Lol this was his first game at Sau...  "
            ]
          },
          "execution_count": 50,
          "metadata": {},
          "output_type": "execute_result"
        }
      ],
      "source": [
        "data.head(10)"
      ]
    },
    {
      "cell_type": "code",
      "execution_count": null,
      "metadata": {
        "colab": {
          "base_uri": "https://localhost:8080/",
          "height": 359
        },
        "id": "NxZ9NKND3ziI",
        "outputId": "f6a9320a-be32-4b09-9011-1f6c389e4864"
      },
      "outputs": [
        {
          "data": {
            "application/vnd.google.colaboratory.intrinsic+json": {
              "summary": "{\n  \"name\": \"data\",\n  \"rows\": 10,\n  \"fields\": [\n    {\n      \"column\": \"tweet_created_at\",\n      \"properties\": {\n        \"dtype\": \"date\",\n        \"min\": \"2022-12-31 00:00:00\",\n        \"max\": \"2022-12-31 00:00:00\",\n        \"num_unique_values\": 1,\n        \"samples\": [\n          \"2022-12-31 00:00:00\"\n        ],\n        \"semantic_type\": \"\",\n        \"description\": \"\"\n      }\n    },\n    {\n      \"column\": \"id_str\",\n      \"properties\": {\n        \"dtype\": \"number\",\n        \"std\": 410024508909.5898,\n        \"min\": 1.609171640499245e+18,\n        \"max\": 1.60917271112072e+18,\n        \"num_unique_values\": 9,\n        \"samples\": [\n          1.6091716912419676e+18\n        ],\n        \"semantic_type\": \"\",\n        \"description\": \"\"\n      }\n    },\n    {\n      \"column\": \"full_text\",\n      \"properties\": {\n        \"dtype\": \"string\",\n        \"num_unique_values\": 9,\n        \"samples\": [\n          \"@fiago7 Why not? Didn\\u2019t Saudi Arabia beat Argentina, and was a quite decent team to watch in the WC?\\nIts not where I would go if I was Ronaldo, but admit I\\u2019m curious to see some games from their league\"\n        ],\n        \"semantic_type\": \"\",\n        \"description\": \"\"\n      }\n    }\n  ]\n}",
              "type": "dataframe"
            },
            "text/html": [
              "\n",
              "  <div id=\"df-b922f052-526f-4eba-84ff-e0e463f678bb\" class=\"colab-df-container\">\n",
              "    <div>\n",
              "<style scoped>\n",
              "    .dataframe tbody tr th:only-of-type {\n",
              "        vertical-align: middle;\n",
              "    }\n",
              "\n",
              "    .dataframe tbody tr th {\n",
              "        vertical-align: top;\n",
              "    }\n",
              "\n",
              "    .dataframe thead th {\n",
              "        text-align: right;\n",
              "    }\n",
              "</style>\n",
              "<table border=\"1\" class=\"dataframe\">\n",
              "  <thead>\n",
              "    <tr style=\"text-align: right;\">\n",
              "      <th></th>\n",
              "      <th>tweet_created_at</th>\n",
              "      <th>id_str</th>\n",
              "      <th>full_text</th>\n",
              "    </tr>\n",
              "  </thead>\n",
              "  <tbody>\n",
              "    <tr>\n",
              "      <th>132006</th>\n",
              "      <td>2022-12-31</td>\n",
              "      <td>1.609173e+18</td>\n",
              "      <td>You all (including the media) bullied Cristian...</td>\n",
              "    </tr>\n",
              "    <tr>\n",
              "      <th>132007</th>\n",
              "      <td>2022-12-31</td>\n",
              "      <td>1.609173e+18</td>\n",
              "      <td>@YOUNGPUNTER2 @FCBAlfredo @kaleembuledi @goal ...</td>\n",
              "    </tr>\n",
              "    <tr>\n",
              "      <th>132008</th>\n",
              "      <td>2022-12-31</td>\n",
              "      <td>1.609172e+18</td>\n",
              "      <td>@PiersUncensored @piersmorgan @TalkTV Do you s...</td>\n",
              "    </tr>\n",
              "    <tr>\n",
              "      <th>132009</th>\n",
              "      <td>2022-12-31</td>\n",
              "      <td>1.609172e+18</td>\n",
              "      <td>@Fcbarcelonab4l @agentmeifes @Bobby_CUV @breat...</td>\n",
              "    </tr>\n",
              "    <tr>\n",
              "      <th>132010</th>\n",
              "      <td>2022-12-31</td>\n",
              "      <td>1.609172e+18</td>\n",
              "      <td>@FrankKhalidUK All is possible!!!! If Messi ha...</td>\n",
              "    </tr>\n",
              "    <tr>\n",
              "      <th>132011</th>\n",
              "      <td>2022-12-31</td>\n",
              "      <td>1.609172e+18</td>\n",
              "      <td>@kingfishtyty @MoneyMase838382 @FUT23News Exac...</td>\n",
              "    </tr>\n",
              "    <tr>\n",
              "      <th>132012</th>\n",
              "      <td>2022-12-31</td>\n",
              "      <td>1.609172e+18</td>\n",
              "      <td>🇵🇹 But only Cristiano Ronaldo is getting hated...</td>\n",
              "    </tr>\n",
              "    <tr>\n",
              "      <th>132013</th>\n",
              "      <td>2022-12-31</td>\n",
              "      <td>1.609172e+18</td>\n",
              "      <td>@fiago7 Why not? Didn’t Saudi Arabia beat Arge...</td>\n",
              "    </tr>\n",
              "    <tr>\n",
              "      <th>132014</th>\n",
              "      <td>2022-12-31</td>\n",
              "      <td>1.609172e+18</td>\n",
              "      <td>@KalleKeps @Reuters ''He is one of the highest...</td>\n",
              "    </tr>\n",
              "    <tr>\n",
              "      <th>132015</th>\n",
              "      <td>NaT</td>\n",
              "      <td>NaN</td>\n",
              "      <td>NaN</td>\n",
              "    </tr>\n",
              "  </tbody>\n",
              "</table>\n",
              "</div>\n",
              "    <div class=\"colab-df-buttons\">\n",
              "\n",
              "  <div class=\"colab-df-container\">\n",
              "    <button class=\"colab-df-convert\" onclick=\"convertToInteractive('df-b922f052-526f-4eba-84ff-e0e463f678bb')\"\n",
              "            title=\"Convert this dataframe to an interactive table.\"\n",
              "            style=\"display:none;\">\n",
              "\n",
              "  <svg xmlns=\"http://www.w3.org/2000/svg\" height=\"24px\" viewBox=\"0 -960 960 960\">\n",
              "    <path d=\"M120-120v-720h720v720H120Zm60-500h600v-160H180v160Zm220 220h160v-160H400v160Zm0 220h160v-160H400v160ZM180-400h160v-160H180v160Zm440 0h160v-160H620v160ZM180-180h160v-160H180v160Zm440 0h160v-160H620v160Z\"/>\n",
              "  </svg>\n",
              "    </button>\n",
              "\n",
              "  <style>\n",
              "    .colab-df-container {\n",
              "      display:flex;\n",
              "      gap: 12px;\n",
              "    }\n",
              "\n",
              "    .colab-df-convert {\n",
              "      background-color: #E8F0FE;\n",
              "      border: none;\n",
              "      border-radius: 50%;\n",
              "      cursor: pointer;\n",
              "      display: none;\n",
              "      fill: #1967D2;\n",
              "      height: 32px;\n",
              "      padding: 0 0 0 0;\n",
              "      width: 32px;\n",
              "    }\n",
              "\n",
              "    .colab-df-convert:hover {\n",
              "      background-color: #E2EBFA;\n",
              "      box-shadow: 0px 1px 2px rgba(60, 64, 67, 0.3), 0px 1px 3px 1px rgba(60, 64, 67, 0.15);\n",
              "      fill: #174EA6;\n",
              "    }\n",
              "\n",
              "    .colab-df-buttons div {\n",
              "      margin-bottom: 4px;\n",
              "    }\n",
              "\n",
              "    [theme=dark] .colab-df-convert {\n",
              "      background-color: #3B4455;\n",
              "      fill: #D2E3FC;\n",
              "    }\n",
              "\n",
              "    [theme=dark] .colab-df-convert:hover {\n",
              "      background-color: #434B5C;\n",
              "      box-shadow: 0px 1px 3px 1px rgba(0, 0, 0, 0.15);\n",
              "      filter: drop-shadow(0px 1px 2px rgba(0, 0, 0, 0.3));\n",
              "      fill: #FFFFFF;\n",
              "    }\n",
              "  </style>\n",
              "\n",
              "    <script>\n",
              "      const buttonEl =\n",
              "        document.querySelector('#df-b922f052-526f-4eba-84ff-e0e463f678bb button.colab-df-convert');\n",
              "      buttonEl.style.display =\n",
              "        google.colab.kernel.accessAllowed ? 'block' : 'none';\n",
              "\n",
              "      async function convertToInteractive(key) {\n",
              "        const element = document.querySelector('#df-b922f052-526f-4eba-84ff-e0e463f678bb');\n",
              "        const dataTable =\n",
              "          await google.colab.kernel.invokeFunction('convertToInteractive',\n",
              "                                                    [key], {});\n",
              "        if (!dataTable) return;\n",
              "\n",
              "        const docLinkHtml = 'Like what you see? Visit the ' +\n",
              "          '<a target=\"_blank\" href=https://colab.research.google.com/notebooks/data_table.ipynb>data table notebook</a>'\n",
              "          + ' to learn more about interactive tables.';\n",
              "        element.innerHTML = '';\n",
              "        dataTable['output_type'] = 'display_data';\n",
              "        await google.colab.output.renderOutput(dataTable, element);\n",
              "        const docLink = document.createElement('div');\n",
              "        docLink.innerHTML = docLinkHtml;\n",
              "        element.appendChild(docLink);\n",
              "      }\n",
              "    </script>\n",
              "  </div>\n",
              "\n",
              "\n",
              "<div id=\"df-ae9cce02-f26c-4c2b-ae18-4c81c761e3d7\">\n",
              "  <button class=\"colab-df-quickchart\" onclick=\"quickchart('df-ae9cce02-f26c-4c2b-ae18-4c81c761e3d7')\"\n",
              "            title=\"Suggest charts\"\n",
              "            style=\"display:none;\">\n",
              "\n",
              "<svg xmlns=\"http://www.w3.org/2000/svg\" height=\"24px\"viewBox=\"0 0 24 24\"\n",
              "     width=\"24px\">\n",
              "    <g>\n",
              "        <path d=\"M19 3H5c-1.1 0-2 .9-2 2v14c0 1.1.9 2 2 2h14c1.1 0 2-.9 2-2V5c0-1.1-.9-2-2-2zM9 17H7v-7h2v7zm4 0h-2V7h2v10zm4 0h-2v-4h2v4z\"/>\n",
              "    </g>\n",
              "</svg>\n",
              "  </button>\n",
              "\n",
              "<style>\n",
              "  .colab-df-quickchart {\n",
              "      --bg-color: #E8F0FE;\n",
              "      --fill-color: #1967D2;\n",
              "      --hover-bg-color: #E2EBFA;\n",
              "      --hover-fill-color: #174EA6;\n",
              "      --disabled-fill-color: #AAA;\n",
              "      --disabled-bg-color: #DDD;\n",
              "  }\n",
              "\n",
              "  [theme=dark] .colab-df-quickchart {\n",
              "      --bg-color: #3B4455;\n",
              "      --fill-color: #D2E3FC;\n",
              "      --hover-bg-color: #434B5C;\n",
              "      --hover-fill-color: #FFFFFF;\n",
              "      --disabled-bg-color: #3B4455;\n",
              "      --disabled-fill-color: #666;\n",
              "  }\n",
              "\n",
              "  .colab-df-quickchart {\n",
              "    background-color: var(--bg-color);\n",
              "    border: none;\n",
              "    border-radius: 50%;\n",
              "    cursor: pointer;\n",
              "    display: none;\n",
              "    fill: var(--fill-color);\n",
              "    height: 32px;\n",
              "    padding: 0;\n",
              "    width: 32px;\n",
              "  }\n",
              "\n",
              "  .colab-df-quickchart:hover {\n",
              "    background-color: var(--hover-bg-color);\n",
              "    box-shadow: 0 1px 2px rgba(60, 64, 67, 0.3), 0 1px 3px 1px rgba(60, 64, 67, 0.15);\n",
              "    fill: var(--button-hover-fill-color);\n",
              "  }\n",
              "\n",
              "  .colab-df-quickchart-complete:disabled,\n",
              "  .colab-df-quickchart-complete:disabled:hover {\n",
              "    background-color: var(--disabled-bg-color);\n",
              "    fill: var(--disabled-fill-color);\n",
              "    box-shadow: none;\n",
              "  }\n",
              "\n",
              "  .colab-df-spinner {\n",
              "    border: 2px solid var(--fill-color);\n",
              "    border-color: transparent;\n",
              "    border-bottom-color: var(--fill-color);\n",
              "    animation:\n",
              "      spin 1s steps(1) infinite;\n",
              "  }\n",
              "\n",
              "  @keyframes spin {\n",
              "    0% {\n",
              "      border-color: transparent;\n",
              "      border-bottom-color: var(--fill-color);\n",
              "      border-left-color: var(--fill-color);\n",
              "    }\n",
              "    20% {\n",
              "      border-color: transparent;\n",
              "      border-left-color: var(--fill-color);\n",
              "      border-top-color: var(--fill-color);\n",
              "    }\n",
              "    30% {\n",
              "      border-color: transparent;\n",
              "      border-left-color: var(--fill-color);\n",
              "      border-top-color: var(--fill-color);\n",
              "      border-right-color: var(--fill-color);\n",
              "    }\n",
              "    40% {\n",
              "      border-color: transparent;\n",
              "      border-right-color: var(--fill-color);\n",
              "      border-top-color: var(--fill-color);\n",
              "    }\n",
              "    60% {\n",
              "      border-color: transparent;\n",
              "      border-right-color: var(--fill-color);\n",
              "    }\n",
              "    80% {\n",
              "      border-color: transparent;\n",
              "      border-right-color: var(--fill-color);\n",
              "      border-bottom-color: var(--fill-color);\n",
              "    }\n",
              "    90% {\n",
              "      border-color: transparent;\n",
              "      border-bottom-color: var(--fill-color);\n",
              "    }\n",
              "  }\n",
              "</style>\n",
              "\n",
              "  <script>\n",
              "    async function quickchart(key) {\n",
              "      const quickchartButtonEl =\n",
              "        document.querySelector('#' + key + ' button');\n",
              "      quickchartButtonEl.disabled = true;  // To prevent multiple clicks.\n",
              "      quickchartButtonEl.classList.add('colab-df-spinner');\n",
              "      try {\n",
              "        const charts = await google.colab.kernel.invokeFunction(\n",
              "            'suggestCharts', [key], {});\n",
              "      } catch (error) {\n",
              "        console.error('Error during call to suggestCharts:', error);\n",
              "      }\n",
              "      quickchartButtonEl.classList.remove('colab-df-spinner');\n",
              "      quickchartButtonEl.classList.add('colab-df-quickchart-complete');\n",
              "    }\n",
              "    (() => {\n",
              "      let quickchartButtonEl =\n",
              "        document.querySelector('#df-ae9cce02-f26c-4c2b-ae18-4c81c761e3d7 button');\n",
              "      quickchartButtonEl.style.display =\n",
              "        google.colab.kernel.accessAllowed ? 'block' : 'none';\n",
              "    })();\n",
              "  </script>\n",
              "</div>\n",
              "\n",
              "    </div>\n",
              "  </div>\n"
            ],
            "text/plain": [
              "       tweet_created_at        id_str  \\\n",
              "132006       2022-12-31  1.609173e+18   \n",
              "132007       2022-12-31  1.609173e+18   \n",
              "132008       2022-12-31  1.609172e+18   \n",
              "132009       2022-12-31  1.609172e+18   \n",
              "132010       2022-12-31  1.609172e+18   \n",
              "132011       2022-12-31  1.609172e+18   \n",
              "132012       2022-12-31  1.609172e+18   \n",
              "132013       2022-12-31  1.609172e+18   \n",
              "132014       2022-12-31  1.609172e+18   \n",
              "132015              NaT           NaN   \n",
              "\n",
              "                                                full_text  \n",
              "132006  You all (including the media) bullied Cristian...  \n",
              "132007  @YOUNGPUNTER2 @FCBAlfredo @kaleembuledi @goal ...  \n",
              "132008  @PiersUncensored @piersmorgan @TalkTV Do you s...  \n",
              "132009  @Fcbarcelonab4l @agentmeifes @Bobby_CUV @breat...  \n",
              "132010  @FrankKhalidUK All is possible!!!! If Messi ha...  \n",
              "132011  @kingfishtyty @MoneyMase838382 @FUT23News Exac...  \n",
              "132012  🇵🇹 But only Cristiano Ronaldo is getting hated...  \n",
              "132013  @fiago7 Why not? Didn’t Saudi Arabia beat Arge...  \n",
              "132014  @KalleKeps @Reuters ''He is one of the highest...  \n",
              "132015                                                NaN  "
            ]
          },
          "execution_count": 51,
          "metadata": {},
          "output_type": "execute_result"
        }
      ],
      "source": [
        "data.tail(10)"
      ]
    },
    {
      "cell_type": "code",
      "execution_count": null,
      "metadata": {
        "colab": {
          "base_uri": "https://localhost:8080/"
        },
        "id": "HRGAdfUM3ziI",
        "outputId": "df4a4031-9efe-4463-d709-9078338c45af"
      },
      "outputs": [
        {
          "data": {
            "text/plain": [
              "tweet_created_at    3\n",
              "id_str              3\n",
              "full_text           3\n",
              "dtype: int64"
            ]
          },
          "execution_count": 52,
          "metadata": {},
          "output_type": "execute_result"
        }
      ],
      "source": [
        "data.isnull().sum()"
      ]
    },
    {
      "cell_type": "markdown",
      "metadata": {
        "id": "5n5ziM4GJlhX"
      },
      "source": [
        "# **EDA**"
      ]
    },
    {
      "cell_type": "markdown",
      "metadata": {
        "id": "5_56cY3n3ziJ"
      },
      "source": [
        "# Convert 'full_text' from object datatype to string to perform preprocessing on"
      ]
    },
    {
      "cell_type": "code",
      "execution_count": null,
      "metadata": {
        "id": "Ys6QPmxT3ziJ"
      },
      "outputs": [],
      "source": [
        "# Convert the 'full_text' column in the DataFrame 'data' to string data type\n",
        "data['full_text'] = data['full_text'].astype(\"string\")"
      ]
    },
    {
      "cell_type": "code",
      "execution_count": null,
      "metadata": {
        "id": "KG4Jg2bA3ziK"
      },
      "outputs": [],
      "source": [
        "# Defining dictionary containing all emojis with their meanings\n",
        "emojis = {':)': 'smile', ':-)': 'smile', ';d': 'wink', ':-E': 'vampire', ':(': 'sad',\n",
        "          ':-(': 'sad', ':-<': 'sad', ':P': 'raspberry', ':O': 'surprised',\n",
        "          ':-@': 'shocked', ':@': 'shocked',':-$': 'confused', ':\\\\': 'annoyed',\n",
        "          ':#': 'mute', ':X': 'mute', ':^)': 'smile', ':-&': 'confused', '$_$': 'greedy',\n",
        "          '@@': 'eyeroll', ':-!': 'confused', ':-D': 'smile', ':-0': 'yell', 'O.o': 'confused',\n",
        "          '<(-_-)>': 'robot', 'd[-_-]b': 'dj', \":'-)\": 'sadsmile', ';)': 'wink',\n",
        "          ';-)': 'wink', 'O:-)': 'angel','O*-)': 'angel','(:-D': 'gossip', '=^.^=': 'cat'}"
      ]
    },
    {
      "cell_type": "code",
      "execution_count": null,
      "metadata": {
        "id": "JVrmLICB3ziK"
      },
      "outputs": [],
      "source": [
        "def preprocess(textdata):\n",
        "    processedText = []\n",
        "\n",
        "    # Defining regex patterns.\n",
        "    urlPattern = r\"((http://)[^ ]*|(https://)[^ ]*|( www\\.)[^ ]*)\"\n",
        "    userPattern = r'@[^\\s]+'\n",
        "    alphaPattern = r\"[^a-zA-Z0-9]\"\n",
        "    sequencePattern = r\"(.)\\1\\1+\"\n",
        "    seqReplacePattern = r\"\\1\\1\"\n",
        "\n",
        "    for tweet in textdata:\n",
        "        if pd.notnull(tweet):  # Check for missing values\n",
        "            tweet = tweet.lower()\n",
        "\n",
        "            # Replace all URLs with 'URL'\n",
        "            tweet = re.sub(urlPattern, 'URL', tweet)\n",
        "\n",
        "            # Replace @USERNAME with 'USER'\n",
        "            tweet = re.sub(userPattern, 'USER', tweet)\n",
        "\n",
        "            # Remove emojis\n",
        "            for emoji in emojis.keys():\n",
        "                tweet = tweet.replace(emoji, '')\n",
        "\n",
        "            # Remove all non-alphabetic characters\n",
        "            tweet = re.sub(alphaPattern, \" \", tweet)\n",
        "\n",
        "            # Replace 3 or more consecutive letters by 2 letters\n",
        "            tweet = re.sub(sequencePattern, seqReplacePattern, tweet)\n",
        "\n",
        "            processedText.append(tweet)\n",
        "        else:\n",
        "            processedText.append('')\n",
        "\n",
        "    return processedText\n",
        "\n",
        "processed_tweets = preprocess(data['full_text'])\n"
      ]
    },
    {
      "cell_type": "code",
      "execution_count": null,
      "metadata": {
        "id": "UCrwYrvw3ziK"
      },
      "outputs": [],
      "source": [
        "# Assign the preprocessed tweets stored in the 'processed_tweets' list to a new column named 'preprocessed_text' in the DataFrame 'data'.\n",
        "data['preprocessed_text'] = processed_tweets"
      ]
    },
    {
      "cell_type": "code",
      "execution_count": null,
      "metadata": {
        "id": "L-D_UA_7hVQo"
      },
      "outputs": [],
      "source": [
        "# Handle missing values\n",
        "data.dropna(inplace=True)"
      ]
    },
    {
      "cell_type": "code",
      "execution_count": null,
      "metadata": {
        "id": "ad8Dn_oehf7w"
      },
      "outputs": [],
      "source": [
        "# Handle Duplicate values\n",
        "data.drop_duplicates(inplace=True)"
      ]
    },
    {
      "cell_type": "code",
      "execution_count": null,
      "metadata": {
        "id": "JfR2JQlQhoXW"
      },
      "outputs": [],
      "source": [
        "# Remove < 3 words in full text rows\n",
        "data= data[data['preprocessed_text'].apply(lambda x: len(x.split()) > 2)]"
      ]
    },
    {
      "cell_type": "code",
      "execution_count": null,
      "metadata": {
        "colab": {
          "base_uri": "https://localhost:8080/"
        },
        "id": "kAaVauGG3ziK",
        "outputId": "b02fcdd9-8bbc-4cf9-ff39-594d65ad3338"
      },
      "outputs": [
        {
          "name": "stdout",
          "output_type": "stream",
          "text": [
            "  tweet_created_at        id_str  \\\n",
            "0       2024-01-19  1.748490e+18   \n",
            "1       2024-01-19  1.748490e+18   \n",
            "2       2024-01-19  1.748480e+18   \n",
            "3       2024-01-19  1.748480e+18   \n",
            "4       2024-01-19  1.748480e+18   \n",
            "5       2024-01-19  1.748470e+18   \n",
            "6       2024-01-19  1.748470e+18   \n",
            "7       2024-01-19  1.748470e+18   \n",
            "8       2024-01-19  1.748470e+18   \n",
            "9       2024-01-19  1.748460e+18   \n",
            "\n",
            "                                           full_text  \\\n",
            "0  @_VALKlNG @FabrizioRomano And yet Benzema and ...   \n",
            "1  @YemisiKolaa Talking Ronaldo is the only top p...   \n",
            "2  @_moose_b @THEBOY450066551 @sparkles_art1 @tot...   \n",
            "3  @FabrizioRomano Obviously who knows Ligue one ...   \n",
            "4  @Nadal_istheGOAT @FabrizioRomano You've forgot...   \n",
            "5  @City_Chief @pmcafrica Football is a short ter...   \n",
            "6  @knai22 Players even want to leave the Saudi l...   \n",
            "7  @gatocabron49 @PandaNoComply @FabrizioRomano N...   \n",
            "8  @FabrizioRomano Almighty Benzema could not ban...   \n",
            "9  @Ligue1_ENG Lol this was his first game at Sau...   \n",
            "\n",
            "                                   preprocessed_text  \n",
            "0  USER USER and yet benzema and co dy stink for ...  \n",
            "1  USER talking ronaldo is the only top player at...  \n",
            "2  USER USER USER USER USER i m speaking reality ...  \n",
            "3  USER obviously who knows ligue one players  on...  \n",
            "4  USER USER you ve forgotten benzema  firminho  ...  \n",
            "5  USER USER football is a short term career it s...  \n",
            "6  USER players even want to leave the saudi leag...  \n",
            "7  USER USER USER not only ligue 2  any country w...  \n",
            "8  USER almighty benzema could not bang 20 goals ...  \n",
            "9  USER lol this was his first game at saudi and ...  \n"
          ]
        }
      ],
      "source": [
        "# Display the updated dataset\n",
        "print(data.head(10))"
      ]
    },
    {
      "cell_type": "code",
      "execution_count": null,
      "metadata": {
        "id": "Len-yqB03ziL"
      },
      "outputs": [],
      "source": [
        "del data['tweet_created_at']"
      ]
    },
    {
      "cell_type": "code",
      "execution_count": null,
      "metadata": {
        "id": "9BzHbOsJ3ziL"
      },
      "outputs": [],
      "source": [
        "del data['full_text']"
      ]
    },
    {
      "cell_type": "code",
      "execution_count": null,
      "metadata": {
        "id": "V5GKII0-sYAZ"
      },
      "outputs": [],
      "source": [
        "del data['id_str']"
      ]
    },
    {
      "cell_type": "code",
      "execution_count": null,
      "metadata": {
        "colab": {
          "base_uri": "https://localhost:8080/"
        },
        "id": "iyKjRgamsFw7",
        "outputId": "60d2ca06-9001-4255-9cec-01dfc6bf0c62"
      },
      "outputs": [
        {
          "data": {
            "text/plain": [
              "(130300, 1)"
            ]
          },
          "execution_count": 64,
          "metadata": {},
          "output_type": "execute_result"
        }
      ],
      "source": [
        "data.shape"
      ]
    },
    {
      "cell_type": "code",
      "execution_count": null,
      "metadata": {
        "colab": {
          "base_uri": "https://localhost:8080/"
        },
        "id": "doB6vR8k3ziL",
        "outputId": "c7c6c1e9-1e24-46ae-9d90-1d96be1cc7f6"
      },
      "outputs": [
        {
          "name": "stdout",
          "output_type": "stream",
          "text": [
            "<class 'pandas.core.frame.DataFrame'>\n",
            "Int64Index: 130300 entries, 0 to 132014\n",
            "Data columns (total 1 columns):\n",
            " #   Column             Non-Null Count   Dtype \n",
            "---  ------             --------------   ----- \n",
            " 0   preprocessed_text  130300 non-null  object\n",
            "dtypes: object(1)\n",
            "memory usage: 2.0+ MB\n"
          ]
        }
      ],
      "source": [
        "data.info()"
      ]
    },
    {
      "cell_type": "code",
      "execution_count": null,
      "metadata": {
        "colab": {
          "base_uri": "https://localhost:8080/"
        },
        "id": "SZ0rciW23ziM",
        "outputId": "bf1ec424-a2a9-455c-8e6f-37d7bff11609"
      },
      "outputs": [
        {
          "data": {
            "text/plain": [
              "preprocessed_text    123087\n",
              "dtype: int64"
            ]
          },
          "execution_count": 66,
          "metadata": {},
          "output_type": "execute_result"
        }
      ],
      "source": [
        "data.nunique()"
      ]
    },
    {
      "cell_type": "code",
      "execution_count": null,
      "metadata": {
        "id": "zpVIkDM63ziM"
      },
      "outputs": [],
      "source": [
        "# Save the preprocessed data to a new CSV file\n",
        "data.to_csv('/finaldatasetpreprocessed.csv', index=False)"
      ]
    },
    {
      "cell_type": "markdown",
      "metadata": {
        "id": "B5-Mkyrx8knY"
      },
      "source": [
        "# Tokenization, Steaming, and Lemmatization, Remove stopwords"
      ]
    },
    {
      "cell_type": "code",
      "execution_count": null,
      "metadata": {
        "colab": {
          "base_uri": "https://localhost:8080/"
        },
        "id": "pRsfmPDh6ew6",
        "outputId": "06044573-9e11-4b38-a13c-91578799d2ce"
      },
      "outputs": [
        {
          "name": "stdout",
          "output_type": "stream",
          "text": [
            "Original Data:\n",
            "                                   preprocessed_text\n",
            "0  USER USER and yet benzema and co dy stink for ...\n",
            "1  USER talking ronaldo is the only top player at...\n",
            "2  USER USER USER USER USER i m speaking reality ...\n",
            "3  USER obviously who knows ligue one players  on...\n",
            "4  USER USER you ve forgotten benzema  firminho  ...\n",
            "\n",
            "Data Info:\n",
            "<class 'pandas.core.frame.DataFrame'>\n",
            "RangeIndex: 130300 entries, 0 to 130299\n",
            "Data columns (total 1 columns):\n",
            " #   Column             Non-Null Count   Dtype \n",
            "---  ------             --------------   ----- \n",
            " 0   preprocessed_text  130300 non-null  object\n",
            "dtypes: object(1)\n",
            "memory usage: 1018.1+ KB\n",
            "None\n",
            "\n",
            "Preprocessed Data:\n",
            "                                   preprocessed_text  \\\n",
            "0  USER USER and yet benzema and co dy stink for ...   \n",
            "1  USER talking ronaldo is the only top player at...   \n",
            "2  USER USER USER USER USER i m speaking reality ...   \n",
            "3  USER obviously who knows ligue one players  on...   \n",
            "4  USER USER you ve forgotten benzema  firminho  ...   \n",
            "\n",
            "                         preprocessed_text_tokenized  \n",
            "0          [yet, benzema, co, dy, stink, saudi, lol]  \n",
            "1  [talk, ronaldo, top, player, saudi, benzema, m...  \n",
            "2  [speak, reality, penaldo, delude, hate, see, s...  \n",
            "3  [obviously, know, ligue, one, player, psg, un,...  \n",
            "4  [forgotten, benzema, firminho, mahrez, also, p...  \n",
            "Processed data saved to finalpreprocesseddataset.csv\n"
          ]
        }
      ],
      "source": [
        "def get_wordnet_pos(word):\n",
        "    tag = nltk.pos_tag([word])[0][1][0].upper()\n",
        "    tag_dict = {\"J\": wordnet.ADJ, \"N\": wordnet.NOUN, \"V\": wordnet.VERB, \"R\": wordnet.ADV}\n",
        "    return tag_dict.get(tag, wordnet.NOUN)\n",
        "\n",
        "\n",
        "# Function to tokenize, remove stop words, and lemmatize text data\n",
        "def preprocess_text(df, text_column):\n",
        "    tokenizer = TweetTokenizer()\n",
        "    stop_words = set(stopwords.words('english'))\n",
        "    lemmatizer = WordNetLemmatizer()\n",
        "\n",
        "    df[text_column + '_tokenized'] = df[text_column].apply(tokenizer.tokenize)\n",
        "    df[text_column + '_tokenized'] = df[text_column + '_tokenized'].apply(lambda tokens: [lemmatizer.lemmatize(token, get_wordnet_pos(token)) for token in tokens if token.lower() not in stop_words])\n",
        "\n",
        "    # Remove instances of the word 'user'\n",
        "    df[text_column + '_tokenized'] = df[text_column + '_tokenized'].apply(lambda tokens: [token for token in tokens if token.lower() != 'user'])\n",
        "    df[text_column + '_tokenized'] = df[text_column + '_tokenized'].apply(lambda tokens: [token for token in tokens if not token.isdigit()])\n",
        "    return df\n",
        "\n",
        "\n",
        "\n",
        "# Function to save the DataFrame to a new CSV file\n",
        "def save_to_csv(df, output_filename):\n",
        "    df.to_csv(output_filename, index=False)\n",
        "    print(f\"Processed data saved to {output_filename}\")\n",
        "\n",
        "# Load the data\n",
        "file_path ='/finaldatasetpreprocessed.csv'\n",
        "data = pd.read_csv(file_path, low_memory=False)\n",
        "\n",
        "# Explore the data\n",
        "print(\"Original Data:\")\n",
        "print(data.head())\n",
        "print(\"\\nData Info:\")\n",
        "print(data.info())\n",
        "\n",
        "# Specify the text column in the DataFrame\n",
        "text_column = 'preprocessed_text'\n",
        "\n",
        "# Preprocessing pipeline\n",
        "data = preprocess_text(data, text_column)\n",
        "\n",
        "# Explore the preprocessed data\n",
        "print(\"\\nPreprocessed Data:\")\n",
        "print(data.head())\n",
        "\n",
        "# Save the processed data to a new CSV file\n",
        "output_filename = 'finalpreprocesseddataset.csv'\n",
        "save_to_csv(data, output_filename)"
      ]
    },
    {
      "cell_type": "code",
      "execution_count": null,
      "metadata": {
        "id": "a-fqWqyn85h6"
      },
      "outputs": [],
      "source": [
        "del data['preprocessed_text']"
      ]
    },
    {
      "cell_type": "code",
      "execution_count": null,
      "metadata": {
        "id": "SncRFjdPnosG"
      },
      "outputs": [],
      "source": [
        "data.dropna(inplace=True)"
      ]
    },
    {
      "cell_type": "code",
      "execution_count": null,
      "metadata": {
        "id": "xiwDIu3vnsi2"
      },
      "outputs": [],
      "source": [
        "data.drop_duplicates(inplace=True)"
      ]
    },
    {
      "cell_type": "code",
      "execution_count": null,
      "metadata": {
        "id": "r0GTHarKnvLP"
      },
      "outputs": [],
      "source": [
        "data = data[data['preprocessed_text_tokenized'].apply(lambda x: len(x) > 2)]"
      ]
    },
    {
      "cell_type": "code",
      "execution_count": null,
      "metadata": {
        "colab": {
          "base_uri": "https://localhost:8080/"
        },
        "id": "5u1BsGyDxato",
        "outputId": "b0094215-f350-4345-a7fa-ff0905d2c4bd"
      },
      "outputs": [
        {
          "data": {
            "text/plain": [
              "(118298, 1)"
            ]
          },
          "execution_count": 73,
          "metadata": {},
          "output_type": "execute_result"
        }
      ],
      "source": [
        "# After preprocessing\n",
        "data.shape"
      ]
    },
    {
      "cell_type": "markdown",
      "metadata": {
        "id": "jrm5789D87_r"
      },
      "source": [
        "# Save the processed data to a new CSV file"
      ]
    },
    {
      "cell_type": "code",
      "execution_count": null,
      "metadata": {
        "colab": {
          "base_uri": "https://localhost:8080/"
        },
        "id": "NBSskL7o8alj",
        "outputId": "300573a1-f589-44d1-d186-52c822c8d309"
      },
      "outputs": [
        {
          "name": "stdout",
          "output_type": "stream",
          "text": [
            "Processed data saved to final_dataset.csv\n",
            "Dataset have been saved successfully to final_dataset.csv file\n"
          ]
        }
      ],
      "source": [
        "# Save the processed data to a new CSV file\n",
        "output_filename = 'final_dataset.csv'\n",
        "save_to_csv(data, output_filename)\n",
        "print(\"Dataset have been saved successfully to\", output_filename, \"file\")"
      ]
    }
  ],
  "metadata": {
    "colab": {
      "provenance": []
    },
    "kaggle": {
      "accelerator": "none",
      "dataSources": [
        {
          "datasetId": 17,
          "sourceId": 742210,
          "sourceType": "datasetVersion"
        },
        {
          "datasetId": 2436653,
          "sourceId": 4122845,
          "sourceType": "datasetVersion"
        }
      ],
      "dockerImageVersionId": 30235,
      "isGpuEnabled": false,
      "isInternetEnabled": false,
      "language": "python",
      "sourceType": "notebook"
    },
    "kernelspec": {
      "display_name": "Python 3",
      "name": "python3"
    },
    "language_info": {
      "codemirror_mode": {
        "name": "ipython",
        "version": 3
      },
      "file_extension": ".py",
      "mimetype": "text/x-python",
      "name": "python",
      "nbconvert_exporter": "python",
      "pygments_lexer": "ipython3",
      "version": "3.11.5"
    }
  },
  "nbformat": 4,
  "nbformat_minor": 0
}
