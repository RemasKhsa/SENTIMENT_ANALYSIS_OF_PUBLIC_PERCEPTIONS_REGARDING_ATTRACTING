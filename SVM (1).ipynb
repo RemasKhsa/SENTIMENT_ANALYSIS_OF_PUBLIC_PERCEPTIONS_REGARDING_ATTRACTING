{
  "cells": [
    {
      "cell_type": "code",
      "execution_count": null,
      "metadata": {
        "colab": {
          "base_uri": "https://localhost:8080/"
        },
        "id": "Yq0w3VBDhYG4",
        "outputId": "b71ae643-7982-4622-ea4a-4900801fcdac"
      },
      "outputs": [
        {
          "name": "stdout",
          "output_type": "stream",
          "text": [
            "Requirement already satisfied: seaborn in /usr/local/lib/python3.10/dist-packages (0.13.1)\n",
            "Requirement already satisfied: matplotlib in /usr/local/lib/python3.10/dist-packages (3.7.1)\n",
            "Requirement already satisfied: numpy!=1.24.0,>=1.20 in /usr/local/lib/python3.10/dist-packages (from seaborn) (1.25.2)\n",
            "Requirement already satisfied: pandas>=1.2 in /usr/local/lib/python3.10/dist-packages (from seaborn) (2.0.3)\n",
            "Requirement already satisfied: contourpy>=1.0.1 in /usr/local/lib/python3.10/dist-packages (from matplotlib) (1.2.0)\n",
            "Requirement already satisfied: cycler>=0.10 in /usr/local/lib/python3.10/dist-packages (from matplotlib) (0.12.1)\n",
            "Requirement already satisfied: fonttools>=4.22.0 in /usr/local/lib/python3.10/dist-packages (from matplotlib) (4.50.0)\n",
            "Requirement already satisfied: kiwisolver>=1.0.1 in /usr/local/lib/python3.10/dist-packages (from matplotlib) (1.4.5)\n",
            "Requirement already satisfied: packaging>=20.0 in /usr/local/lib/python3.10/dist-packages (from matplotlib) (24.0)\n",
            "Requirement already satisfied: pillow>=6.2.0 in /usr/local/lib/python3.10/dist-packages (from matplotlib) (9.4.0)\n",
            "Requirement already satisfied: pyparsing>=2.3.1 in /usr/local/lib/python3.10/dist-packages (from matplotlib) (3.1.2)\n",
            "Requirement already satisfied: python-dateutil>=2.7 in /usr/local/lib/python3.10/dist-packages (from matplotlib) (2.8.2)\n",
            "Requirement already satisfied: pytz>=2020.1 in /usr/local/lib/python3.10/dist-packages (from pandas>=1.2->seaborn) (2023.4)\n",
            "Requirement already satisfied: tzdata>=2022.1 in /usr/local/lib/python3.10/dist-packages (from pandas>=1.2->seaborn) (2024.1)\n",
            "Requirement already satisfied: six>=1.5 in /usr/local/lib/python3.10/dist-packages (from python-dateutil>=2.7->matplotlib) (1.16.0)\n"
          ]
        }
      ],
      "source": [
        "# Install necessary libraries\n",
        "!pip install seaborn matplotlib"
      ]
    },
    {
      "cell_type": "code",
      "execution_count": null,
      "metadata": {
        "colab": {
          "base_uri": "https://localhost:8080/",
          "height": 1000
        },
        "id": "b6o1xdO5hfjO",
        "outputId": "b5ab4d1d-c01f-493f-c044-66425d88bea1"
      },
      "outputs": [
        {
          "output_type": "stream",
          "name": "stdout",
          "text": [
            "Fitting 5 folds for each of 12 candidates, totalling 60 fits\n",
            "[CV] END .....................C=0.1, gamma=scale, kernel=rbf; total time= 5.0min\n",
            "[CV] END .....................C=0.1, gamma=scale, kernel=rbf; total time= 5.3min\n",
            "[CV] END .....................C=0.1, gamma=scale, kernel=rbf; total time= 5.2min\n",
            "[CV] END .....................C=0.1, gamma=scale, kernel=rbf; total time= 5.2min\n",
            "[CV] END .....................C=0.1, gamma=scale, kernel=rbf; total time= 5.3min\n",
            "[CV] END ..................C=0.1, gamma=scale, kernel=linear; total time= 3.3min\n",
            "[CV] END ..................C=0.1, gamma=scale, kernel=linear; total time= 3.3min\n",
            "[CV] END ..................C=0.1, gamma=scale, kernel=linear; total time= 3.3min\n",
            "[CV] END ..................C=0.1, gamma=scale, kernel=linear; total time= 3.4min\n",
            "[CV] END ..................C=0.1, gamma=scale, kernel=linear; total time= 3.3min\n",
            "[CV] END ......................C=0.1, gamma=auto, kernel=rbf; total time= 4.1min\n",
            "[CV] END ......................C=0.1, gamma=auto, kernel=rbf; total time= 4.2min\n",
            "[CV] END ......................C=0.1, gamma=auto, kernel=rbf; total time= 4.4min\n",
            "[CV] END ......................C=0.1, gamma=auto, kernel=rbf; total time= 4.5min\n",
            "[CV] END ......................C=0.1, gamma=auto, kernel=rbf; total time= 4.3min\n",
            "[CV] END ...................C=0.1, gamma=auto, kernel=linear; total time= 3.4min\n",
            "[CV] END ...................C=0.1, gamma=auto, kernel=linear; total time= 3.4min\n",
            "[CV] END ...................C=0.1, gamma=auto, kernel=linear; total time= 3.4min\n",
            "[CV] END ...................C=0.1, gamma=auto, kernel=linear; total time= 3.4min\n",
            "[CV] END ...................C=0.1, gamma=auto, kernel=linear; total time= 3.4min\n",
            "[CV] END .......................C=1, gamma=scale, kernel=rbf; total time= 8.9min\n",
            "[CV] END .......................C=1, gamma=scale, kernel=rbf; total time= 8.9min\n",
            "[CV] END .......................C=1, gamma=scale, kernel=rbf; total time= 9.1min\n",
            "[CV] END .......................C=1, gamma=scale, kernel=rbf; total time= 9.3min\n",
            "[CV] END .......................C=1, gamma=scale, kernel=rbf; total time= 9.3min\n",
            "[CV] END ....................C=1, gamma=scale, kernel=linear; total time= 3.0min\n",
            "[CV] END ....................C=1, gamma=scale, kernel=linear; total time= 3.0min\n",
            "[CV] END ....................C=1, gamma=scale, kernel=linear; total time= 3.1min\n",
            "[CV] END ....................C=1, gamma=scale, kernel=linear; total time= 2.9min\n",
            "[CV] END ....................C=1, gamma=scale, kernel=linear; total time= 3.1min\n",
            "[CV] END ........................C=1, gamma=auto, kernel=rbf; total time= 4.8min\n",
            "[CV] END ........................C=1, gamma=auto, kernel=rbf; total time= 4.8min\n",
            "[CV] END ........................C=1, gamma=auto, kernel=rbf; total time= 4.7min\n",
            "[CV] END ........................C=1, gamma=auto, kernel=rbf; total time= 4.8min\n",
            "[CV] END ........................C=1, gamma=auto, kernel=rbf; total time= 4.7min\n",
            "[CV] END .....................C=1, gamma=auto, kernel=linear; total time= 3.2min\n",
            "[CV] END .....................C=1, gamma=auto, kernel=linear; total time= 3.1min\n",
            "[CV] END .....................C=1, gamma=auto, kernel=linear; total time= 3.1min\n",
            "[CV] END .....................C=1, gamma=auto, kernel=linear; total time= 3.0min\n",
            "[CV] END .....................C=1, gamma=auto, kernel=linear; total time= 3.1min\n",
            "[CV] END ......................C=10, gamma=scale, kernel=rbf; total time=11.8min\n",
            "[CV] END ......................C=10, gamma=scale, kernel=rbf; total time=11.8min\n",
            "[CV] END ......................C=10, gamma=scale, kernel=rbf; total time=11.0min\n",
            "[CV] END ......................C=10, gamma=scale, kernel=rbf; total time=11.2min\n",
            "[CV] END ......................C=10, gamma=scale, kernel=rbf; total time=11.1min\n",
            "[CV] END ...................C=10, gamma=scale, kernel=linear; total time= 5.2min\n",
            "[CV] END ...................C=10, gamma=scale, kernel=linear; total time= 4.9min\n",
            "[CV] END ...................C=10, gamma=scale, kernel=linear; total time= 5.0min\n",
            "[CV] END ...................C=10, gamma=scale, kernel=linear; total time= 5.1min\n",
            "[CV] END ...................C=10, gamma=scale, kernel=linear; total time= 5.1min\n",
            "[CV] END .......................C=10, gamma=auto, kernel=rbf; total time= 4.8min\n",
            "[CV] END .......................C=10, gamma=auto, kernel=rbf; total time= 4.8min\n",
            "[CV] END .......................C=10, gamma=auto, kernel=rbf; total time= 4.8min\n",
            "[CV] END .......................C=10, gamma=auto, kernel=rbf; total time= 4.8min\n",
            "[CV] END .......................C=10, gamma=auto, kernel=rbf; total time= 4.7min\n",
            "[CV] END ....................C=10, gamma=auto, kernel=linear; total time= 5.3min\n",
            "[CV] END ....................C=10, gamma=auto, kernel=linear; total time= 5.1min\n",
            "[CV] END ....................C=10, gamma=auto, kernel=linear; total time= 5.1min\n",
            "[CV] END ....................C=10, gamma=auto, kernel=linear; total time= 5.2min\n",
            "[CV] END ....................C=10, gamma=auto, kernel=linear; total time= 5.0min\n",
            "{'C': 1, 'gamma': 'scale', 'kernel': 'linear'}\n",
            "SVC(C=1, kernel='linear')\n",
            "Processed data saved to SVM_test_predictions.csv\n",
            "Confusion Matrix:\n",
            "[[1532   93  203]\n",
            " [  50 3285  133]\n",
            " [ 177  458 4192]]\n",
            "\n",
            "Classification Report:\n",
            "              precision    recall  f1-score   support\n",
            "\n",
            "          -1       0.87      0.84      0.85      1828\n",
            "           0       0.86      0.95      0.90      3468\n",
            "           1       0.93      0.87      0.90      4827\n",
            "\n",
            "    accuracy                           0.89     10123\n",
            "   macro avg       0.88      0.88      0.88     10123\n",
            "weighted avg       0.89      0.89      0.89     10123\n",
            "\n"
          ]
        },
        {
          "output_type": "display_data",
          "data": {
            "text/plain": [
              "<Figure size 800x600 with 2 Axes>"
            ],
            "image/png": "[encoded data removed]"
          },
          "metadata": {}
        },
        {
          "output_type": "stream",
          "name": "stdout",
          "text": [
            "AUC: 0.9609147939141883\n"
          ]
        }
      ],
      "source": [
        "import pandas as pd\n",
        "from textblob import TextBlob\n",
        "from sklearn.feature_extraction.text import TfidfVectorizer\n",
        "from sklearn.model_selection import train_test_split\n",
        "from sklearn.svm import SVC\n",
        "from sklearn.model_selection import GridSearchCV\n",
        "from sklearn.metrics import classification_report, confusion_matrix, roc_auc_score\n",
        "import seaborn as sns\n",
        "import matplotlib.pyplot as plt\n",
        "\n",
        "# Function to save the DataFrame to a new CSV file\n",
        "def save_to_csv(df, output_filename):\n",
        "    df.to_csv(output_filename, index=False)\n",
        "    print(f\"Processed data saved to {output_filename}\")\n",
        "\n",
        "# Load the preprocessed data\n",
        "file_path = '/content/10Benzema20Neymar26RonaldoUPDATED.csv'\n",
        "data = pd.read_csv(file_path, low_memory=False)\n",
        "\n",
        "# Specify the tokenized text column in your DataFrame\n",
        "text = 'preprocessed_text_tokenized'\n",
        "\n",
        "# Function to calculate polarity and assign labels\n",
        "def get_polarity(text):\n",
        "    analysis = TextBlob(text)\n",
        "    return analysis.sentiment.polarity\n",
        "\n",
        "# Apply the sentiment analysis function to the 'text_data' column and create a new 'polarity' column\n",
        "data['polarity'] = data[text].apply(get_polarity)\n",
        "\n",
        "# Assign labels based on polarity\n",
        "data['polarity_label'] = data['polarity'].apply(lambda x: 'positive' if x > 0 else 'negative' if x < 0 else 'neutral')\n",
        "data['polarity_label'] = data['polarity_label'].map({'negative': -1,'neutral': 0, 'positive': 1})\n",
        "\n",
        "# TF-IDF Vectorization\n",
        "tfidf = TfidfVectorizer(stop_words='english', max_features=5000)  # You can adjust max_features as needed\n",
        "X = tfidf.fit_transform(data['preprocessed_text_tokenized'])\n",
        "y = data['polarity_label']\n",
        "\n",
        "# Train-test split\n",
        "X_train, X_test, y_train, y_test = train_test_split(X, y, test_size=0.2, random_state=42)\n",
        "\n",
        "# SVM model with GridSearchCV\n",
        "svm_model = SVC()\n",
        "param_grid = {'C': [0.1, 1, 10], 'gamma': ['scale', 'auto'], 'kernel': ['rbf', 'linear']}\n",
        "grid = GridSearchCV(svm_model, param_grid, refit=True, verbose=2)\n",
        "grid.fit(X_train, y_train)\n",
        "\n",
        "print(grid.best_params_)\n",
        "print(grid.best_estimator_)\n",
        "\n",
        "# Create the model with the best parameters\n",
        "svm_best = SVC(C=10, gamma='scale', kernel='linear', probability=True)\n",
        "\n",
        "# Train the model\n",
        "svm_best.fit(X_train, y_train)\n",
        "\n",
        "# Predict on the test data\n",
        "y_pred = svm_best.predict(X_test)\n",
        "\n",
        "# Save the test predictions data\n",
        "test_predictions_df = pd.DataFrame({'Text': data.loc[y_test.index, text],\n",
        "                                    'Actual_Labels': y_test,\n",
        "                                    'Predicted_Labels': y_pred})\n",
        "save_to_csv(test_predictions_df, 'SVM_test_predictions.csv')\n",
        "\n",
        "# Print the confusion matrix\n",
        "print(\"Confusion Matrix:\")\n",
        "print(confusion_matrix(y_test, y_pred))\n",
        "\n",
        "# Print a classification report to see precision, recall, and F1-score\n",
        "print(\"\\nClassification Report:\")\n",
        "print(classification_report(y_test, y_pred))\n",
        "\n",
        "# Visualize the confusion matrix\n",
        "conf_matrix = confusion_matrix(y_test, y_pred)\n",
        "plt.figure(figsize=(8, 6))\n",
        "sns.heatmap(conf_matrix, annot=True, fmt=\"d\", cmap=\"Blues\",\n",
        "            xticklabels=['Negative', 'Neutral', 'Positive'],\n",
        "            yticklabels=['Negative', 'Neutral', 'Positive'])\n",
        "plt.xlabel('Predicted Label')\n",
        "plt.ylabel('True Label')\n",
        "plt.title('Confusion Matrix')\n",
        "plt.show()\n",
        "\n",
        "# Calculate and print the AUC using the one-vs-rest (OvR) strategy\n",
        "y_prob = svm_best.predict_proba(X_test)\n",
        "auc = roc_auc_score(y_test, y_prob, multi_class='ovr')\n",
        "print(\"AUC:\", auc)"
      ]
    },
    {
      "cell_type": "code",
      "source": [
        "import pandas as pd\n",
        "\n",
        "# Read the test predictions file\n",
        "data = pd.read_csv(\"/content/SVM_test_predictions.csv\")\n",
        "\n",
        "# Extract the \"Predicted_Labels\" column\n",
        "predicted_labels = data[\"Predicted_Labels\"]\n",
        "\n",
        "# Count the occurrences of each label\n",
        "positive_count = (predicted_labels == 1).sum()\n",
        "negative_count = (predicted_labels == -1).sum()\n",
        "neutral_count = (predicted_labels == 0).sum()\n",
        "\n",
        "# Calculate the percentage of each label category\n",
        "total_samples = len(predicted_labels)\n",
        "positive_percentage = (positive_count / total_samples) * 100\n",
        "negative_percentage = (negative_count / total_samples) * 100\n",
        "neutral_percentage = (neutral_count / total_samples) * 100\n",
        "\n",
        "# Display the results\n",
        "print(\"Positive Percentage: {:.2f}%\".format(positive_percentage))\n",
        "print(\"Negative Percentage: {:.2f}%\".format(negative_percentage))\n",
        "print(\"Neutral Percentage: {:.2f}%\".format(neutral_percentage))"
      ],
      "metadata": {
        "id": "zWuT-IF3NRM0",
        "outputId": "7eab102f-6734-409a-f704-9e4e63162446",
        "colab": {
          "base_uri": "https://localhost:8080/"
        }
      },
      "execution_count": 2,
      "outputs": [
        {
          "output_type": "stream",
          "name": "stdout",
          "text": [
            "Positive Percentage: 44.73%\n",
            "Negative Percentage: 17.38%\n",
            "Neutral Percentage: 37.89%\n"
          ]
        }
      ]
    }
  ],
  "metadata": {
    "colab": {
      "provenance": []
    },
    "kernelspec": {
      "display_name": "Python 3",
      "name": "python3"
    },
    "language_info": {
      "name": "python"
    }
  },
  "nbformat": 4,
  "nbformat_minor": 0
}